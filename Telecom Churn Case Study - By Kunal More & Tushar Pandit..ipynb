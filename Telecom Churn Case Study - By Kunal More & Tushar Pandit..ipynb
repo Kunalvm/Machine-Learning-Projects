{
 "cells": [
  {
   "cell_type": "markdown",
   "metadata": {},
   "source": [
    "# TELECOM CHURN - GROUP CASE STUDY\n"
   ]
  },
  {
   "cell_type": "markdown",
   "metadata": {},
   "source": [
    "## Problem Statement :-\n"
   ]
  },
  {
   "cell_type": "markdown",
   "metadata": {},
   "source": [
    "### - Business Problem Overview\n",
    "In the telecom industry, customers are able to choose from multiple service providers and actively switch from one operator to another. In this highly competitive market, the telecommunications industry experiences an average of 15-25% annual churn rate. Given the fact that it costs 5-10 times more to acquire a new customer than to retain an existing one, customer retention has now become even more important than customer acquisition.<br>"
   ]
  },
  {
   "cell_type": "markdown",
   "metadata": {},
   "source": [
    "## Main Goals:-\n",
    "- For many incumbent operators, retaining high profitable customers is the number one business goal. <br>\n",
    "- To reduce customer churn, telecom companies need to predict which customers are at high risk of churn.<br>"
   ]
  },
  {
   "cell_type": "markdown",
   "metadata": {},
   "source": [
    "####  In this project, We will be analyse customer-level data of a leading telecom firm, build predictive models to identify customers at high risk of churn and identify the main indicators of churn."
   ]
  },
  {
   "cell_type": "code",
   "execution_count": 1,
   "metadata": {},
   "outputs": [],
   "source": [
    "# Supressing the warnings first\n",
    "import warnings\n",
    "warnings.filterwarnings('ignore')\n",
    "\n",
    "# Importing all required packages\n",
    "import numpy as np\n",
    "import pandas as pd\n",
    "import matplotlib.pyplot as plt\n",
    "%matplotlib inline"
   ]
  },
  {
   "cell_type": "code",
   "execution_count": 2,
   "metadata": {},
   "outputs": [],
   "source": [
    "import seaborn as sns\n",
    "from sklearn import linear_model\n",
    "from sklearn.linear_model import LinearRegression\n",
    "from sklearn.model_selection import train_test_split\n",
    "from sklearn.pipeline import Pipeline\n",
    "from sklearn.decomposition import PCA\n",
    "from sklearn.preprocessing import StandardScaler\n",
    "from sklearn.pipeline import FeatureUnion"
   ]
  },
  {
   "cell_type": "code",
   "execution_count": 3,
   "metadata": {},
   "outputs": [],
   "source": [
    "from sklearn.base import BaseEstimator, TransformerMixin\n",
    "from sklearn.linear_model import LogisticRegression\n",
    "from sklearn.metrics import classification_report\n",
    "from sklearn.metrics import roc_auc_score\n",
    "from sklearn.model_selection import StratifiedKFold\n",
    "from sklearn.model_selection import cross_val_score\n",
    "from sklearn.metrics import confusion_matrix\n",
    "from sklearn.model_selection import GridSearchCV\n",
    "from sklearn.ensemble import RandomForestClassifier\n",
    "from sklearn.ensemble import GradientBoostingClassifier\n",
    "from sklearn.svm import SVC"
   ]
  },
  {
   "cell_type": "code",
   "execution_count": 4,
   "metadata": {},
   "outputs": [],
   "source": [
    "# Reading the dataset\n",
    "tel = pd.read_csv('telecom_churn_data.csv')\n"
   ]
  },
  {
   "cell_type": "code",
   "execution_count": 5,
   "metadata": {},
   "outputs": [
    {
     "data": {
      "text/html": [
       "<div>\n",
       "<style scoped>\n",
       "    .dataframe tbody tr th:only-of-type {\n",
       "        vertical-align: middle;\n",
       "    }\n",
       "\n",
       "    .dataframe tbody tr th {\n",
       "        vertical-align: top;\n",
       "    }\n",
       "\n",
       "    .dataframe thead th {\n",
       "        text-align: right;\n",
       "    }\n",
       "</style>\n",
       "<table border=\"1\" class=\"dataframe\">\n",
       "  <thead>\n",
       "    <tr style=\"text-align: right;\">\n",
       "      <th></th>\n",
       "      <th>mobile_number</th>\n",
       "      <th>circle_id</th>\n",
       "      <th>loc_og_t2o_mou</th>\n",
       "      <th>std_og_t2o_mou</th>\n",
       "      <th>loc_ic_t2o_mou</th>\n",
       "      <th>last_date_of_month_6</th>\n",
       "      <th>last_date_of_month_7</th>\n",
       "      <th>last_date_of_month_8</th>\n",
       "      <th>last_date_of_month_9</th>\n",
       "      <th>arpu_6</th>\n",
       "      <th>...</th>\n",
       "      <th>sachet_3g_9</th>\n",
       "      <th>fb_user_6</th>\n",
       "      <th>fb_user_7</th>\n",
       "      <th>fb_user_8</th>\n",
       "      <th>fb_user_9</th>\n",
       "      <th>aon</th>\n",
       "      <th>aug_vbc_3g</th>\n",
       "      <th>jul_vbc_3g</th>\n",
       "      <th>jun_vbc_3g</th>\n",
       "      <th>sep_vbc_3g</th>\n",
       "    </tr>\n",
       "  </thead>\n",
       "  <tbody>\n",
       "    <tr>\n",
       "      <th>0</th>\n",
       "      <td>7000842753</td>\n",
       "      <td>109</td>\n",
       "      <td>0.0</td>\n",
       "      <td>0.0</td>\n",
       "      <td>0.0</td>\n",
       "      <td>6/30/2014</td>\n",
       "      <td>7/31/2014</td>\n",
       "      <td>8/31/2014</td>\n",
       "      <td>9/30/2014</td>\n",
       "      <td>197.385</td>\n",
       "      <td>...</td>\n",
       "      <td>0</td>\n",
       "      <td>1.0</td>\n",
       "      <td>1.0</td>\n",
       "      <td>1.0</td>\n",
       "      <td>NaN</td>\n",
       "      <td>968</td>\n",
       "      <td>30.4</td>\n",
       "      <td>0.0</td>\n",
       "      <td>101.20</td>\n",
       "      <td>3.58</td>\n",
       "    </tr>\n",
       "    <tr>\n",
       "      <th>1</th>\n",
       "      <td>7001865778</td>\n",
       "      <td>109</td>\n",
       "      <td>0.0</td>\n",
       "      <td>0.0</td>\n",
       "      <td>0.0</td>\n",
       "      <td>6/30/2014</td>\n",
       "      <td>7/31/2014</td>\n",
       "      <td>8/31/2014</td>\n",
       "      <td>9/30/2014</td>\n",
       "      <td>34.047</td>\n",
       "      <td>...</td>\n",
       "      <td>0</td>\n",
       "      <td>NaN</td>\n",
       "      <td>1.0</td>\n",
       "      <td>1.0</td>\n",
       "      <td>NaN</td>\n",
       "      <td>1006</td>\n",
       "      <td>0.0</td>\n",
       "      <td>0.0</td>\n",
       "      <td>0.00</td>\n",
       "      <td>0.00</td>\n",
       "    </tr>\n",
       "    <tr>\n",
       "      <th>2</th>\n",
       "      <td>7001625959</td>\n",
       "      <td>109</td>\n",
       "      <td>0.0</td>\n",
       "      <td>0.0</td>\n",
       "      <td>0.0</td>\n",
       "      <td>6/30/2014</td>\n",
       "      <td>7/31/2014</td>\n",
       "      <td>8/31/2014</td>\n",
       "      <td>9/30/2014</td>\n",
       "      <td>167.690</td>\n",
       "      <td>...</td>\n",
       "      <td>0</td>\n",
       "      <td>NaN</td>\n",
       "      <td>NaN</td>\n",
       "      <td>NaN</td>\n",
       "      <td>1.0</td>\n",
       "      <td>1103</td>\n",
       "      <td>0.0</td>\n",
       "      <td>0.0</td>\n",
       "      <td>4.17</td>\n",
       "      <td>0.00</td>\n",
       "    </tr>\n",
       "    <tr>\n",
       "      <th>3</th>\n",
       "      <td>7001204172</td>\n",
       "      <td>109</td>\n",
       "      <td>0.0</td>\n",
       "      <td>0.0</td>\n",
       "      <td>0.0</td>\n",
       "      <td>6/30/2014</td>\n",
       "      <td>7/31/2014</td>\n",
       "      <td>8/31/2014</td>\n",
       "      <td>9/30/2014</td>\n",
       "      <td>221.338</td>\n",
       "      <td>...</td>\n",
       "      <td>0</td>\n",
       "      <td>NaN</td>\n",
       "      <td>NaN</td>\n",
       "      <td>NaN</td>\n",
       "      <td>NaN</td>\n",
       "      <td>2491</td>\n",
       "      <td>0.0</td>\n",
       "      <td>0.0</td>\n",
       "      <td>0.00</td>\n",
       "      <td>0.00</td>\n",
       "    </tr>\n",
       "    <tr>\n",
       "      <th>4</th>\n",
       "      <td>7000142493</td>\n",
       "      <td>109</td>\n",
       "      <td>0.0</td>\n",
       "      <td>0.0</td>\n",
       "      <td>0.0</td>\n",
       "      <td>6/30/2014</td>\n",
       "      <td>7/31/2014</td>\n",
       "      <td>8/31/2014</td>\n",
       "      <td>9/30/2014</td>\n",
       "      <td>261.636</td>\n",
       "      <td>...</td>\n",
       "      <td>0</td>\n",
       "      <td>0.0</td>\n",
       "      <td>NaN</td>\n",
       "      <td>NaN</td>\n",
       "      <td>NaN</td>\n",
       "      <td>1526</td>\n",
       "      <td>0.0</td>\n",
       "      <td>0.0</td>\n",
       "      <td>0.00</td>\n",
       "      <td>0.00</td>\n",
       "    </tr>\n",
       "  </tbody>\n",
       "</table>\n",
       "<p>5 rows × 226 columns</p>\n",
       "</div>"
      ],
      "text/plain": [
       "   mobile_number  circle_id  loc_og_t2o_mou  std_og_t2o_mou  loc_ic_t2o_mou  \\\n",
       "0     7000842753        109             0.0             0.0             0.0   \n",
       "1     7001865778        109             0.0             0.0             0.0   \n",
       "2     7001625959        109             0.0             0.0             0.0   \n",
       "3     7001204172        109             0.0             0.0             0.0   \n",
       "4     7000142493        109             0.0             0.0             0.0   \n",
       "\n",
       "  last_date_of_month_6 last_date_of_month_7 last_date_of_month_8  \\\n",
       "0            6/30/2014            7/31/2014            8/31/2014   \n",
       "1            6/30/2014            7/31/2014            8/31/2014   \n",
       "2            6/30/2014            7/31/2014            8/31/2014   \n",
       "3            6/30/2014            7/31/2014            8/31/2014   \n",
       "4            6/30/2014            7/31/2014            8/31/2014   \n",
       "\n",
       "  last_date_of_month_9   arpu_6  ...  sachet_3g_9  fb_user_6  fb_user_7  \\\n",
       "0            9/30/2014  197.385  ...            0        1.0        1.0   \n",
       "1            9/30/2014   34.047  ...            0        NaN        1.0   \n",
       "2            9/30/2014  167.690  ...            0        NaN        NaN   \n",
       "3            9/30/2014  221.338  ...            0        NaN        NaN   \n",
       "4            9/30/2014  261.636  ...            0        0.0        NaN   \n",
       "\n",
       "   fb_user_8  fb_user_9   aon  aug_vbc_3g  jul_vbc_3g  jun_vbc_3g  sep_vbc_3g  \n",
       "0        1.0        NaN   968        30.4         0.0      101.20        3.58  \n",
       "1        1.0        NaN  1006         0.0         0.0        0.00        0.00  \n",
       "2        NaN        1.0  1103         0.0         0.0        4.17        0.00  \n",
       "3        NaN        NaN  2491         0.0         0.0        0.00        0.00  \n",
       "4        NaN        NaN  1526         0.0         0.0        0.00        0.00  \n",
       "\n",
       "[5 rows x 226 columns]"
      ]
     },
     "execution_count": 5,
     "metadata": {},
     "output_type": "execute_result"
    }
   ],
   "source": [
    "# Printing first five rows of the dataset.\n",
    "tel.head()"
   ]
  },
  {
   "cell_type": "code",
   "execution_count": 6,
   "metadata": {},
   "outputs": [
    {
     "data": {
      "text/plain": [
       "(99999, 226)"
      ]
     },
     "execution_count": 6,
     "metadata": {},
     "output_type": "execute_result"
    }
   ],
   "source": [
    "# The .shape code gives the no. of rows and columns\n",
    "tel.shape"
   ]
  },
  {
   "cell_type": "code",
   "execution_count": 7,
   "metadata": {},
   "outputs": [
    {
     "data": {
      "text/html": [
       "<div>\n",
       "<style scoped>\n",
       "    .dataframe tbody tr th:only-of-type {\n",
       "        vertical-align: middle;\n",
       "    }\n",
       "\n",
       "    .dataframe tbody tr th {\n",
       "        vertical-align: top;\n",
       "    }\n",
       "\n",
       "    .dataframe thead th {\n",
       "        text-align: right;\n",
       "    }\n",
       "</style>\n",
       "<table border=\"1\" class=\"dataframe\">\n",
       "  <thead>\n",
       "    <tr style=\"text-align: right;\">\n",
       "      <th></th>\n",
       "      <th>mobile_number</th>\n",
       "      <th>circle_id</th>\n",
       "      <th>loc_og_t2o_mou</th>\n",
       "      <th>std_og_t2o_mou</th>\n",
       "      <th>loc_ic_t2o_mou</th>\n",
       "      <th>arpu_6</th>\n",
       "      <th>arpu_7</th>\n",
       "      <th>arpu_8</th>\n",
       "      <th>arpu_9</th>\n",
       "      <th>onnet_mou_6</th>\n",
       "      <th>...</th>\n",
       "      <th>sachet_3g_9</th>\n",
       "      <th>fb_user_6</th>\n",
       "      <th>fb_user_7</th>\n",
       "      <th>fb_user_8</th>\n",
       "      <th>fb_user_9</th>\n",
       "      <th>aon</th>\n",
       "      <th>aug_vbc_3g</th>\n",
       "      <th>jul_vbc_3g</th>\n",
       "      <th>jun_vbc_3g</th>\n",
       "      <th>sep_vbc_3g</th>\n",
       "    </tr>\n",
       "  </thead>\n",
       "  <tbody>\n",
       "    <tr>\n",
       "      <th>count</th>\n",
       "      <td>9.999900e+04</td>\n",
       "      <td>99999.0</td>\n",
       "      <td>98981.0</td>\n",
       "      <td>98981.0</td>\n",
       "      <td>98981.0</td>\n",
       "      <td>99999.000000</td>\n",
       "      <td>99999.000000</td>\n",
       "      <td>99999.000000</td>\n",
       "      <td>99999.000000</td>\n",
       "      <td>96062.000000</td>\n",
       "      <td>...</td>\n",
       "      <td>99999.000000</td>\n",
       "      <td>25153.000000</td>\n",
       "      <td>25571.000000</td>\n",
       "      <td>26339.000000</td>\n",
       "      <td>25922.000000</td>\n",
       "      <td>99999.000000</td>\n",
       "      <td>99999.000000</td>\n",
       "      <td>99999.000000</td>\n",
       "      <td>99999.000000</td>\n",
       "      <td>99999.000000</td>\n",
       "    </tr>\n",
       "    <tr>\n",
       "      <th>mean</th>\n",
       "      <td>7.001207e+09</td>\n",
       "      <td>109.0</td>\n",
       "      <td>0.0</td>\n",
       "      <td>0.0</td>\n",
       "      <td>0.0</td>\n",
       "      <td>282.987358</td>\n",
       "      <td>278.536648</td>\n",
       "      <td>279.154731</td>\n",
       "      <td>261.645069</td>\n",
       "      <td>132.395875</td>\n",
       "      <td>...</td>\n",
       "      <td>0.084581</td>\n",
       "      <td>0.914404</td>\n",
       "      <td>0.908764</td>\n",
       "      <td>0.890808</td>\n",
       "      <td>0.860968</td>\n",
       "      <td>1219.854749</td>\n",
       "      <td>68.170248</td>\n",
       "      <td>66.839062</td>\n",
       "      <td>60.021204</td>\n",
       "      <td>3.299373</td>\n",
       "    </tr>\n",
       "    <tr>\n",
       "      <th>std</th>\n",
       "      <td>6.956694e+05</td>\n",
       "      <td>0.0</td>\n",
       "      <td>0.0</td>\n",
       "      <td>0.0</td>\n",
       "      <td>0.0</td>\n",
       "      <td>328.439770</td>\n",
       "      <td>338.156291</td>\n",
       "      <td>344.474791</td>\n",
       "      <td>341.998630</td>\n",
       "      <td>297.207406</td>\n",
       "      <td>...</td>\n",
       "      <td>0.650457</td>\n",
       "      <td>0.279772</td>\n",
       "      <td>0.287950</td>\n",
       "      <td>0.311885</td>\n",
       "      <td>0.345987</td>\n",
       "      <td>954.733842</td>\n",
       "      <td>267.580450</td>\n",
       "      <td>271.201856</td>\n",
       "      <td>253.938223</td>\n",
       "      <td>32.408353</td>\n",
       "    </tr>\n",
       "    <tr>\n",
       "      <th>min</th>\n",
       "      <td>7.000000e+09</td>\n",
       "      <td>109.0</td>\n",
       "      <td>0.0</td>\n",
       "      <td>0.0</td>\n",
       "      <td>0.0</td>\n",
       "      <td>-2258.709000</td>\n",
       "      <td>-2014.045000</td>\n",
       "      <td>-945.808000</td>\n",
       "      <td>-1899.505000</td>\n",
       "      <td>0.000000</td>\n",
       "      <td>...</td>\n",
       "      <td>0.000000</td>\n",
       "      <td>0.000000</td>\n",
       "      <td>0.000000</td>\n",
       "      <td>0.000000</td>\n",
       "      <td>0.000000</td>\n",
       "      <td>180.000000</td>\n",
       "      <td>0.000000</td>\n",
       "      <td>0.000000</td>\n",
       "      <td>0.000000</td>\n",
       "      <td>0.000000</td>\n",
       "    </tr>\n",
       "    <tr>\n",
       "      <th>25%</th>\n",
       "      <td>7.000606e+09</td>\n",
       "      <td>109.0</td>\n",
       "      <td>0.0</td>\n",
       "      <td>0.0</td>\n",
       "      <td>0.0</td>\n",
       "      <td>93.411500</td>\n",
       "      <td>86.980500</td>\n",
       "      <td>84.126000</td>\n",
       "      <td>62.685000</td>\n",
       "      <td>7.380000</td>\n",
       "      <td>...</td>\n",
       "      <td>0.000000</td>\n",
       "      <td>1.000000</td>\n",
       "      <td>1.000000</td>\n",
       "      <td>1.000000</td>\n",
       "      <td>1.000000</td>\n",
       "      <td>467.000000</td>\n",
       "      <td>0.000000</td>\n",
       "      <td>0.000000</td>\n",
       "      <td>0.000000</td>\n",
       "      <td>0.000000</td>\n",
       "    </tr>\n",
       "    <tr>\n",
       "      <th>50%</th>\n",
       "      <td>7.001205e+09</td>\n",
       "      <td>109.0</td>\n",
       "      <td>0.0</td>\n",
       "      <td>0.0</td>\n",
       "      <td>0.0</td>\n",
       "      <td>197.704000</td>\n",
       "      <td>191.640000</td>\n",
       "      <td>192.080000</td>\n",
       "      <td>176.849000</td>\n",
       "      <td>34.310000</td>\n",
       "      <td>...</td>\n",
       "      <td>0.000000</td>\n",
       "      <td>1.000000</td>\n",
       "      <td>1.000000</td>\n",
       "      <td>1.000000</td>\n",
       "      <td>1.000000</td>\n",
       "      <td>863.000000</td>\n",
       "      <td>0.000000</td>\n",
       "      <td>0.000000</td>\n",
       "      <td>0.000000</td>\n",
       "      <td>0.000000</td>\n",
       "    </tr>\n",
       "    <tr>\n",
       "      <th>75%</th>\n",
       "      <td>7.001812e+09</td>\n",
       "      <td>109.0</td>\n",
       "      <td>0.0</td>\n",
       "      <td>0.0</td>\n",
       "      <td>0.0</td>\n",
       "      <td>371.060000</td>\n",
       "      <td>365.344500</td>\n",
       "      <td>369.370500</td>\n",
       "      <td>353.466500</td>\n",
       "      <td>118.740000</td>\n",
       "      <td>...</td>\n",
       "      <td>0.000000</td>\n",
       "      <td>1.000000</td>\n",
       "      <td>1.000000</td>\n",
       "      <td>1.000000</td>\n",
       "      <td>1.000000</td>\n",
       "      <td>1807.500000</td>\n",
       "      <td>0.000000</td>\n",
       "      <td>0.000000</td>\n",
       "      <td>0.000000</td>\n",
       "      <td>0.000000</td>\n",
       "    </tr>\n",
       "    <tr>\n",
       "      <th>max</th>\n",
       "      <td>7.002411e+09</td>\n",
       "      <td>109.0</td>\n",
       "      <td>0.0</td>\n",
       "      <td>0.0</td>\n",
       "      <td>0.0</td>\n",
       "      <td>27731.088000</td>\n",
       "      <td>35145.834000</td>\n",
       "      <td>33543.624000</td>\n",
       "      <td>38805.617000</td>\n",
       "      <td>7376.710000</td>\n",
       "      <td>...</td>\n",
       "      <td>49.000000</td>\n",
       "      <td>1.000000</td>\n",
       "      <td>1.000000</td>\n",
       "      <td>1.000000</td>\n",
       "      <td>1.000000</td>\n",
       "      <td>4337.000000</td>\n",
       "      <td>12916.220000</td>\n",
       "      <td>9165.600000</td>\n",
       "      <td>11166.210000</td>\n",
       "      <td>2618.570000</td>\n",
       "    </tr>\n",
       "  </tbody>\n",
       "</table>\n",
       "<p>8 rows × 214 columns</p>\n",
       "</div>"
      ],
      "text/plain": [
       "       mobile_number  circle_id  loc_og_t2o_mou  std_og_t2o_mou  \\\n",
       "count   9.999900e+04    99999.0         98981.0         98981.0   \n",
       "mean    7.001207e+09      109.0             0.0             0.0   \n",
       "std     6.956694e+05        0.0             0.0             0.0   \n",
       "min     7.000000e+09      109.0             0.0             0.0   \n",
       "25%     7.000606e+09      109.0             0.0             0.0   \n",
       "50%     7.001205e+09      109.0             0.0             0.0   \n",
       "75%     7.001812e+09      109.0             0.0             0.0   \n",
       "max     7.002411e+09      109.0             0.0             0.0   \n",
       "\n",
       "       loc_ic_t2o_mou        arpu_6        arpu_7        arpu_8        arpu_9  \\\n",
       "count         98981.0  99999.000000  99999.000000  99999.000000  99999.000000   \n",
       "mean              0.0    282.987358    278.536648    279.154731    261.645069   \n",
       "std               0.0    328.439770    338.156291    344.474791    341.998630   \n",
       "min               0.0  -2258.709000  -2014.045000   -945.808000  -1899.505000   \n",
       "25%               0.0     93.411500     86.980500     84.126000     62.685000   \n",
       "50%               0.0    197.704000    191.640000    192.080000    176.849000   \n",
       "75%               0.0    371.060000    365.344500    369.370500    353.466500   \n",
       "max               0.0  27731.088000  35145.834000  33543.624000  38805.617000   \n",
       "\n",
       "        onnet_mou_6  ...   sachet_3g_9     fb_user_6     fb_user_7  \\\n",
       "count  96062.000000  ...  99999.000000  25153.000000  25571.000000   \n",
       "mean     132.395875  ...      0.084581      0.914404      0.908764   \n",
       "std      297.207406  ...      0.650457      0.279772      0.287950   \n",
       "min        0.000000  ...      0.000000      0.000000      0.000000   \n",
       "25%        7.380000  ...      0.000000      1.000000      1.000000   \n",
       "50%       34.310000  ...      0.000000      1.000000      1.000000   \n",
       "75%      118.740000  ...      0.000000      1.000000      1.000000   \n",
       "max     7376.710000  ...     49.000000      1.000000      1.000000   \n",
       "\n",
       "          fb_user_8     fb_user_9           aon    aug_vbc_3g    jul_vbc_3g  \\\n",
       "count  26339.000000  25922.000000  99999.000000  99999.000000  99999.000000   \n",
       "mean       0.890808      0.860968   1219.854749     68.170248     66.839062   \n",
       "std        0.311885      0.345987    954.733842    267.580450    271.201856   \n",
       "min        0.000000      0.000000    180.000000      0.000000      0.000000   \n",
       "25%        1.000000      1.000000    467.000000      0.000000      0.000000   \n",
       "50%        1.000000      1.000000    863.000000      0.000000      0.000000   \n",
       "75%        1.000000      1.000000   1807.500000      0.000000      0.000000   \n",
       "max        1.000000      1.000000   4337.000000  12916.220000   9165.600000   \n",
       "\n",
       "         jun_vbc_3g    sep_vbc_3g  \n",
       "count  99999.000000  99999.000000  \n",
       "mean      60.021204      3.299373  \n",
       "std      253.938223     32.408353  \n",
       "min        0.000000      0.000000  \n",
       "25%        0.000000      0.000000  \n",
       "50%        0.000000      0.000000  \n",
       "75%        0.000000      0.000000  \n",
       "max    11166.210000   2618.570000  \n",
       "\n",
       "[8 rows x 214 columns]"
      ]
     },
     "execution_count": 7,
     "metadata": {},
     "output_type": "execute_result"
    }
   ],
   "source": [
    "#To get the numeric values we'll use .describe().\n",
    "tel.describe()"
   ]
  },
  {
   "cell_type": "code",
   "execution_count": 8,
   "metadata": {},
   "outputs": [
    {
     "name": "stdout",
     "output_type": "stream",
     "text": [
      "<class 'pandas.core.frame.DataFrame'>\n",
      "RangeIndex: 99999 entries, 0 to 99998\n",
      "Columns: 226 entries, mobile_number to sep_vbc_3g\n",
      "dtypes: float64(179), int64(35), object(12)\n",
      "memory usage: 172.4+ MB\n"
     ]
    }
   ],
   "source": [
    "# The .info() gives the information of the dataset.\n",
    "tel.info()"
   ]
  },
  {
   "cell_type": "code",
   "execution_count": 9,
   "metadata": {},
   "outputs": [],
   "source": [
    "# Creating the column name list by types of columns\n",
    "ID_cols = ['mobile_number', 'circle_id']\n",
    "Date_cols = ['last_date_of_month_6','last_date_of_month_7','last_date_of_month_8','last_date_of_month_9','date_of_last_rech_6','date_of_last_rech_7','date_of_last_rech_8','date_of_last_rech_9','date_of_last_rech_data_6','date_of_last_rech_data_7','date_of_last_rech_data_8','date_of_last_rech_data_9']\n",
    "Cat_cols =  ['night_pck_user_6','night_pck_user_7','night_pck_user_8','night_pck_user_9','fb_user_6','fb_user_7','fb_user_8','fb_user_9']\n",
    "Num_cols = [column for column in tel.columns if column not in ID_cols + Date_cols + Cat_cols]"
   ]
  },
  {
   "cell_type": "code",
   "execution_count": 10,
   "metadata": {},
   "outputs": [
    {
     "name": "stdout",
     "output_type": "stream",
     "text": [
      "#ID cols: 2\n",
      "#Date cols:12\n",
      "#Numeric cols:204\n",
      "#Category cols:8\n"
     ]
    }
   ],
   "source": [
    "# The number of columns in each list\n",
    "print(\"#ID cols: %d\\n#Date cols:%d\\n#Numeric cols:%d\\n#Category cols:%d\" % (len(ID_cols), len(Date_cols), len(Num_cols), len(Cat_cols)))"
   ]
  },
  {
   "cell_type": "code",
   "execution_count": 11,
   "metadata": {},
   "outputs": [
    {
     "name": "stdout",
     "output_type": "stream",
     "text": [
      "True\n"
     ]
    }
   ],
   "source": [
    "# Now we'll be checking to see if any columnns are missed\n",
    "print(len(ID_cols) + len(Date_cols) + len(Num_cols) + len(Cat_cols) == tel.shape[1])"
   ]
  },
  {
   "cell_type": "code",
   "execution_count": 12,
   "metadata": {},
   "outputs": [
    {
     "data": {
      "text/plain": [
       "count_rech_2g_6             74.846748\n",
       "date_of_last_rech_data_6    74.846748\n",
       "count_rech_3g_6             74.846748\n",
       "av_rech_amt_data_6          74.846748\n",
       "max_rech_data_6             74.846748\n",
       "                              ...    \n",
       "last_day_rch_amt_6           0.000000\n",
       "last_day_rch_amt_7           0.000000\n",
       "last_day_rch_amt_8           0.000000\n",
       "last_day_rch_amt_9           0.000000\n",
       "mobile_number                0.000000\n",
       "Length: 226, dtype: float64"
      ]
     },
     "execution_count": 12,
     "metadata": {},
     "output_type": "execute_result"
    }
   ],
   "source": [
    "# looking for missing values\n",
    "(tel.isnull().sum()*100/tel.shape[0]).sort_values(ascending=False)"
   ]
  },
  {
   "cell_type": "markdown",
   "metadata": {},
   "source": [
    "#### Since there are approx 74-75% null values for average recharge amount, max recharge data, total recharge date and date of data recharge for mobile internet data is missing."
   ]
  },
  {
   "cell_type": "code",
   "execution_count": 13,
   "metadata": {},
   "outputs": [
    {
     "data": {
      "text/html": [
       "<div>\n",
       "<style scoped>\n",
       "    .dataframe tbody tr th:only-of-type {\n",
       "        vertical-align: middle;\n",
       "    }\n",
       "\n",
       "    .dataframe tbody tr th {\n",
       "        vertical-align: top;\n",
       "    }\n",
       "\n",
       "    .dataframe thead th {\n",
       "        text-align: right;\n",
       "    }\n",
       "</style>\n",
       "<table border=\"1\" class=\"dataframe\">\n",
       "  <thead>\n",
       "    <tr style=\"text-align: right;\">\n",
       "      <th></th>\n",
       "      <th>total_rech_data_6</th>\n",
       "      <th>total_rech_data_7</th>\n",
       "      <th>total_rech_data_8</th>\n",
       "      <th>total_rech_data_9</th>\n",
       "      <th>count_rech_2g_6</th>\n",
       "      <th>count_rech_2g_7</th>\n",
       "      <th>count_rech_2g_8</th>\n",
       "      <th>count_rech_2g_9</th>\n",
       "      <th>count_rech_3g_6</th>\n",
       "      <th>count_rech_3g_7</th>\n",
       "      <th>count_rech_3g_8</th>\n",
       "      <th>count_rech_3g_9</th>\n",
       "      <th>max_rech_data_6</th>\n",
       "      <th>max_rech_data_7</th>\n",
       "      <th>max_rech_data_8</th>\n",
       "      <th>max_rech_data_9</th>\n",
       "      <th>av_rech_amt_data_6</th>\n",
       "      <th>av_rech_amt_data_7</th>\n",
       "      <th>av_rech_amt_data_8</th>\n",
       "      <th>av_rech_amt_data_9</th>\n",
       "    </tr>\n",
       "  </thead>\n",
       "  <tbody>\n",
       "    <tr>\n",
       "      <th>count</th>\n",
       "      <td>25153.000000</td>\n",
       "      <td>25571.000000</td>\n",
       "      <td>26339.000000</td>\n",
       "      <td>25922.000000</td>\n",
       "      <td>25153.000000</td>\n",
       "      <td>25571.000000</td>\n",
       "      <td>26339.000000</td>\n",
       "      <td>25922.000000</td>\n",
       "      <td>25153.000000</td>\n",
       "      <td>25571.000000</td>\n",
       "      <td>26339.000000</td>\n",
       "      <td>25922.000000</td>\n",
       "      <td>25153.000000</td>\n",
       "      <td>25571.000000</td>\n",
       "      <td>26339.000000</td>\n",
       "      <td>25922.00000</td>\n",
       "      <td>25153.000000</td>\n",
       "      <td>25571.000000</td>\n",
       "      <td>26339.000000</td>\n",
       "      <td>25922.000000</td>\n",
       "    </tr>\n",
       "    <tr>\n",
       "      <th>mean</th>\n",
       "      <td>2.463802</td>\n",
       "      <td>2.666419</td>\n",
       "      <td>2.651999</td>\n",
       "      <td>2.441170</td>\n",
       "      <td>1.864668</td>\n",
       "      <td>2.044699</td>\n",
       "      <td>2.016288</td>\n",
       "      <td>1.781807</td>\n",
       "      <td>0.599133</td>\n",
       "      <td>0.621720</td>\n",
       "      <td>0.635711</td>\n",
       "      <td>0.659363</td>\n",
       "      <td>126.393392</td>\n",
       "      <td>126.729459</td>\n",
       "      <td>125.717301</td>\n",
       "      <td>124.94144</td>\n",
       "      <td>192.600982</td>\n",
       "      <td>200.981292</td>\n",
       "      <td>197.526489</td>\n",
       "      <td>192.734315</td>\n",
       "    </tr>\n",
       "    <tr>\n",
       "      <th>std</th>\n",
       "      <td>2.789128</td>\n",
       "      <td>3.031593</td>\n",
       "      <td>3.074987</td>\n",
       "      <td>2.516339</td>\n",
       "      <td>2.570254</td>\n",
       "      <td>2.768332</td>\n",
       "      <td>2.720132</td>\n",
       "      <td>2.214701</td>\n",
       "      <td>1.274428</td>\n",
       "      <td>1.394524</td>\n",
       "      <td>1.422827</td>\n",
       "      <td>1.411513</td>\n",
       "      <td>108.477235</td>\n",
       "      <td>109.765267</td>\n",
       "      <td>109.437851</td>\n",
       "      <td>111.36376</td>\n",
       "      <td>192.646318</td>\n",
       "      <td>196.791224</td>\n",
       "      <td>191.301305</td>\n",
       "      <td>188.400286</td>\n",
       "    </tr>\n",
       "    <tr>\n",
       "      <th>min</th>\n",
       "      <td>1.000000</td>\n",
       "      <td>1.000000</td>\n",
       "      <td>1.000000</td>\n",
       "      <td>1.000000</td>\n",
       "      <td>0.000000</td>\n",
       "      <td>0.000000</td>\n",
       "      <td>0.000000</td>\n",
       "      <td>0.000000</td>\n",
       "      <td>0.000000</td>\n",
       "      <td>0.000000</td>\n",
       "      <td>0.000000</td>\n",
       "      <td>0.000000</td>\n",
       "      <td>1.000000</td>\n",
       "      <td>1.000000</td>\n",
       "      <td>1.000000</td>\n",
       "      <td>1.00000</td>\n",
       "      <td>1.000000</td>\n",
       "      <td>0.500000</td>\n",
       "      <td>0.500000</td>\n",
       "      <td>1.000000</td>\n",
       "    </tr>\n",
       "    <tr>\n",
       "      <th>25%</th>\n",
       "      <td>1.000000</td>\n",
       "      <td>1.000000</td>\n",
       "      <td>1.000000</td>\n",
       "      <td>1.000000</td>\n",
       "      <td>1.000000</td>\n",
       "      <td>1.000000</td>\n",
       "      <td>1.000000</td>\n",
       "      <td>1.000000</td>\n",
       "      <td>0.000000</td>\n",
       "      <td>0.000000</td>\n",
       "      <td>0.000000</td>\n",
       "      <td>0.000000</td>\n",
       "      <td>25.000000</td>\n",
       "      <td>25.000000</td>\n",
       "      <td>25.000000</td>\n",
       "      <td>25.00000</td>\n",
       "      <td>82.000000</td>\n",
       "      <td>92.000000</td>\n",
       "      <td>87.000000</td>\n",
       "      <td>69.000000</td>\n",
       "    </tr>\n",
       "    <tr>\n",
       "      <th>50%</th>\n",
       "      <td>1.000000</td>\n",
       "      <td>1.000000</td>\n",
       "      <td>1.000000</td>\n",
       "      <td>2.000000</td>\n",
       "      <td>1.000000</td>\n",
       "      <td>1.000000</td>\n",
       "      <td>1.000000</td>\n",
       "      <td>1.000000</td>\n",
       "      <td>0.000000</td>\n",
       "      <td>0.000000</td>\n",
       "      <td>0.000000</td>\n",
       "      <td>0.000000</td>\n",
       "      <td>145.000000</td>\n",
       "      <td>145.000000</td>\n",
       "      <td>145.000000</td>\n",
       "      <td>145.00000</td>\n",
       "      <td>154.000000</td>\n",
       "      <td>154.000000</td>\n",
       "      <td>154.000000</td>\n",
       "      <td>164.000000</td>\n",
       "    </tr>\n",
       "    <tr>\n",
       "      <th>75%</th>\n",
       "      <td>3.000000</td>\n",
       "      <td>3.000000</td>\n",
       "      <td>3.000000</td>\n",
       "      <td>3.000000</td>\n",
       "      <td>2.000000</td>\n",
       "      <td>2.000000</td>\n",
       "      <td>2.000000</td>\n",
       "      <td>2.000000</td>\n",
       "      <td>1.000000</td>\n",
       "      <td>1.000000</td>\n",
       "      <td>1.000000</td>\n",
       "      <td>1.000000</td>\n",
       "      <td>177.000000</td>\n",
       "      <td>177.000000</td>\n",
       "      <td>179.000000</td>\n",
       "      <td>179.00000</td>\n",
       "      <td>252.000000</td>\n",
       "      <td>252.000000</td>\n",
       "      <td>252.000000</td>\n",
       "      <td>252.000000</td>\n",
       "    </tr>\n",
       "    <tr>\n",
       "      <th>max</th>\n",
       "      <td>61.000000</td>\n",
       "      <td>54.000000</td>\n",
       "      <td>60.000000</td>\n",
       "      <td>84.000000</td>\n",
       "      <td>42.000000</td>\n",
       "      <td>48.000000</td>\n",
       "      <td>44.000000</td>\n",
       "      <td>40.000000</td>\n",
       "      <td>29.000000</td>\n",
       "      <td>35.000000</td>\n",
       "      <td>45.000000</td>\n",
       "      <td>49.000000</td>\n",
       "      <td>1555.000000</td>\n",
       "      <td>1555.000000</td>\n",
       "      <td>1555.000000</td>\n",
       "      <td>1555.00000</td>\n",
       "      <td>7546.000000</td>\n",
       "      <td>4365.000000</td>\n",
       "      <td>4076.000000</td>\n",
       "      <td>4061.000000</td>\n",
       "    </tr>\n",
       "  </tbody>\n",
       "</table>\n",
       "</div>"
      ],
      "text/plain": [
       "       total_rech_data_6  total_rech_data_7  total_rech_data_8  \\\n",
       "count       25153.000000       25571.000000       26339.000000   \n",
       "mean            2.463802           2.666419           2.651999   \n",
       "std             2.789128           3.031593           3.074987   \n",
       "min             1.000000           1.000000           1.000000   \n",
       "25%             1.000000           1.000000           1.000000   \n",
       "50%             1.000000           1.000000           1.000000   \n",
       "75%             3.000000           3.000000           3.000000   \n",
       "max            61.000000          54.000000          60.000000   \n",
       "\n",
       "       total_rech_data_9  count_rech_2g_6  count_rech_2g_7  count_rech_2g_8  \\\n",
       "count       25922.000000     25153.000000     25571.000000     26339.000000   \n",
       "mean            2.441170         1.864668         2.044699         2.016288   \n",
       "std             2.516339         2.570254         2.768332         2.720132   \n",
       "min             1.000000         0.000000         0.000000         0.000000   \n",
       "25%             1.000000         1.000000         1.000000         1.000000   \n",
       "50%             2.000000         1.000000         1.000000         1.000000   \n",
       "75%             3.000000         2.000000         2.000000         2.000000   \n",
       "max            84.000000        42.000000        48.000000        44.000000   \n",
       "\n",
       "       count_rech_2g_9  count_rech_3g_6  count_rech_3g_7  count_rech_3g_8  \\\n",
       "count     25922.000000     25153.000000     25571.000000     26339.000000   \n",
       "mean          1.781807         0.599133         0.621720         0.635711   \n",
       "std           2.214701         1.274428         1.394524         1.422827   \n",
       "min           0.000000         0.000000         0.000000         0.000000   \n",
       "25%           1.000000         0.000000         0.000000         0.000000   \n",
       "50%           1.000000         0.000000         0.000000         0.000000   \n",
       "75%           2.000000         1.000000         1.000000         1.000000   \n",
       "max          40.000000        29.000000        35.000000        45.000000   \n",
       "\n",
       "       count_rech_3g_9  max_rech_data_6  max_rech_data_7  max_rech_data_8  \\\n",
       "count     25922.000000     25153.000000     25571.000000     26339.000000   \n",
       "mean          0.659363       126.393392       126.729459       125.717301   \n",
       "std           1.411513       108.477235       109.765267       109.437851   \n",
       "min           0.000000         1.000000         1.000000         1.000000   \n",
       "25%           0.000000        25.000000        25.000000        25.000000   \n",
       "50%           0.000000       145.000000       145.000000       145.000000   \n",
       "75%           1.000000       177.000000       177.000000       179.000000   \n",
       "max          49.000000      1555.000000      1555.000000      1555.000000   \n",
       "\n",
       "       max_rech_data_9  av_rech_amt_data_6  av_rech_amt_data_7  \\\n",
       "count      25922.00000        25153.000000        25571.000000   \n",
       "mean         124.94144          192.600982          200.981292   \n",
       "std          111.36376          192.646318          196.791224   \n",
       "min            1.00000            1.000000            0.500000   \n",
       "25%           25.00000           82.000000           92.000000   \n",
       "50%          145.00000          154.000000          154.000000   \n",
       "75%          179.00000          252.000000          252.000000   \n",
       "max         1555.00000         7546.000000         4365.000000   \n",
       "\n",
       "       av_rech_amt_data_8  av_rech_amt_data_9  \n",
       "count        26339.000000        25922.000000  \n",
       "mean           197.526489          192.734315  \n",
       "std            191.301305          188.400286  \n",
       "min              0.500000            1.000000  \n",
       "25%             87.000000           69.000000  \n",
       "50%            154.000000          164.000000  \n",
       "75%            252.000000          252.000000  \n",
       "max           4076.000000         4061.000000  "
      ]
     },
     "execution_count": 13,
     "metadata": {},
     "output_type": "execute_result"
    }
   ],
   "source": [
    "# 1st is the min value for recharge column\n",
    "Rch_col = ['total_rech_data_6', 'total_rech_data_7', 'total_rech_data_8', 'total_rech_data_9',\n",
    "                 'count_rech_2g_6', 'count_rech_2g_7', 'count_rech_2g_8', 'count_rech_2g_9',\n",
    "                 'count_rech_3g_6', 'count_rech_3g_7', 'count_rech_3g_8', 'count_rech_3g_9',\n",
    "                 'max_rech_data_6', 'max_rech_data_7', 'max_rech_data_8', 'max_rech_data_9',\n",
    "                 'av_rech_amt_data_6', 'av_rech_amt_data_7', 'av_rech_amt_data_8', 'av_rech_amt_data_9',\n",
    "                 ]\n",
    "\n",
    "tel[Rch_col].describe(include='all')"
   ]
  },
  {
   "cell_type": "markdown",
   "metadata": {},
   "source": [
    "#### We can observe from the above that there are 3 set of values for\n",
    "\n",
    "1. total recharge amount\n",
    "2. maximum recharge amount\n",
    "3. average recharge amount for data.\n",
    "4. total recharge for data\n",
    "5. maximum recharge for data"
   ]
  },
  {
   "cell_type": "code",
   "execution_count": 14,
   "metadata": {},
   "outputs": [
    {
     "data": {
      "text/html": [
       "<div>\n",
       "<style scoped>\n",
       "    .dataframe tbody tr th:only-of-type {\n",
       "        vertical-align: middle;\n",
       "    }\n",
       "\n",
       "    .dataframe tbody tr th {\n",
       "        vertical-align: top;\n",
       "    }\n",
       "\n",
       "    .dataframe thead th {\n",
       "        text-align: right;\n",
       "    }\n",
       "</style>\n",
       "<table border=\"1\" class=\"dataframe\">\n",
       "  <thead>\n",
       "    <tr style=\"text-align: right;\">\n",
       "      <th></th>\n",
       "      <th>total_rech_data_7</th>\n",
       "      <th>date_of_last_rech_data_7</th>\n",
       "    </tr>\n",
       "  </thead>\n",
       "  <tbody>\n",
       "    <tr>\n",
       "      <th>2</th>\n",
       "      <td>NaN</td>\n",
       "      <td>NaN</td>\n",
       "    </tr>\n",
       "    <tr>\n",
       "      <th>3</th>\n",
       "      <td>NaN</td>\n",
       "      <td>NaN</td>\n",
       "    </tr>\n",
       "    <tr>\n",
       "      <th>4</th>\n",
       "      <td>NaN</td>\n",
       "      <td>NaN</td>\n",
       "    </tr>\n",
       "    <tr>\n",
       "      <th>5</th>\n",
       "      <td>NaN</td>\n",
       "      <td>NaN</td>\n",
       "    </tr>\n",
       "    <tr>\n",
       "      <th>6</th>\n",
       "      <td>NaN</td>\n",
       "      <td>NaN</td>\n",
       "    </tr>\n",
       "    <tr>\n",
       "      <th>7</th>\n",
       "      <td>NaN</td>\n",
       "      <td>NaN</td>\n",
       "    </tr>\n",
       "    <tr>\n",
       "      <th>10</th>\n",
       "      <td>NaN</td>\n",
       "      <td>NaN</td>\n",
       "    </tr>\n",
       "    <tr>\n",
       "      <th>11</th>\n",
       "      <td>NaN</td>\n",
       "      <td>NaN</td>\n",
       "    </tr>\n",
       "    <tr>\n",
       "      <th>12</th>\n",
       "      <td>NaN</td>\n",
       "      <td>NaN</td>\n",
       "    </tr>\n",
       "    <tr>\n",
       "      <th>13</th>\n",
       "      <td>NaN</td>\n",
       "      <td>NaN</td>\n",
       "    </tr>\n",
       "  </tbody>\n",
       "</table>\n",
       "</div>"
      ],
      "text/plain": [
       "    total_rech_data_7 date_of_last_rech_data_7\n",
       "2                 NaN                      NaN\n",
       "3                 NaN                      NaN\n",
       "4                 NaN                      NaN\n",
       "5                 NaN                      NaN\n",
       "6                 NaN                      NaN\n",
       "7                 NaN                      NaN\n",
       "10                NaN                      NaN\n",
       "11                NaN                      NaN\n",
       "12                NaN                      NaN\n",
       "13                NaN                      NaN"
      ]
     },
     "execution_count": 14,
     "metadata": {},
     "output_type": "execute_result"
    }
   ],
   "source": [
    "# The customer didn't recharge because the recharge date and the recharge value are missing\n",
    "  \n",
    "tel.loc[tel.total_rech_data_7.isnull() & tel.date_of_last_rech_data_7.isnull(),\\\n",
    "          [\"total_rech_data_7\", \"date_of_last_rech_data_7\"]].head(10)"
   ]
  },
  {
   "cell_type": "code",
   "execution_count": 15,
   "metadata": {},
   "outputs": [
    {
     "name": "stdout",
     "output_type": "stream",
     "text": [
      "0.0\n",
      "0.0\n",
      "0.0\n",
      "0.0\n",
      "0.0\n",
      "0.0\n"
     ]
    }
   ],
   "source": [
    "# Now we just check if there are any values where total_rech_data is NA and value is present for av_rech_amt_data and vice versa\n",
    "# checking how many av_rech_amt_data_6 is NA\n",
    "Is_invalid_data_6 = tel['av_rech_amt_data_6'] == np.nan\n",
    "Is_invalid_data_7 = tel['av_rech_amt_data_7'] == np.nan\n",
    "Is_invalid_data_8 = tel['av_rech_amt_data_7'] == np.nan\n",
    "\n",
    "# checking if any value is present for these rows for total_rech_data\n",
    "print(tel.loc[Is_invalid_data_6,'total_rech_data_6'].sum())\n",
    "print(tel.loc[Is_invalid_data_7,'total_rech_data_7'].sum())\n",
    "print(tel.loc[Is_invalid_data_8,'total_rech_data_8'].sum())\n",
    "\n",
    "# checking how many total_rech_data_6 is NA\n",
    "Is_invalid_data_6 = tel['total_rech_data_6'] == np.nan \n",
    "Is_invalid_data_7 = tel['total_rech_data_7'] == np.nan \n",
    "Is_invalid_data_8 = tel['total_rech_data_8'] == np.nan \n",
    "\n",
    "# checking if any value is present for these rows for av_rech_amt_data_6\n",
    "print(tel.loc[Is_invalid_data_6,'av_rech_amt_data_6'].sum())\n",
    "print(tel.loc[Is_invalid_data_7,'av_rech_amt_data_7'].sum())\n",
    "print(tel.loc[Is_invalid_data_8,'av_rech_amt_data_8'].sum())"
   ]
  },
  {
   "cell_type": "markdown",
   "metadata": {},
   "source": [
    "#### From above we can observe that the values are consistent with each other, also as the minimum value is 1, we can impute the NA values by 0, meaning that there was no recharge done by the customer."
   ]
  },
  {
   "cell_type": "code",
   "execution_count": 16,
   "metadata": {},
   "outputs": [],
   "source": [
    "#Let's impute 0 in recharge columns.\n",
    "Zero_impute_Rch = ['total_rech_data_6', 'total_rech_data_7', 'total_rech_data_8', 'total_rech_data_9',\n",
    "        'av_rech_amt_data_6', 'av_rech_amt_data_7', 'av_rech_amt_data_8', 'av_rech_amt_data_9',\n",
    "        'max_rech_data_6', 'max_rech_data_7', 'max_rech_data_8', 'max_rech_data_9'\n",
    "       ]"
   ]
  },
  {
   "cell_type": "code",
   "execution_count": 17,
   "metadata": {},
   "outputs": [],
   "source": [
    "# Now we'll impute missing values with 0\n",
    "tel[Zero_impute_Rch] = tel[Zero_impute_Rch].apply(lambda x: x.fillna(0))"
   ]
  },
  {
   "cell_type": "code",
   "execution_count": 18,
   "metadata": {},
   "outputs": [
    {
     "name": "stdout",
     "output_type": "stream",
     "text": [
      "total_rech_data_6     0.0\n",
      "total_rech_data_7     0.0\n",
      "total_rech_data_8     0.0\n",
      "total_rech_data_9     0.0\n",
      "av_rech_amt_data_6    0.0\n",
      "av_rech_amt_data_7    0.0\n",
      "av_rech_amt_data_8    0.0\n",
      "av_rech_amt_data_9    0.0\n",
      "max_rech_data_6       0.0\n",
      "max_rech_data_7       0.0\n",
      "max_rech_data_8       0.0\n",
      "max_rech_data_9       0.0\n",
      "dtype: float64\n"
     ]
    }
   ],
   "source": [
    "print(tel[Zero_impute_Rch].isnull().sum()*100/tel.shape[1])"
   ]
  },
  {
   "cell_type": "code",
   "execution_count": 19,
   "metadata": {},
   "outputs": [
    {
     "data": {
      "text/plain": [
       "mobile_number       99999\n",
       "arpu_6              85681\n",
       "arpu_7              85308\n",
       "arpu_8              83615\n",
       "arpu_9              79937\n",
       "                    ...  \n",
       "std_ic_t2o_mou_8        1\n",
       "std_ic_t2o_mou_9        1\n",
       "std_og_t2c_mou_9        1\n",
       "std_og_t2c_mou_8        1\n",
       "std_ic_t2o_mou_6        1\n",
       "Length: 226, dtype: int64"
      ]
     },
     "execution_count": 19,
     "metadata": {},
     "output_type": "execute_result"
    }
   ],
   "source": [
    "# We'll find unique values in each columns.\n",
    "tel.nunique().sort_values(ascending=False)"
   ]
  },
  {
   "cell_type": "code",
   "execution_count": 20,
   "metadata": {},
   "outputs": [
    {
     "data": {
      "text/plain": [
       "(99999, 212)"
      ]
     },
     "execution_count": 20,
     "metadata": {},
     "output_type": "execute_result"
    }
   ],
   "source": [
    "# Dropping the columns. \n",
    "tel = tel.drop(ID_cols + Date_cols, axis=1)\n",
    "tel.shape"
   ]
  },
  {
   "cell_type": "code",
   "execution_count": 21,
   "metadata": {},
   "outputs": [],
   "source": [
    "# Now we'll replace missing values with '-1' in the categorical columns\n",
    "tel[Cat_cols] = tel[Cat_cols].apply(lambda x: x.fillna(-1))"
   ]
  },
  {
   "cell_type": "code",
   "execution_count": 22,
   "metadata": {},
   "outputs": [
    {
     "name": "stdout",
     "output_type": "stream",
     "text": [
      "Missing value ratio:\n",
      "\n",
      "night_pck_user_6    0.0\n",
      "night_pck_user_7    0.0\n",
      "night_pck_user_8    0.0\n",
      "night_pck_user_9    0.0\n",
      "fb_user_6           0.0\n",
      "fb_user_7           0.0\n",
      "fb_user_8           0.0\n",
      "fb_user_9           0.0\n",
      "dtype: float64\n"
     ]
    }
   ],
   "source": [
    "# Verifying the dataset.\n",
    "print(\"Missing value ratio:\\n\")\n",
    "print(tel[Cat_cols].isnull().sum()*100/tel.shape[0])"
   ]
  },
  {
   "cell_type": "code",
   "execution_count": 23,
   "metadata": {},
   "outputs": [
    {
     "data": {
      "text/html": [
       "<div>\n",
       "<style scoped>\n",
       "    .dataframe tbody tr th:only-of-type {\n",
       "        vertical-align: middle;\n",
       "    }\n",
       "\n",
       "    .dataframe tbody tr th {\n",
       "        vertical-align: top;\n",
       "    }\n",
       "\n",
       "    .dataframe thead th {\n",
       "        text-align: right;\n",
       "    }\n",
       "</style>\n",
       "<table border=\"1\" class=\"dataframe\">\n",
       "  <thead>\n",
       "    <tr style=\"text-align: right;\">\n",
       "      <th></th>\n",
       "      <th>features</th>\n",
       "      <th>include</th>\n",
       "    </tr>\n",
       "  </thead>\n",
       "  <tbody>\n",
       "    <tr>\n",
       "      <th>0</th>\n",
       "      <td>loc_og_t2o_mou</td>\n",
       "      <td>True</td>\n",
       "    </tr>\n",
       "    <tr>\n",
       "      <th>1</th>\n",
       "      <td>std_og_t2o_mou</td>\n",
       "      <td>True</td>\n",
       "    </tr>\n",
       "    <tr>\n",
       "      <th>2</th>\n",
       "      <td>loc_ic_t2o_mou</td>\n",
       "      <td>True</td>\n",
       "    </tr>\n",
       "    <tr>\n",
       "      <th>3</th>\n",
       "      <td>arpu_6</td>\n",
       "      <td>True</td>\n",
       "    </tr>\n",
       "    <tr>\n",
       "      <th>4</th>\n",
       "      <td>arpu_7</td>\n",
       "      <td>True</td>\n",
       "    </tr>\n",
       "    <tr>\n",
       "      <th>...</th>\n",
       "      <td>...</td>\n",
       "      <td>...</td>\n",
       "    </tr>\n",
       "    <tr>\n",
       "      <th>207</th>\n",
       "      <td>aon</td>\n",
       "      <td>True</td>\n",
       "    </tr>\n",
       "    <tr>\n",
       "      <th>208</th>\n",
       "      <td>aug_vbc_3g</td>\n",
       "      <td>True</td>\n",
       "    </tr>\n",
       "    <tr>\n",
       "      <th>209</th>\n",
       "      <td>jul_vbc_3g</td>\n",
       "      <td>True</td>\n",
       "    </tr>\n",
       "    <tr>\n",
       "      <th>210</th>\n",
       "      <td>jun_vbc_3g</td>\n",
       "      <td>True</td>\n",
       "    </tr>\n",
       "    <tr>\n",
       "      <th>211</th>\n",
       "      <td>sep_vbc_3g</td>\n",
       "      <td>True</td>\n",
       "    </tr>\n",
       "  </tbody>\n",
       "</table>\n",
       "<p>196 rows × 2 columns</p>\n",
       "</div>"
      ],
      "text/plain": [
       "           features  include\n",
       "0    loc_og_t2o_mou     True\n",
       "1    std_og_t2o_mou     True\n",
       "2    loc_ic_t2o_mou     True\n",
       "3            arpu_6     True\n",
       "4            arpu_7     True\n",
       "..              ...      ...\n",
       "207             aon     True\n",
       "208      aug_vbc_3g     True\n",
       "209      jul_vbc_3g     True\n",
       "210      jun_vbc_3g     True\n",
       "211      sep_vbc_3g     True\n",
       "\n",
       "[196 rows x 2 columns]"
      ]
     },
     "execution_count": 23,
     "metadata": {},
     "output_type": "execute_result"
    }
   ],
   "source": [
    "#Dropping the variables with more than a given threshold of missing values.\n",
    "Initial_cols = tel.shape[1]\n",
    "MISSING_THRESHOLD = 0.7\n",
    "include_cols = list(tel.apply(lambda column: True if column.isnull().sum()/tel.shape[0] < MISSING_THRESHOLD else False))\n",
    "\n",
    "drop_missing = pd.DataFrame({'features':tel.columns , 'include': include_cols})\n",
    "drop_missing.loc[drop_missing.include == True,:]"
   ]
  },
  {
   "cell_type": "code",
   "execution_count": 24,
   "metadata": {},
   "outputs": [
    {
     "name": "stdout",
     "output_type": "stream",
     "text": [
      "-16 columns dropped.\n"
     ]
    }
   ],
   "source": [
    "# Droping the columns.\n",
    "tel = tel.loc[:, include_cols]\n",
    "\n",
    "dropped_cols = tel.shape[1] - Initial_cols\n",
    "print(\"{0} columns dropped.\".format(dropped_cols))"
   ]
  },
  {
   "cell_type": "code",
   "execution_count": 25,
   "metadata": {},
   "outputs": [],
   "source": [
    "# Now we'll be Imputing the respective null columns as 0. \n",
    "tel[tel.select_dtypes(exclude=['datetime64[ns]','category']).columns.tolist()] = tel[tel.select_dtypes(exclude=['datetime64[ns]','category']).columns.tolist()].fillna(0, axis=1)"
   ]
  },
  {
   "cell_type": "code",
   "execution_count": 26,
   "metadata": {},
   "outputs": [
    {
     "data": {
      "text/plain": [
       "Index(['total_rech_amt_6', 'total_rech_amt_7', 'total_rech_amt_8',\n",
       "       'total_rech_amt_9', 'max_rech_amt_6', 'max_rech_amt_7',\n",
       "       'max_rech_amt_8', 'max_rech_amt_9', 'total_rech_data_6',\n",
       "       'total_rech_data_7', 'total_rech_data_8', 'total_rech_data_9',\n",
       "       'max_rech_data_6', 'max_rech_data_7', 'max_rech_data_8',\n",
       "       'max_rech_data_9', 'av_rech_amt_data_6', 'av_rech_amt_data_7',\n",
       "       'av_rech_amt_data_8', 'av_rech_amt_data_9'],\n",
       "      dtype='object')"
      ]
     },
     "execution_count": 26,
     "metadata": {},
     "output_type": "execute_result"
    }
   ],
   "source": [
    "# Filtering high-value customers, observing recharge columns.\n",
    "Rch_tel=tel.columns[tel.columns.str.contains('rech_amt|rech_data')]\n",
    "Rch_tel"
   ]
  },
  {
   "cell_type": "code",
   "execution_count": 27,
   "metadata": {},
   "outputs": [
    {
     "data": {
      "text/plain": [
       "total_rech_amt_6      0.0\n",
       "total_rech_amt_7      0.0\n",
       "total_rech_amt_8      0.0\n",
       "total_rech_amt_9      0.0\n",
       "max_rech_amt_6        0.0\n",
       "max_rech_amt_7        0.0\n",
       "max_rech_amt_8        0.0\n",
       "max_rech_amt_9        0.0\n",
       "total_rech_data_6     0.0\n",
       "total_rech_data_7     0.0\n",
       "total_rech_data_8     0.0\n",
       "total_rech_data_9     0.0\n",
       "max_rech_data_6       0.0\n",
       "max_rech_data_7       0.0\n",
       "max_rech_data_8       0.0\n",
       "max_rech_data_9       0.0\n",
       "av_rech_amt_data_6    0.0\n",
       "av_rech_amt_data_7    0.0\n",
       "av_rech_amt_data_8    0.0\n",
       "av_rech_amt_data_9    0.0\n",
       "dtype: float64"
      ]
     },
     "execution_count": 27,
     "metadata": {},
     "output_type": "execute_result"
    }
   ],
   "source": [
    "# Null values in recharge columns\n",
    "100*tel.loc[:,Rch_tel].isnull().sum()/len(tel)"
   ]
  },
  {
   "cell_type": "code",
   "execution_count": 28,
   "metadata": {},
   "outputs": [
    {
     "data": {
      "text/html": [
       "<div>\n",
       "<style scoped>\n",
       "    .dataframe tbody tr th:only-of-type {\n",
       "        vertical-align: middle;\n",
       "    }\n",
       "\n",
       "    .dataframe tbody tr th {\n",
       "        vertical-align: top;\n",
       "    }\n",
       "\n",
       "    .dataframe thead th {\n",
       "        text-align: right;\n",
       "    }\n",
       "</style>\n",
       "<table border=\"1\" class=\"dataframe\">\n",
       "  <thead>\n",
       "    <tr style=\"text-align: right;\">\n",
       "      <th></th>\n",
       "      <th>total_rech_amt_6</th>\n",
       "      <th>total_rech_amt_7</th>\n",
       "      <th>total_rech_amt_8</th>\n",
       "      <th>total_rech_amt_9</th>\n",
       "      <th>max_rech_amt_6</th>\n",
       "      <th>max_rech_amt_7</th>\n",
       "      <th>max_rech_amt_8</th>\n",
       "      <th>max_rech_amt_9</th>\n",
       "      <th>total_rech_data_6</th>\n",
       "      <th>total_rech_data_7</th>\n",
       "      <th>total_rech_data_8</th>\n",
       "      <th>total_rech_data_9</th>\n",
       "      <th>max_rech_data_6</th>\n",
       "      <th>max_rech_data_7</th>\n",
       "      <th>max_rech_data_8</th>\n",
       "      <th>max_rech_data_9</th>\n",
       "      <th>av_rech_amt_data_6</th>\n",
       "      <th>av_rech_amt_data_7</th>\n",
       "      <th>av_rech_amt_data_8</th>\n",
       "      <th>av_rech_amt_data_9</th>\n",
       "    </tr>\n",
       "  </thead>\n",
       "  <tbody>\n",
       "    <tr>\n",
       "      <th>count</th>\n",
       "      <td>99999.000000</td>\n",
       "      <td>99999.000000</td>\n",
       "      <td>99999.000000</td>\n",
       "      <td>99999.000000</td>\n",
       "      <td>99999.000000</td>\n",
       "      <td>99999.000000</td>\n",
       "      <td>99999.000000</td>\n",
       "      <td>99999.000000</td>\n",
       "      <td>99999.000000</td>\n",
       "      <td>99999.000000</td>\n",
       "      <td>99999.000000</td>\n",
       "      <td>99999.000000</td>\n",
       "      <td>99999.000000</td>\n",
       "      <td>99999.000000</td>\n",
       "      <td>99999.000000</td>\n",
       "      <td>99999.000000</td>\n",
       "      <td>99999.000000</td>\n",
       "      <td>99999.000000</td>\n",
       "      <td>99999.000000</td>\n",
       "      <td>99999.000000</td>\n",
       "    </tr>\n",
       "    <tr>\n",
       "      <th>mean</th>\n",
       "      <td>327.514615</td>\n",
       "      <td>322.962970</td>\n",
       "      <td>324.157122</td>\n",
       "      <td>303.345673</td>\n",
       "      <td>104.637486</td>\n",
       "      <td>104.752398</td>\n",
       "      <td>107.728207</td>\n",
       "      <td>101.943889</td>\n",
       "      <td>0.619726</td>\n",
       "      <td>0.681837</td>\n",
       "      <td>0.698517</td>\n",
       "      <td>0.632806</td>\n",
       "      <td>31.792048</td>\n",
       "      <td>32.406314</td>\n",
       "      <td>33.113011</td>\n",
       "      <td>32.387644</td>\n",
       "      <td>48.445409</td>\n",
       "      <td>51.393440</td>\n",
       "      <td>52.027022</td>\n",
       "      <td>49.961089</td>\n",
       "    </tr>\n",
       "    <tr>\n",
       "      <th>std</th>\n",
       "      <td>398.019701</td>\n",
       "      <td>408.114237</td>\n",
       "      <td>416.540455</td>\n",
       "      <td>404.588583</td>\n",
       "      <td>120.614894</td>\n",
       "      <td>124.523970</td>\n",
       "      <td>126.902505</td>\n",
       "      <td>125.375109</td>\n",
       "      <td>1.760541</td>\n",
       "      <td>1.924382</td>\n",
       "      <td>1.963417</td>\n",
       "      <td>1.669040</td>\n",
       "      <td>77.248778</td>\n",
       "      <td>78.342435</td>\n",
       "      <td>78.872739</td>\n",
       "      <td>78.818696</td>\n",
       "      <td>127.743863</td>\n",
       "      <td>132.629365</td>\n",
       "      <td>131.182609</td>\n",
       "      <td>127.804280</td>\n",
       "    </tr>\n",
       "    <tr>\n",
       "      <th>min</th>\n",
       "      <td>0.000000</td>\n",
       "      <td>0.000000</td>\n",
       "      <td>0.000000</td>\n",
       "      <td>0.000000</td>\n",
       "      <td>0.000000</td>\n",
       "      <td>0.000000</td>\n",
       "      <td>0.000000</td>\n",
       "      <td>0.000000</td>\n",
       "      <td>0.000000</td>\n",
       "      <td>0.000000</td>\n",
       "      <td>0.000000</td>\n",
       "      <td>0.000000</td>\n",
       "      <td>0.000000</td>\n",
       "      <td>0.000000</td>\n",
       "      <td>0.000000</td>\n",
       "      <td>0.000000</td>\n",
       "      <td>0.000000</td>\n",
       "      <td>0.000000</td>\n",
       "      <td>0.000000</td>\n",
       "      <td>0.000000</td>\n",
       "    </tr>\n",
       "    <tr>\n",
       "      <th>25%</th>\n",
       "      <td>109.000000</td>\n",
       "      <td>100.000000</td>\n",
       "      <td>90.000000</td>\n",
       "      <td>52.000000</td>\n",
       "      <td>30.000000</td>\n",
       "      <td>30.000000</td>\n",
       "      <td>30.000000</td>\n",
       "      <td>28.000000</td>\n",
       "      <td>0.000000</td>\n",
       "      <td>0.000000</td>\n",
       "      <td>0.000000</td>\n",
       "      <td>0.000000</td>\n",
       "      <td>0.000000</td>\n",
       "      <td>0.000000</td>\n",
       "      <td>0.000000</td>\n",
       "      <td>0.000000</td>\n",
       "      <td>0.000000</td>\n",
       "      <td>0.000000</td>\n",
       "      <td>0.000000</td>\n",
       "      <td>0.000000</td>\n",
       "    </tr>\n",
       "    <tr>\n",
       "      <th>50%</th>\n",
       "      <td>230.000000</td>\n",
       "      <td>220.000000</td>\n",
       "      <td>225.000000</td>\n",
       "      <td>200.000000</td>\n",
       "      <td>110.000000</td>\n",
       "      <td>110.000000</td>\n",
       "      <td>98.000000</td>\n",
       "      <td>61.000000</td>\n",
       "      <td>0.000000</td>\n",
       "      <td>0.000000</td>\n",
       "      <td>0.000000</td>\n",
       "      <td>0.000000</td>\n",
       "      <td>0.000000</td>\n",
       "      <td>0.000000</td>\n",
       "      <td>0.000000</td>\n",
       "      <td>0.000000</td>\n",
       "      <td>0.000000</td>\n",
       "      <td>0.000000</td>\n",
       "      <td>0.000000</td>\n",
       "      <td>0.000000</td>\n",
       "    </tr>\n",
       "    <tr>\n",
       "      <th>75%</th>\n",
       "      <td>437.500000</td>\n",
       "      <td>428.000000</td>\n",
       "      <td>434.500000</td>\n",
       "      <td>415.000000</td>\n",
       "      <td>120.000000</td>\n",
       "      <td>128.000000</td>\n",
       "      <td>144.000000</td>\n",
       "      <td>144.000000</td>\n",
       "      <td>1.000000</td>\n",
       "      <td>1.000000</td>\n",
       "      <td>1.000000</td>\n",
       "      <td>1.000000</td>\n",
       "      <td>8.000000</td>\n",
       "      <td>14.000000</td>\n",
       "      <td>17.000000</td>\n",
       "      <td>17.000000</td>\n",
       "      <td>8.250000</td>\n",
       "      <td>17.000000</td>\n",
       "      <td>23.000000</td>\n",
       "      <td>17.000000</td>\n",
       "    </tr>\n",
       "    <tr>\n",
       "      <th>max</th>\n",
       "      <td>35190.000000</td>\n",
       "      <td>40335.000000</td>\n",
       "      <td>45320.000000</td>\n",
       "      <td>37235.000000</td>\n",
       "      <td>4010.000000</td>\n",
       "      <td>4010.000000</td>\n",
       "      <td>4449.000000</td>\n",
       "      <td>3399.000000</td>\n",
       "      <td>61.000000</td>\n",
       "      <td>54.000000</td>\n",
       "      <td>60.000000</td>\n",
       "      <td>84.000000</td>\n",
       "      <td>1555.000000</td>\n",
       "      <td>1555.000000</td>\n",
       "      <td>1555.000000</td>\n",
       "      <td>1555.000000</td>\n",
       "      <td>7546.000000</td>\n",
       "      <td>4365.000000</td>\n",
       "      <td>4076.000000</td>\n",
       "      <td>4061.000000</td>\n",
       "    </tr>\n",
       "  </tbody>\n",
       "</table>\n",
       "</div>"
      ],
      "text/plain": [
       "       total_rech_amt_6  total_rech_amt_7  total_rech_amt_8  total_rech_amt_9  \\\n",
       "count      99999.000000      99999.000000      99999.000000      99999.000000   \n",
       "mean         327.514615        322.962970        324.157122        303.345673   \n",
       "std          398.019701        408.114237        416.540455        404.588583   \n",
       "min            0.000000          0.000000          0.000000          0.000000   \n",
       "25%          109.000000        100.000000         90.000000         52.000000   \n",
       "50%          230.000000        220.000000        225.000000        200.000000   \n",
       "75%          437.500000        428.000000        434.500000        415.000000   \n",
       "max        35190.000000      40335.000000      45320.000000      37235.000000   \n",
       "\n",
       "       max_rech_amt_6  max_rech_amt_7  max_rech_amt_8  max_rech_amt_9  \\\n",
       "count    99999.000000    99999.000000    99999.000000    99999.000000   \n",
       "mean       104.637486      104.752398      107.728207      101.943889   \n",
       "std        120.614894      124.523970      126.902505      125.375109   \n",
       "min          0.000000        0.000000        0.000000        0.000000   \n",
       "25%         30.000000       30.000000       30.000000       28.000000   \n",
       "50%        110.000000      110.000000       98.000000       61.000000   \n",
       "75%        120.000000      128.000000      144.000000      144.000000   \n",
       "max       4010.000000     4010.000000     4449.000000     3399.000000   \n",
       "\n",
       "       total_rech_data_6  total_rech_data_7  total_rech_data_8  \\\n",
       "count       99999.000000       99999.000000       99999.000000   \n",
       "mean            0.619726           0.681837           0.698517   \n",
       "std             1.760541           1.924382           1.963417   \n",
       "min             0.000000           0.000000           0.000000   \n",
       "25%             0.000000           0.000000           0.000000   \n",
       "50%             0.000000           0.000000           0.000000   \n",
       "75%             1.000000           1.000000           1.000000   \n",
       "max            61.000000          54.000000          60.000000   \n",
       "\n",
       "       total_rech_data_9  max_rech_data_6  max_rech_data_7  max_rech_data_8  \\\n",
       "count       99999.000000     99999.000000     99999.000000     99999.000000   \n",
       "mean            0.632806        31.792048        32.406314        33.113011   \n",
       "std             1.669040        77.248778        78.342435        78.872739   \n",
       "min             0.000000         0.000000         0.000000         0.000000   \n",
       "25%             0.000000         0.000000         0.000000         0.000000   \n",
       "50%             0.000000         0.000000         0.000000         0.000000   \n",
       "75%             1.000000         8.000000        14.000000        17.000000   \n",
       "max            84.000000      1555.000000      1555.000000      1555.000000   \n",
       "\n",
       "       max_rech_data_9  av_rech_amt_data_6  av_rech_amt_data_7  \\\n",
       "count     99999.000000        99999.000000        99999.000000   \n",
       "mean         32.387644           48.445409           51.393440   \n",
       "std          78.818696          127.743863          132.629365   \n",
       "min           0.000000            0.000000            0.000000   \n",
       "25%           0.000000            0.000000            0.000000   \n",
       "50%           0.000000            0.000000            0.000000   \n",
       "75%          17.000000            8.250000           17.000000   \n",
       "max        1555.000000         7546.000000         4365.000000   \n",
       "\n",
       "       av_rech_amt_data_8  av_rech_amt_data_9  \n",
       "count        99999.000000        99999.000000  \n",
       "mean            52.027022           49.961089  \n",
       "std            131.182609          127.804280  \n",
       "min              0.000000            0.000000  \n",
       "25%              0.000000            0.000000  \n",
       "50%              0.000000            0.000000  \n",
       "75%             23.000000           17.000000  \n",
       "max           4076.000000         4061.000000  "
      ]
     },
     "execution_count": 28,
     "metadata": {},
     "output_type": "execute_result"
    }
   ],
   "source": [
    "tel.loc[:,Rch_tel].describe()"
   ]
  },
  {
   "cell_type": "code",
   "execution_count": 29,
   "metadata": {},
   "outputs": [
    {
     "data": {
      "text/html": [
       "<div>\n",
       "<style scoped>\n",
       "    .dataframe tbody tr th:only-of-type {\n",
       "        vertical-align: middle;\n",
       "    }\n",
       "\n",
       "    .dataframe tbody tr th {\n",
       "        vertical-align: top;\n",
       "    }\n",
       "\n",
       "    .dataframe thead th {\n",
       "        text-align: right;\n",
       "    }\n",
       "</style>\n",
       "<table border=\"1\" class=\"dataframe\">\n",
       "  <thead>\n",
       "    <tr style=\"text-align: right;\">\n",
       "      <th></th>\n",
       "      <th>total_rech_amt_6</th>\n",
       "      <th>total_rech_amt_7</th>\n",
       "      <th>total_rech_amt_8</th>\n",
       "      <th>total_rech_amt_9</th>\n",
       "      <th>max_rech_amt_6</th>\n",
       "      <th>max_rech_amt_7</th>\n",
       "      <th>max_rech_amt_8</th>\n",
       "      <th>max_rech_amt_9</th>\n",
       "      <th>total_rech_data_6</th>\n",
       "      <th>total_rech_data_7</th>\n",
       "      <th>total_rech_data_8</th>\n",
       "      <th>total_rech_data_9</th>\n",
       "      <th>max_rech_data_6</th>\n",
       "      <th>max_rech_data_7</th>\n",
       "      <th>max_rech_data_8</th>\n",
       "      <th>max_rech_data_9</th>\n",
       "      <th>av_rech_amt_data_6</th>\n",
       "      <th>av_rech_amt_data_7</th>\n",
       "      <th>av_rech_amt_data_8</th>\n",
       "      <th>av_rech_amt_data_9</th>\n",
       "    </tr>\n",
       "  </thead>\n",
       "  <tbody>\n",
       "    <tr>\n",
       "      <th>0</th>\n",
       "      <td>362</td>\n",
       "      <td>252</td>\n",
       "      <td>252</td>\n",
       "      <td>0</td>\n",
       "      <td>252</td>\n",
       "      <td>252</td>\n",
       "      <td>252</td>\n",
       "      <td>0</td>\n",
       "      <td>1.0</td>\n",
       "      <td>1.0</td>\n",
       "      <td>1.0</td>\n",
       "      <td>0.0</td>\n",
       "      <td>252.0</td>\n",
       "      <td>252.0</td>\n",
       "      <td>252.0</td>\n",
       "      <td>0.0</td>\n",
       "      <td>252.0</td>\n",
       "      <td>252.0</td>\n",
       "      <td>252.0</td>\n",
       "      <td>0.0</td>\n",
       "    </tr>\n",
       "    <tr>\n",
       "      <th>1</th>\n",
       "      <td>74</td>\n",
       "      <td>384</td>\n",
       "      <td>283</td>\n",
       "      <td>121</td>\n",
       "      <td>44</td>\n",
       "      <td>154</td>\n",
       "      <td>65</td>\n",
       "      <td>50</td>\n",
       "      <td>0.0</td>\n",
       "      <td>1.0</td>\n",
       "      <td>2.0</td>\n",
       "      <td>0.0</td>\n",
       "      <td>0.0</td>\n",
       "      <td>154.0</td>\n",
       "      <td>25.0</td>\n",
       "      <td>0.0</td>\n",
       "      <td>0.0</td>\n",
       "      <td>154.0</td>\n",
       "      <td>50.0</td>\n",
       "      <td>0.0</td>\n",
       "    </tr>\n",
       "    <tr>\n",
       "      <th>2</th>\n",
       "      <td>168</td>\n",
       "      <td>315</td>\n",
       "      <td>116</td>\n",
       "      <td>358</td>\n",
       "      <td>86</td>\n",
       "      <td>200</td>\n",
       "      <td>86</td>\n",
       "      <td>100</td>\n",
       "      <td>0.0</td>\n",
       "      <td>0.0</td>\n",
       "      <td>0.0</td>\n",
       "      <td>1.0</td>\n",
       "      <td>0.0</td>\n",
       "      <td>0.0</td>\n",
       "      <td>0.0</td>\n",
       "      <td>46.0</td>\n",
       "      <td>0.0</td>\n",
       "      <td>0.0</td>\n",
       "      <td>0.0</td>\n",
       "      <td>46.0</td>\n",
       "    </tr>\n",
       "    <tr>\n",
       "      <th>3</th>\n",
       "      <td>230</td>\n",
       "      <td>310</td>\n",
       "      <td>601</td>\n",
       "      <td>410</td>\n",
       "      <td>60</td>\n",
       "      <td>50</td>\n",
       "      <td>50</td>\n",
       "      <td>50</td>\n",
       "      <td>0.0</td>\n",
       "      <td>0.0</td>\n",
       "      <td>0.0</td>\n",
       "      <td>0.0</td>\n",
       "      <td>0.0</td>\n",
       "      <td>0.0</td>\n",
       "      <td>0.0</td>\n",
       "      <td>0.0</td>\n",
       "      <td>0.0</td>\n",
       "      <td>0.0</td>\n",
       "      <td>0.0</td>\n",
       "      <td>0.0</td>\n",
       "    </tr>\n",
       "    <tr>\n",
       "      <th>4</th>\n",
       "      <td>196</td>\n",
       "      <td>350</td>\n",
       "      <td>287</td>\n",
       "      <td>200</td>\n",
       "      <td>56</td>\n",
       "      <td>110</td>\n",
       "      <td>110</td>\n",
       "      <td>50</td>\n",
       "      <td>1.0</td>\n",
       "      <td>0.0</td>\n",
       "      <td>0.0</td>\n",
       "      <td>0.0</td>\n",
       "      <td>56.0</td>\n",
       "      <td>0.0</td>\n",
       "      <td>0.0</td>\n",
       "      <td>0.0</td>\n",
       "      <td>56.0</td>\n",
       "      <td>0.0</td>\n",
       "      <td>0.0</td>\n",
       "      <td>0.0</td>\n",
       "    </tr>\n",
       "    <tr>\n",
       "      <th>5</th>\n",
       "      <td>120</td>\n",
       "      <td>0</td>\n",
       "      <td>130</td>\n",
       "      <td>130</td>\n",
       "      <td>120</td>\n",
       "      <td>0</td>\n",
       "      <td>130</td>\n",
       "      <td>130</td>\n",
       "      <td>0.0</td>\n",
       "      <td>0.0</td>\n",
       "      <td>0.0</td>\n",
       "      <td>0.0</td>\n",
       "      <td>0.0</td>\n",
       "      <td>0.0</td>\n",
       "      <td>0.0</td>\n",
       "      <td>0.0</td>\n",
       "      <td>0.0</td>\n",
       "      <td>0.0</td>\n",
       "      <td>0.0</td>\n",
       "      <td>0.0</td>\n",
       "    </tr>\n",
       "    <tr>\n",
       "      <th>6</th>\n",
       "      <td>499</td>\n",
       "      <td>222</td>\n",
       "      <td>294</td>\n",
       "      <td>141</td>\n",
       "      <td>90</td>\n",
       "      <td>37</td>\n",
       "      <td>50</td>\n",
       "      <td>30</td>\n",
       "      <td>0.0</td>\n",
       "      <td>0.0</td>\n",
       "      <td>0.0</td>\n",
       "      <td>0.0</td>\n",
       "      <td>0.0</td>\n",
       "      <td>0.0</td>\n",
       "      <td>0.0</td>\n",
       "      <td>0.0</td>\n",
       "      <td>0.0</td>\n",
       "      <td>0.0</td>\n",
       "      <td>0.0</td>\n",
       "      <td>0.0</td>\n",
       "    </tr>\n",
       "    <tr>\n",
       "      <th>7</th>\n",
       "      <td>1580</td>\n",
       "      <td>790</td>\n",
       "      <td>3638</td>\n",
       "      <td>0</td>\n",
       "      <td>1580</td>\n",
       "      <td>790</td>\n",
       "      <td>1580</td>\n",
       "      <td>0</td>\n",
       "      <td>0.0</td>\n",
       "      <td>0.0</td>\n",
       "      <td>0.0</td>\n",
       "      <td>0.0</td>\n",
       "      <td>0.0</td>\n",
       "      <td>0.0</td>\n",
       "      <td>0.0</td>\n",
       "      <td>0.0</td>\n",
       "      <td>0.0</td>\n",
       "      <td>0.0</td>\n",
       "      <td>0.0</td>\n",
       "      <td>0.0</td>\n",
       "    </tr>\n",
       "    <tr>\n",
       "      <th>8</th>\n",
       "      <td>437</td>\n",
       "      <td>601</td>\n",
       "      <td>120</td>\n",
       "      <td>186</td>\n",
       "      <td>90</td>\n",
       "      <td>154</td>\n",
       "      <td>30</td>\n",
       "      <td>36</td>\n",
       "      <td>0.0</td>\n",
       "      <td>2.0</td>\n",
       "      <td>3.0</td>\n",
       "      <td>0.0</td>\n",
       "      <td>0.0</td>\n",
       "      <td>154.0</td>\n",
       "      <td>23.0</td>\n",
       "      <td>0.0</td>\n",
       "      <td>0.0</td>\n",
       "      <td>177.0</td>\n",
       "      <td>69.0</td>\n",
       "      <td>0.0</td>\n",
       "    </tr>\n",
       "    <tr>\n",
       "      <th>9</th>\n",
       "      <td>220</td>\n",
       "      <td>195</td>\n",
       "      <td>210</td>\n",
       "      <td>180</td>\n",
       "      <td>110</td>\n",
       "      <td>154</td>\n",
       "      <td>50</td>\n",
       "      <td>130</td>\n",
       "      <td>0.0</td>\n",
       "      <td>1.0</td>\n",
       "      <td>0.0</td>\n",
       "      <td>0.0</td>\n",
       "      <td>0.0</td>\n",
       "      <td>154.0</td>\n",
       "      <td>0.0</td>\n",
       "      <td>0.0</td>\n",
       "      <td>0.0</td>\n",
       "      <td>154.0</td>\n",
       "      <td>0.0</td>\n",
       "      <td>0.0</td>\n",
       "    </tr>\n",
       "  </tbody>\n",
       "</table>\n",
       "</div>"
      ],
      "text/plain": [
       "   total_rech_amt_6  total_rech_amt_7  total_rech_amt_8  total_rech_amt_9  \\\n",
       "0               362               252               252                 0   \n",
       "1                74               384               283               121   \n",
       "2               168               315               116               358   \n",
       "3               230               310               601               410   \n",
       "4               196               350               287               200   \n",
       "5               120                 0               130               130   \n",
       "6               499               222               294               141   \n",
       "7              1580               790              3638                 0   \n",
       "8               437               601               120               186   \n",
       "9               220               195               210               180   \n",
       "\n",
       "   max_rech_amt_6  max_rech_amt_7  max_rech_amt_8  max_rech_amt_9  \\\n",
       "0             252             252             252               0   \n",
       "1              44             154              65              50   \n",
       "2              86             200              86             100   \n",
       "3              60              50              50              50   \n",
       "4              56             110             110              50   \n",
       "5             120               0             130             130   \n",
       "6              90              37              50              30   \n",
       "7            1580             790            1580               0   \n",
       "8              90             154              30              36   \n",
       "9             110             154              50             130   \n",
       "\n",
       "   total_rech_data_6  total_rech_data_7  total_rech_data_8  total_rech_data_9  \\\n",
       "0                1.0                1.0                1.0                0.0   \n",
       "1                0.0                1.0                2.0                0.0   \n",
       "2                0.0                0.0                0.0                1.0   \n",
       "3                0.0                0.0                0.0                0.0   \n",
       "4                1.0                0.0                0.0                0.0   \n",
       "5                0.0                0.0                0.0                0.0   \n",
       "6                0.0                0.0                0.0                0.0   \n",
       "7                0.0                0.0                0.0                0.0   \n",
       "8                0.0                2.0                3.0                0.0   \n",
       "9                0.0                1.0                0.0                0.0   \n",
       "\n",
       "   max_rech_data_6  max_rech_data_7  max_rech_data_8  max_rech_data_9  \\\n",
       "0            252.0            252.0            252.0              0.0   \n",
       "1              0.0            154.0             25.0              0.0   \n",
       "2              0.0              0.0              0.0             46.0   \n",
       "3              0.0              0.0              0.0              0.0   \n",
       "4             56.0              0.0              0.0              0.0   \n",
       "5              0.0              0.0              0.0              0.0   \n",
       "6              0.0              0.0              0.0              0.0   \n",
       "7              0.0              0.0              0.0              0.0   \n",
       "8              0.0            154.0             23.0              0.0   \n",
       "9              0.0            154.0              0.0              0.0   \n",
       "\n",
       "   av_rech_amt_data_6  av_rech_amt_data_7  av_rech_amt_data_8  \\\n",
       "0               252.0               252.0               252.0   \n",
       "1                 0.0               154.0                50.0   \n",
       "2                 0.0                 0.0                 0.0   \n",
       "3                 0.0                 0.0                 0.0   \n",
       "4                56.0                 0.0                 0.0   \n",
       "5                 0.0                 0.0                 0.0   \n",
       "6                 0.0                 0.0                 0.0   \n",
       "7                 0.0                 0.0                 0.0   \n",
       "8                 0.0               177.0                69.0   \n",
       "9                 0.0               154.0                 0.0   \n",
       "\n",
       "   av_rech_amt_data_9  \n",
       "0                 0.0  \n",
       "1                 0.0  \n",
       "2                46.0  \n",
       "3                 0.0  \n",
       "4                 0.0  \n",
       "5                 0.0  \n",
       "6                 0.0  \n",
       "7                 0.0  \n",
       "8                 0.0  \n",
       "9                 0.0  "
      ]
     },
     "execution_count": 29,
     "metadata": {},
     "output_type": "execute_result"
    }
   ],
   "source": [
    "tel.loc[:,Rch_tel].head(10)"
   ]
  },
  {
   "cell_type": "code",
   "execution_count": 30,
   "metadata": {},
   "outputs": [
    {
     "data": {
      "text/html": [
       "<div>\n",
       "<style scoped>\n",
       "    .dataframe tbody tr th:only-of-type {\n",
       "        vertical-align: middle;\n",
       "    }\n",
       "\n",
       "    .dataframe tbody tr th {\n",
       "        vertical-align: top;\n",
       "    }\n",
       "\n",
       "    .dataframe thead th {\n",
       "        text-align: right;\n",
       "    }\n",
       "</style>\n",
       "<table border=\"1\" class=\"dataframe\">\n",
       "  <thead>\n",
       "    <tr style=\"text-align: right;\">\n",
       "      <th></th>\n",
       "      <th>total_rech_amt_6</th>\n",
       "      <th>max_rech_amt_6</th>\n",
       "      <th>total_rech_data_6</th>\n",
       "      <th>max_rech_data_6</th>\n",
       "      <th>av_rech_amt_data_6</th>\n",
       "    </tr>\n",
       "  </thead>\n",
       "  <tbody>\n",
       "    <tr>\n",
       "      <th>0</th>\n",
       "      <td>362</td>\n",
       "      <td>252</td>\n",
       "      <td>1.0</td>\n",
       "      <td>252.0</td>\n",
       "      <td>252.0</td>\n",
       "    </tr>\n",
       "    <tr>\n",
       "      <th>1</th>\n",
       "      <td>74</td>\n",
       "      <td>44</td>\n",
       "      <td>0.0</td>\n",
       "      <td>0.0</td>\n",
       "      <td>0.0</td>\n",
       "    </tr>\n",
       "    <tr>\n",
       "      <th>2</th>\n",
       "      <td>168</td>\n",
       "      <td>86</td>\n",
       "      <td>0.0</td>\n",
       "      <td>0.0</td>\n",
       "      <td>0.0</td>\n",
       "    </tr>\n",
       "    <tr>\n",
       "      <th>3</th>\n",
       "      <td>230</td>\n",
       "      <td>60</td>\n",
       "      <td>0.0</td>\n",
       "      <td>0.0</td>\n",
       "      <td>0.0</td>\n",
       "    </tr>\n",
       "    <tr>\n",
       "      <th>4</th>\n",
       "      <td>196</td>\n",
       "      <td>56</td>\n",
       "      <td>1.0</td>\n",
       "      <td>56.0</td>\n",
       "      <td>56.0</td>\n",
       "    </tr>\n",
       "    <tr>\n",
       "      <th>5</th>\n",
       "      <td>120</td>\n",
       "      <td>120</td>\n",
       "      <td>0.0</td>\n",
       "      <td>0.0</td>\n",
       "      <td>0.0</td>\n",
       "    </tr>\n",
       "    <tr>\n",
       "      <th>6</th>\n",
       "      <td>499</td>\n",
       "      <td>90</td>\n",
       "      <td>0.0</td>\n",
       "      <td>0.0</td>\n",
       "      <td>0.0</td>\n",
       "    </tr>\n",
       "    <tr>\n",
       "      <th>7</th>\n",
       "      <td>1580</td>\n",
       "      <td>1580</td>\n",
       "      <td>0.0</td>\n",
       "      <td>0.0</td>\n",
       "      <td>0.0</td>\n",
       "    </tr>\n",
       "    <tr>\n",
       "      <th>8</th>\n",
       "      <td>437</td>\n",
       "      <td>90</td>\n",
       "      <td>0.0</td>\n",
       "      <td>0.0</td>\n",
       "      <td>0.0</td>\n",
       "    </tr>\n",
       "    <tr>\n",
       "      <th>9</th>\n",
       "      <td>220</td>\n",
       "      <td>110</td>\n",
       "      <td>0.0</td>\n",
       "      <td>0.0</td>\n",
       "      <td>0.0</td>\n",
       "    </tr>\n",
       "  </tbody>\n",
       "</table>\n",
       "</div>"
      ],
      "text/plain": [
       "   total_rech_amt_6  max_rech_amt_6  total_rech_data_6  max_rech_data_6  \\\n",
       "0               362             252                1.0            252.0   \n",
       "1                74              44                0.0              0.0   \n",
       "2               168              86                0.0              0.0   \n",
       "3               230              60                0.0              0.0   \n",
       "4               196              56                1.0             56.0   \n",
       "5               120             120                0.0              0.0   \n",
       "6               499              90                0.0              0.0   \n",
       "7              1580            1580                0.0              0.0   \n",
       "8               437              90                0.0              0.0   \n",
       "9               220             110                0.0              0.0   \n",
       "\n",
       "   av_rech_amt_data_6  \n",
       "0               252.0  \n",
       "1                 0.0  \n",
       "2                 0.0  \n",
       "3                 0.0  \n",
       "4                56.0  \n",
       "5                 0.0  \n",
       "6                 0.0  \n",
       "7                 0.0  \n",
       "8                 0.0  \n",
       "9                 0.0  "
      ]
     },
     "execution_count": 30,
     "metadata": {},
     "output_type": "execute_result"
    }
   ],
   "source": [
    "# Now we'll be investigation of values for june month only.\n",
    "Rch_tel_6=tel.columns[tel.columns.str.contains('rech_amt_6|rech_data_6|rech_amt_data_6')]\n",
    "tel.loc[:,Rch_tel_6].head(10)"
   ]
  },
  {
   "cell_type": "code",
   "execution_count": 31,
   "metadata": {},
   "outputs": [
    {
     "data": {
      "text/html": [
       "<div>\n",
       "<style scoped>\n",
       "    .dataframe tbody tr th:only-of-type {\n",
       "        vertical-align: middle;\n",
       "    }\n",
       "\n",
       "    .dataframe tbody tr th {\n",
       "        vertical-align: top;\n",
       "    }\n",
       "\n",
       "    .dataframe thead th {\n",
       "        text-align: right;\n",
       "    }\n",
       "</style>\n",
       "<table border=\"1\" class=\"dataframe\">\n",
       "  <thead>\n",
       "    <tr style=\"text-align: right;\">\n",
       "      <th></th>\n",
       "      <th>total_rech_amt_6</th>\n",
       "      <th>max_rech_amt_6</th>\n",
       "      <th>total_rech_data_6</th>\n",
       "      <th>max_rech_data_6</th>\n",
       "      <th>av_rech_amt_data_6</th>\n",
       "    </tr>\n",
       "  </thead>\n",
       "  <tbody>\n",
       "    <tr>\n",
       "      <th>count</th>\n",
       "      <td>99999.000000</td>\n",
       "      <td>99999.000000</td>\n",
       "      <td>99999.000000</td>\n",
       "      <td>99999.000000</td>\n",
       "      <td>99999.000000</td>\n",
       "    </tr>\n",
       "    <tr>\n",
       "      <th>mean</th>\n",
       "      <td>327.514615</td>\n",
       "      <td>104.637486</td>\n",
       "      <td>0.619726</td>\n",
       "      <td>31.792048</td>\n",
       "      <td>48.445409</td>\n",
       "    </tr>\n",
       "    <tr>\n",
       "      <th>std</th>\n",
       "      <td>398.019701</td>\n",
       "      <td>120.614894</td>\n",
       "      <td>1.760541</td>\n",
       "      <td>77.248778</td>\n",
       "      <td>127.743863</td>\n",
       "    </tr>\n",
       "    <tr>\n",
       "      <th>min</th>\n",
       "      <td>0.000000</td>\n",
       "      <td>0.000000</td>\n",
       "      <td>0.000000</td>\n",
       "      <td>0.000000</td>\n",
       "      <td>0.000000</td>\n",
       "    </tr>\n",
       "    <tr>\n",
       "      <th>25%</th>\n",
       "      <td>109.000000</td>\n",
       "      <td>30.000000</td>\n",
       "      <td>0.000000</td>\n",
       "      <td>0.000000</td>\n",
       "      <td>0.000000</td>\n",
       "    </tr>\n",
       "    <tr>\n",
       "      <th>50%</th>\n",
       "      <td>230.000000</td>\n",
       "      <td>110.000000</td>\n",
       "      <td>0.000000</td>\n",
       "      <td>0.000000</td>\n",
       "      <td>0.000000</td>\n",
       "    </tr>\n",
       "    <tr>\n",
       "      <th>75%</th>\n",
       "      <td>437.500000</td>\n",
       "      <td>120.000000</td>\n",
       "      <td>1.000000</td>\n",
       "      <td>8.000000</td>\n",
       "      <td>8.250000</td>\n",
       "    </tr>\n",
       "    <tr>\n",
       "      <th>max</th>\n",
       "      <td>35190.000000</td>\n",
       "      <td>4010.000000</td>\n",
       "      <td>61.000000</td>\n",
       "      <td>1555.000000</td>\n",
       "      <td>7546.000000</td>\n",
       "    </tr>\n",
       "  </tbody>\n",
       "</table>\n",
       "</div>"
      ],
      "text/plain": [
       "       total_rech_amt_6  max_rech_amt_6  total_rech_data_6  max_rech_data_6  \\\n",
       "count      99999.000000    99999.000000       99999.000000     99999.000000   \n",
       "mean         327.514615      104.637486           0.619726        31.792048   \n",
       "std          398.019701      120.614894           1.760541        77.248778   \n",
       "min            0.000000        0.000000           0.000000         0.000000   \n",
       "25%          109.000000       30.000000           0.000000         0.000000   \n",
       "50%          230.000000      110.000000           0.000000         0.000000   \n",
       "75%          437.500000      120.000000           1.000000         8.000000   \n",
       "max        35190.000000     4010.000000          61.000000      1555.000000   \n",
       "\n",
       "       av_rech_amt_data_6  \n",
       "count        99999.000000  \n",
       "mean            48.445409  \n",
       "std            127.743863  \n",
       "min              0.000000  \n",
       "25%              0.000000  \n",
       "50%              0.000000  \n",
       "75%              8.250000  \n",
       "max           7546.000000  "
      ]
     },
     "execution_count": 31,
     "metadata": {},
     "output_type": "execute_result"
    }
   ],
   "source": [
    "tel.loc[:,Rch_tel_6].describe()"
   ]
  },
  {
   "cell_type": "code",
   "execution_count": 32,
   "metadata": {},
   "outputs": [
    {
     "data": {
      "text/plain": [
       "total_rech_amt_6      0.0\n",
       "total_rech_amt_7      0.0\n",
       "total_rech_amt_8      0.0\n",
       "total_rech_amt_9      0.0\n",
       "max_rech_amt_6        0.0\n",
       "max_rech_amt_7        0.0\n",
       "max_rech_amt_8        0.0\n",
       "max_rech_amt_9        0.0\n",
       "total_rech_data_6     0.0\n",
       "total_rech_data_7     0.0\n",
       "total_rech_data_8     0.0\n",
       "total_rech_data_9     0.0\n",
       "max_rech_data_6       0.0\n",
       "max_rech_data_7       0.0\n",
       "max_rech_data_8       0.0\n",
       "max_rech_data_9       0.0\n",
       "av_rech_amt_data_6    0.0\n",
       "av_rech_amt_data_7    0.0\n",
       "av_rech_amt_data_8    0.0\n",
       "av_rech_amt_data_9    0.0\n",
       "dtype: float64"
      ]
     },
     "execution_count": 32,
     "metadata": {},
     "output_type": "execute_result"
    }
   ],
   "source": [
    "# Verifying percentage of null values in recharge based columns\n",
    "100*tel.loc[:,Rch_tel].isnull().sum()/len(tel)"
   ]
  },
  {
   "cell_type": "code",
   "execution_count": 33,
   "metadata": {},
   "outputs": [
    {
     "name": "stdout",
     "output_type": "stream",
     "text": [
      "June : False\n",
      "July : False\n",
      "Aug : False\n"
     ]
    }
   ],
   "source": [
    "# Getting the index of null values for both columns and verifing. if both matches \n",
    "# if the result is false it means all rows of total_rech_data and av_rech_amt_data has null values at same rows.\n",
    "\n",
    "Res = tel.total_rech_data_6[tel.total_rech_data_6.isna()].index != tel.av_rech_amt_data_6[tel.av_rech_amt_data_6.isna()].index\n",
    "print('June :', Res.any())\n",
    "\n",
    "Res = tel.total_rech_data_7[tel.total_rech_data_7.isna()].index != tel.av_rech_amt_data_7[tel.av_rech_amt_data_7.isna()].index\n",
    "print('July :', Res.any())\n",
    "\n",
    "Res =tel.total_rech_data_8[tel.total_rech_data_8.isna()].index != tel.av_rech_amt_data_8[tel.av_rech_amt_data_8.isna()].index\n",
    "print('Aug :', Res.any())"
   ]
  },
  {
   "cell_type": "markdown",
   "metadata": {},
   "source": [
    "#### From the above test, we know that if total_rech_data is null then av_rech_amt_data is also null."
   ]
  },
  {
   "cell_type": "code",
   "execution_count": 34,
   "metadata": {},
   "outputs": [],
   "source": [
    "# let's add a new derived variable total recharge amount for data: total_rech_amt_data\n",
    "tel['total_data_rech_6'] = tel.total_rech_data_6 * tel.av_rech_amt_data_6\n",
    "tel['total_data_rech_7'] = tel.total_rech_data_7 * tel.av_rech_amt_data_7"
   ]
  },
  {
   "cell_type": "code",
   "execution_count": 35,
   "metadata": {},
   "outputs": [
    {
     "data": {
      "text/plain": [
       "False"
      ]
     },
     "execution_count": 35,
     "metadata": {},
     "output_type": "execute_result"
    }
   ],
   "source": [
    "any(tel.total_rech_amt_6.isna())"
   ]
  },
  {
   "cell_type": "code",
   "execution_count": 36,
   "metadata": {},
   "outputs": [
    {
     "data": {
      "text/plain": [
       "False"
      ]
     },
     "execution_count": 36,
     "metadata": {},
     "output_type": "execute_result"
    }
   ],
   "source": [
    "any(tel.total_rech_amt_7.isna())"
   ]
  },
  {
   "cell_type": "code",
   "execution_count": 37,
   "metadata": {},
   "outputs": [],
   "source": [
    "# Total recharge amount for June and July month.\n",
    "tel['amt_data_6'] = tel.total_rech_amt_6 + tel.total_data_rech_6\n",
    "tel['amt_data_7'] = tel.total_rech_amt_7 + tel.total_data_rech_7"
   ]
  },
  {
   "cell_type": "code",
   "execution_count": 38,
   "metadata": {},
   "outputs": [],
   "source": [
    "# Average recharge done by customer in June and July month.\n",
    "tel['av_amt_data_6_7'] = (tel.amt_data_6 + tel.amt_data_7)/2"
   ]
  },
  {
   "cell_type": "code",
   "execution_count": 39,
   "metadata": {},
   "outputs": [
    {
     "data": {
      "text/html": [
       "<div>\n",
       "<style scoped>\n",
       "    .dataframe tbody tr th:only-of-type {\n",
       "        vertical-align: middle;\n",
       "    }\n",
       "\n",
       "    .dataframe tbody tr th {\n",
       "        vertical-align: top;\n",
       "    }\n",
       "\n",
       "    .dataframe thead th {\n",
       "        text-align: right;\n",
       "    }\n",
       "</style>\n",
       "<table border=\"1\" class=\"dataframe\">\n",
       "  <thead>\n",
       "    <tr style=\"text-align: right;\">\n",
       "      <th></th>\n",
       "      <th>loc_og_t2o_mou</th>\n",
       "      <th>std_og_t2o_mou</th>\n",
       "      <th>loc_ic_t2o_mou</th>\n",
       "      <th>arpu_6</th>\n",
       "      <th>arpu_7</th>\n",
       "      <th>arpu_8</th>\n",
       "      <th>arpu_9</th>\n",
       "      <th>onnet_mou_6</th>\n",
       "      <th>onnet_mou_7</th>\n",
       "      <th>onnet_mou_8</th>\n",
       "      <th>...</th>\n",
       "      <th>aon</th>\n",
       "      <th>aug_vbc_3g</th>\n",
       "      <th>jul_vbc_3g</th>\n",
       "      <th>jun_vbc_3g</th>\n",
       "      <th>sep_vbc_3g</th>\n",
       "      <th>total_data_rech_6</th>\n",
       "      <th>total_data_rech_7</th>\n",
       "      <th>amt_data_6</th>\n",
       "      <th>amt_data_7</th>\n",
       "      <th>av_amt_data_6_7</th>\n",
       "    </tr>\n",
       "  </thead>\n",
       "  <tbody>\n",
       "    <tr>\n",
       "      <th>0</th>\n",
       "      <td>0.0</td>\n",
       "      <td>0.0</td>\n",
       "      <td>0.0</td>\n",
       "      <td>197.385</td>\n",
       "      <td>214.816</td>\n",
       "      <td>213.803</td>\n",
       "      <td>21.100</td>\n",
       "      <td>0.00</td>\n",
       "      <td>0.00</td>\n",
       "      <td>0.00</td>\n",
       "      <td>...</td>\n",
       "      <td>968</td>\n",
       "      <td>30.4</td>\n",
       "      <td>0.0</td>\n",
       "      <td>101.20</td>\n",
       "      <td>3.58</td>\n",
       "      <td>252.0</td>\n",
       "      <td>252.0</td>\n",
       "      <td>614.0</td>\n",
       "      <td>504.0</td>\n",
       "      <td>559.0</td>\n",
       "    </tr>\n",
       "    <tr>\n",
       "      <th>1</th>\n",
       "      <td>0.0</td>\n",
       "      <td>0.0</td>\n",
       "      <td>0.0</td>\n",
       "      <td>34.047</td>\n",
       "      <td>355.074</td>\n",
       "      <td>268.321</td>\n",
       "      <td>86.285</td>\n",
       "      <td>24.11</td>\n",
       "      <td>78.68</td>\n",
       "      <td>7.68</td>\n",
       "      <td>...</td>\n",
       "      <td>1006</td>\n",
       "      <td>0.0</td>\n",
       "      <td>0.0</td>\n",
       "      <td>0.00</td>\n",
       "      <td>0.00</td>\n",
       "      <td>0.0</td>\n",
       "      <td>154.0</td>\n",
       "      <td>74.0</td>\n",
       "      <td>538.0</td>\n",
       "      <td>306.0</td>\n",
       "    </tr>\n",
       "    <tr>\n",
       "      <th>2</th>\n",
       "      <td>0.0</td>\n",
       "      <td>0.0</td>\n",
       "      <td>0.0</td>\n",
       "      <td>167.690</td>\n",
       "      <td>189.058</td>\n",
       "      <td>210.226</td>\n",
       "      <td>290.714</td>\n",
       "      <td>11.54</td>\n",
       "      <td>55.24</td>\n",
       "      <td>37.26</td>\n",
       "      <td>...</td>\n",
       "      <td>1103</td>\n",
       "      <td>0.0</td>\n",
       "      <td>0.0</td>\n",
       "      <td>4.17</td>\n",
       "      <td>0.00</td>\n",
       "      <td>0.0</td>\n",
       "      <td>0.0</td>\n",
       "      <td>168.0</td>\n",
       "      <td>315.0</td>\n",
       "      <td>241.5</td>\n",
       "    </tr>\n",
       "    <tr>\n",
       "      <th>3</th>\n",
       "      <td>0.0</td>\n",
       "      <td>0.0</td>\n",
       "      <td>0.0</td>\n",
       "      <td>221.338</td>\n",
       "      <td>251.102</td>\n",
       "      <td>508.054</td>\n",
       "      <td>389.500</td>\n",
       "      <td>99.91</td>\n",
       "      <td>54.39</td>\n",
       "      <td>310.98</td>\n",
       "      <td>...</td>\n",
       "      <td>2491</td>\n",
       "      <td>0.0</td>\n",
       "      <td>0.0</td>\n",
       "      <td>0.00</td>\n",
       "      <td>0.00</td>\n",
       "      <td>0.0</td>\n",
       "      <td>0.0</td>\n",
       "      <td>230.0</td>\n",
       "      <td>310.0</td>\n",
       "      <td>270.0</td>\n",
       "    </tr>\n",
       "    <tr>\n",
       "      <th>4</th>\n",
       "      <td>0.0</td>\n",
       "      <td>0.0</td>\n",
       "      <td>0.0</td>\n",
       "      <td>261.636</td>\n",
       "      <td>309.876</td>\n",
       "      <td>238.174</td>\n",
       "      <td>163.426</td>\n",
       "      <td>50.31</td>\n",
       "      <td>149.44</td>\n",
       "      <td>83.89</td>\n",
       "      <td>...</td>\n",
       "      <td>1526</td>\n",
       "      <td>0.0</td>\n",
       "      <td>0.0</td>\n",
       "      <td>0.00</td>\n",
       "      <td>0.00</td>\n",
       "      <td>56.0</td>\n",
       "      <td>0.0</td>\n",
       "      <td>252.0</td>\n",
       "      <td>350.0</td>\n",
       "      <td>301.0</td>\n",
       "    </tr>\n",
       "  </tbody>\n",
       "</table>\n",
       "<p>5 rows × 201 columns</p>\n",
       "</div>"
      ],
      "text/plain": [
       "   loc_og_t2o_mou  std_og_t2o_mou  loc_ic_t2o_mou   arpu_6   arpu_7   arpu_8  \\\n",
       "0             0.0             0.0             0.0  197.385  214.816  213.803   \n",
       "1             0.0             0.0             0.0   34.047  355.074  268.321   \n",
       "2             0.0             0.0             0.0  167.690  189.058  210.226   \n",
       "3             0.0             0.0             0.0  221.338  251.102  508.054   \n",
       "4             0.0             0.0             0.0  261.636  309.876  238.174   \n",
       "\n",
       "    arpu_9  onnet_mou_6  onnet_mou_7  onnet_mou_8  ...   aon  aug_vbc_3g  \\\n",
       "0   21.100         0.00         0.00         0.00  ...   968        30.4   \n",
       "1   86.285        24.11        78.68         7.68  ...  1006         0.0   \n",
       "2  290.714        11.54        55.24        37.26  ...  1103         0.0   \n",
       "3  389.500        99.91        54.39       310.98  ...  2491         0.0   \n",
       "4  163.426        50.31       149.44        83.89  ...  1526         0.0   \n",
       "\n",
       "   jul_vbc_3g  jun_vbc_3g  sep_vbc_3g  total_data_rech_6  total_data_rech_7  \\\n",
       "0         0.0      101.20        3.58              252.0              252.0   \n",
       "1         0.0        0.00        0.00                0.0              154.0   \n",
       "2         0.0        4.17        0.00                0.0                0.0   \n",
       "3         0.0        0.00        0.00                0.0                0.0   \n",
       "4         0.0        0.00        0.00               56.0                0.0   \n",
       "\n",
       "   amt_data_6  amt_data_7  av_amt_data_6_7  \n",
       "0       614.0       504.0            559.0  \n",
       "1        74.0       538.0            306.0  \n",
       "2       168.0       315.0            241.5  \n",
       "3       230.0       310.0            270.0  \n",
       "4       252.0       350.0            301.0  \n",
       "\n",
       "[5 rows x 201 columns]"
      ]
     },
     "execution_count": 39,
     "metadata": {},
     "output_type": "execute_result"
    }
   ],
   "source": [
    "# Displaying the first five rows of the dataset.\n",
    "tel.head()"
   ]
  },
  {
   "cell_type": "code",
   "execution_count": 40,
   "metadata": {},
   "outputs": [
    {
     "data": {
      "text/html": [
       "<div>\n",
       "<style scoped>\n",
       "    .dataframe tbody tr th:only-of-type {\n",
       "        vertical-align: middle;\n",
       "    }\n",
       "\n",
       "    .dataframe tbody tr th {\n",
       "        vertical-align: top;\n",
       "    }\n",
       "\n",
       "    .dataframe thead th {\n",
       "        text-align: right;\n",
       "    }\n",
       "</style>\n",
       "<table border=\"1\" class=\"dataframe\">\n",
       "  <thead>\n",
       "    <tr style=\"text-align: right;\">\n",
       "      <th></th>\n",
       "      <th>av_amt_data_6_7</th>\n",
       "      <th>total_data_rech_6</th>\n",
       "      <th>total_data_rech_7</th>\n",
       "      <th>amt_data_6</th>\n",
       "      <th>amt_data_7</th>\n",
       "    </tr>\n",
       "  </thead>\n",
       "  <tbody>\n",
       "    <tr>\n",
       "      <th>0</th>\n",
       "      <td>559.0</td>\n",
       "      <td>252.0</td>\n",
       "      <td>252.0</td>\n",
       "      <td>614.0</td>\n",
       "      <td>504.0</td>\n",
       "    </tr>\n",
       "    <tr>\n",
       "      <th>1</th>\n",
       "      <td>306.0</td>\n",
       "      <td>0.0</td>\n",
       "      <td>154.0</td>\n",
       "      <td>74.0</td>\n",
       "      <td>538.0</td>\n",
       "    </tr>\n",
       "    <tr>\n",
       "      <th>2</th>\n",
       "      <td>241.5</td>\n",
       "      <td>0.0</td>\n",
       "      <td>0.0</td>\n",
       "      <td>168.0</td>\n",
       "      <td>315.0</td>\n",
       "    </tr>\n",
       "    <tr>\n",
       "      <th>3</th>\n",
       "      <td>270.0</td>\n",
       "      <td>0.0</td>\n",
       "      <td>0.0</td>\n",
       "      <td>230.0</td>\n",
       "      <td>310.0</td>\n",
       "    </tr>\n",
       "    <tr>\n",
       "      <th>4</th>\n",
       "      <td>301.0</td>\n",
       "      <td>56.0</td>\n",
       "      <td>0.0</td>\n",
       "      <td>252.0</td>\n",
       "      <td>350.0</td>\n",
       "    </tr>\n",
       "  </tbody>\n",
       "</table>\n",
       "</div>"
      ],
      "text/plain": [
       "   av_amt_data_6_7  total_data_rech_6  total_data_rech_7  amt_data_6  \\\n",
       "0            559.0              252.0              252.0       614.0   \n",
       "1            306.0                0.0              154.0        74.0   \n",
       "2            241.5                0.0                0.0       168.0   \n",
       "3            270.0                0.0                0.0       230.0   \n",
       "4            301.0               56.0                0.0       252.0   \n",
       "\n",
       "   amt_data_7  \n",
       "0       504.0  \n",
       "1       538.0  \n",
       "2       315.0  \n",
       "3       310.0  \n",
       "4       350.0  "
      ]
     },
     "execution_count": 40,
     "metadata": {},
     "output_type": "execute_result"
    }
   ],
   "source": [
    "tel[['av_amt_data_6_7', 'total_data_rech_6', 'total_data_rech_7', 'amt_data_6', 'amt_data_7']].head()"
   ]
  },
  {
   "cell_type": "markdown",
   "metadata": {},
   "source": [
    "#### Now we'll Filter the high-value customers\n",
    "#### Define high-value customers as follows:-\n",
    "#### Those who have recharged with an amount more than or equal to X, where X is the 70th percentile of the average recharge amount in the first two months (the good phase)."
   ]
  },
  {
   "cell_type": "code",
   "execution_count": 41,
   "metadata": {},
   "outputs": [
    {
     "name": "stdout",
     "output_type": "stream",
     "text": [
      "Recharge amount at 70th percentile: 478.0\n"
     ]
    }
   ],
   "source": [
    "# 70th percentile recharge amount\n",
    "print(\"Recharge amount at 70th percentile: {0}\".format(tel.av_amt_data_6_7.quantile(0.7)))"
   ]
  },
  {
   "cell_type": "code",
   "execution_count": 42,
   "metadata": {},
   "outputs": [
    {
     "data": {
      "text/plain": [
       "(29953, 201)"
      ]
     },
     "execution_count": 42,
     "metadata": {},
     "output_type": "execute_result"
    }
   ],
   "source": [
    "# Extracting the High value customers where total average recharge amount for good phase > 70th percentile\n",
    "High_val_custs = tel.loc[tel.av_amt_data_6_7 > tel.av_amt_data_6_7.quantile(0.7), :]\n",
    "High_val_custs = High_val_custs.reset_index(drop=True)\n",
    "High_val_custs.shape"
   ]
  },
  {
   "cell_type": "code",
   "execution_count": 43,
   "metadata": {},
   "outputs": [
    {
     "name": "stdout",
     "output_type": "stream",
     "text": [
      "Number of rows before filtering the high value customers = 99999\n"
     ]
    }
   ],
   "source": [
    "print(\"Number of rows before filtering the high value customers =\", len(tel))"
   ]
  },
  {
   "cell_type": "code",
   "execution_count": 44,
   "metadata": {},
   "outputs": [
    {
     "name": "stdout",
     "output_type": "stream",
     "text": [
      "Number of rows after filtering the high value customers = 29953\n"
     ]
    }
   ],
   "source": [
    "print(\"Number of rows after filtering the high value customers =\", len(High_val_custs))"
   ]
  },
  {
   "cell_type": "code",
   "execution_count": 45,
   "metadata": {},
   "outputs": [
    {
     "data": {
      "text/plain": [
       "(29953, 196)"
      ]
     },
     "execution_count": 45,
     "metadata": {},
     "output_type": "execute_result"
    }
   ],
   "source": [
    "# Deleting variables created to filter high-value customers\n",
    "High_val_custs = High_val_custs.drop(['total_data_rech_6', 'total_data_rech_7',\n",
    "                                      'amt_data_6', 'amt_data_7', 'av_amt_data_6_7'], axis=1)\n",
    "High_val_custs.shape"
   ]
  },
  {
   "cell_type": "code",
   "execution_count": 46,
   "metadata": {},
   "outputs": [
    {
     "name": "stdout",
     "output_type": "stream",
     "text": [
      "<class 'pandas.core.frame.DataFrame'>\n",
      "RangeIndex: 29953 entries, 0 to 29952\n",
      "Columns: 196 entries, loc_og_t2o_mou to sep_vbc_3g\n",
      "dtypes: float64(163), int64(33)\n",
      "memory usage: 44.8 MB\n"
     ]
    }
   ],
   "source": [
    "# Displaying the information of the data.\n",
    "High_val_custs.info()"
   ]
  },
  {
   "cell_type": "markdown",
   "metadata": {},
   "source": [
    "## CHURN DERIVATION :-"
   ]
  },
  {
   "cell_type": "code",
   "execution_count": 47,
   "metadata": {},
   "outputs": [],
   "source": [
    "#  Total incoming and outgoing minutes of usage\n",
    "High_val_custs['total_calls_mou_9'] = High_val_custs.total_ic_mou_9 + High_val_custs.total_og_mou_9"
   ]
  },
  {
   "cell_type": "code",
   "execution_count": 48,
   "metadata": {},
   "outputs": [],
   "source": [
    "# 2G and 3G data consumption\n",
    "High_val_custs['total_internet_mb_9'] = High_val_custs.vol_2g_mb_9 + High_val_custs.vol_3g_mb_9"
   ]
  },
  {
   "cell_type": "markdown",
   "metadata": {},
   "source": [
    "Tag churners and remove attributes of the churn phase\n",
    "Now tag the churned customers (churn=1, else 0) based on the fourth month as follows:- Those who have not made any calls (either incoming or outgoing) & have not used mobile internet even once in the churn phase.\n",
    "\n",
    "The attributes you need to use to tag churners are:\n",
    "\n",
    "1. total_ic_mou_9\n",
    "2. total_og_mou_9\n",
    "3. vol_2g_mb_9\n",
    "4. vol_3g_mb_9"
   ]
  },
  {
   "cell_type": "code",
   "execution_count": 49,
   "metadata": {},
   "outputs": [],
   "source": [
    "# Those who have not used either calls or internet in September are churned customers\n",
    "\n",
    "# Let's denote 0 as not churn and  1 as churn.\n",
    "\n",
    "High_val_custs['churn'] = High_val_custs.apply(lambda row: 1 if (row.total_calls_mou_9 == 0 and row.total_internet_mb_9 == 0) else 0, axis=1)"
   ]
  },
  {
   "cell_type": "markdown",
   "metadata": {},
   "source": [
    "Verifying that the churn is tagged correctly"
   ]
  },
  {
   "cell_type": "code",
   "execution_count": 50,
   "metadata": {},
   "outputs": [
    {
     "data": {
      "text/html": [
       "<div>\n",
       "<style scoped>\n",
       "    .dataframe tbody tr th:only-of-type {\n",
       "        vertical-align: middle;\n",
       "    }\n",
       "\n",
       "    .dataframe tbody tr th {\n",
       "        vertical-align: top;\n",
       "    }\n",
       "\n",
       "    .dataframe thead th {\n",
       "        text-align: right;\n",
       "    }\n",
       "</style>\n",
       "<table border=\"1\" class=\"dataframe\">\n",
       "  <thead>\n",
       "    <tr style=\"text-align: right;\">\n",
       "      <th></th>\n",
       "      <th>churn</th>\n",
       "      <th>total_ic_mou_9</th>\n",
       "      <th>total_og_mou_9</th>\n",
       "      <th>vol_2g_mb_9</th>\n",
       "      <th>vol_3g_mb_9</th>\n",
       "    </tr>\n",
       "  </thead>\n",
       "  <tbody>\n",
       "    <tr>\n",
       "      <th>0</th>\n",
       "      <td>1</td>\n",
       "      <td>0.00</td>\n",
       "      <td>0.00</td>\n",
       "      <td>0.00</td>\n",
       "      <td>0.00</td>\n",
       "    </tr>\n",
       "    <tr>\n",
       "      <th>1</th>\n",
       "      <td>1</td>\n",
       "      <td>0.00</td>\n",
       "      <td>0.00</td>\n",
       "      <td>0.00</td>\n",
       "      <td>0.00</td>\n",
       "    </tr>\n",
       "    <tr>\n",
       "      <th>2</th>\n",
       "      <td>0</td>\n",
       "      <td>34.91</td>\n",
       "      <td>142.18</td>\n",
       "      <td>0.00</td>\n",
       "      <td>0.00</td>\n",
       "    </tr>\n",
       "    <tr>\n",
       "      <th>3</th>\n",
       "      <td>0</td>\n",
       "      <td>252.61</td>\n",
       "      <td>1031.53</td>\n",
       "      <td>0.00</td>\n",
       "      <td>0.00</td>\n",
       "    </tr>\n",
       "    <tr>\n",
       "      <th>4</th>\n",
       "      <td>0</td>\n",
       "      <td>127.48</td>\n",
       "      <td>127.63</td>\n",
       "      <td>13.93</td>\n",
       "      <td>314.74</td>\n",
       "    </tr>\n",
       "    <tr>\n",
       "      <th>...</th>\n",
       "      <td>...</td>\n",
       "      <td>...</td>\n",
       "      <td>...</td>\n",
       "      <td>...</td>\n",
       "      <td>...</td>\n",
       "    </tr>\n",
       "    <tr>\n",
       "      <th>29948</th>\n",
       "      <td>0</td>\n",
       "      <td>391.63</td>\n",
       "      <td>64.21</td>\n",
       "      <td>0.00</td>\n",
       "      <td>0.00</td>\n",
       "    </tr>\n",
       "    <tr>\n",
       "      <th>29949</th>\n",
       "      <td>0</td>\n",
       "      <td>149.26</td>\n",
       "      <td>14.44</td>\n",
       "      <td>723.41</td>\n",
       "      <td>232.56</td>\n",
       "    </tr>\n",
       "    <tr>\n",
       "      <th>29950</th>\n",
       "      <td>0</td>\n",
       "      <td>547.11</td>\n",
       "      <td>1095.24</td>\n",
       "      <td>9.14</td>\n",
       "      <td>941.48</td>\n",
       "    </tr>\n",
       "    <tr>\n",
       "      <th>29951</th>\n",
       "      <td>0</td>\n",
       "      <td>265.84</td>\n",
       "      <td>182.16</td>\n",
       "      <td>0.05</td>\n",
       "      <td>393.34</td>\n",
       "    </tr>\n",
       "    <tr>\n",
       "      <th>29952</th>\n",
       "      <td>0</td>\n",
       "      <td>2.21</td>\n",
       "      <td>0.00</td>\n",
       "      <td>85.67</td>\n",
       "      <td>4177.14</td>\n",
       "    </tr>\n",
       "  </tbody>\n",
       "</table>\n",
       "<p>29953 rows × 5 columns</p>\n",
       "</div>"
      ],
      "text/plain": [
       "       churn  total_ic_mou_9  total_og_mou_9  vol_2g_mb_9  vol_3g_mb_9\n",
       "0          1            0.00            0.00         0.00         0.00\n",
       "1          1            0.00            0.00         0.00         0.00\n",
       "2          0           34.91          142.18         0.00         0.00\n",
       "3          0          252.61         1031.53         0.00         0.00\n",
       "4          0          127.48          127.63        13.93       314.74\n",
       "...      ...             ...             ...          ...          ...\n",
       "29948      0          391.63           64.21         0.00         0.00\n",
       "29949      0          149.26           14.44       723.41       232.56\n",
       "29950      0          547.11         1095.24         9.14       941.48\n",
       "29951      0          265.84          182.16         0.05       393.34\n",
       "29952      0            2.21            0.00        85.67      4177.14\n",
       "\n",
       "[29953 rows x 5 columns]"
      ]
     },
     "execution_count": 50,
     "metadata": {},
     "output_type": "execute_result"
    }
   ],
   "source": [
    "High_val_custs[['churn','total_ic_mou_9','total_og_mou_9','vol_2g_mb_9','vol_3g_mb_9']]"
   ]
  },
  {
   "cell_type": "markdown",
   "metadata": {},
   "source": [
    "After defining the y variable by tagging churners, delete the columns having _9 attribute in their name\n",
    "after tagging churners, remove all the attributes corresponding to the churn phase\n",
    "(all attributes having ‘ _9’, etc. in their names).\n",
    "Get the list of columns which has name ends with _9 attribute"
   ]
  },
  {
   "cell_type": "code",
   "execution_count": 51,
   "metadata": {},
   "outputs": [
    {
     "name": "stdout",
     "output_type": "stream",
     "text": [
      "The columns names ends with _9 are given below...\n"
     ]
    },
    {
     "data": {
      "text/plain": [
       "Index(['arpu_9', 'onnet_mou_9', 'offnet_mou_9', 'roam_ic_mou_9',\n",
       "       'roam_og_mou_9', 'loc_og_t2t_mou_9', 'loc_og_t2m_mou_9',\n",
       "       'loc_og_t2f_mou_9', 'loc_og_t2c_mou_9', 'loc_og_mou_9',\n",
       "       'std_og_t2t_mou_9', 'std_og_t2m_mou_9', 'std_og_t2f_mou_9',\n",
       "       'std_og_t2c_mou_9', 'std_og_mou_9', 'isd_og_mou_9', 'spl_og_mou_9',\n",
       "       'og_others_9', 'total_og_mou_9', 'loc_ic_t2t_mou_9', 'loc_ic_t2m_mou_9',\n",
       "       'loc_ic_t2f_mou_9', 'loc_ic_mou_9', 'std_ic_t2t_mou_9',\n",
       "       'std_ic_t2m_mou_9', 'std_ic_t2f_mou_9', 'std_ic_t2o_mou_9',\n",
       "       'std_ic_mou_9', 'total_ic_mou_9', 'spl_ic_mou_9', 'isd_ic_mou_9',\n",
       "       'ic_others_9', 'total_rech_num_9', 'total_rech_amt_9', 'max_rech_amt_9',\n",
       "       'last_day_rch_amt_9', 'total_rech_data_9', 'max_rech_data_9',\n",
       "       'av_rech_amt_data_9', 'vol_2g_mb_9', 'vol_3g_mb_9', 'night_pck_user_9',\n",
       "       'monthly_2g_9', 'sachet_2g_9', 'monthly_3g_9', 'sachet_3g_9',\n",
       "       'fb_user_9', 'total_calls_mou_9', 'total_internet_mb_9'],\n",
       "      dtype='object')"
      ]
     },
     "execution_count": 51,
     "metadata": {},
     "output_type": "execute_result"
    }
   ],
   "source": [
    "# finding the columns which has name ends with _9 attribute\n",
    "Mnt_9_cols = High_val_custs.columns[High_val_custs.columns.str.endswith(pat = '_9')]\n",
    "print(\"The columns names ends with _9 are given below...\")\n",
    "Mnt_9_cols"
   ]
  },
  {
   "cell_type": "code",
   "execution_count": 52,
   "metadata": {},
   "outputs": [],
   "source": [
    "# So, deleting derived variables\n",
    "High_val_custs = High_val_custs.drop(['total_calls_mou_9', 'total_internet_mb_9'], axis=1)"
   ]
  },
  {
   "cell_type": "code",
   "execution_count": 53,
   "metadata": {},
   "outputs": [
    {
     "name": "stdout",
     "output_type": "stream",
     "text": [
      "Churn Ratio:\n",
      "0    91.877274\n",
      "1     8.122726\n",
      "Name: churn, dtype: float64\n"
     ]
    }
   ],
   "source": [
    "# Change data type to category type.\n",
    "\n",
    "High_val_custs.churn = High_val_custs.churn.astype(\"category\")\n",
    "\n",
    "# print churn ratio\n",
    "print(\"Churn Ratio:\")\n",
    "print(High_val_custs.churn.value_counts()*100/High_val_custs.shape[0])"
   ]
  },
  {
   "cell_type": "markdown",
   "metadata": {},
   "source": [
    "We see that approx. 8.1% of high value customers have churned"
   ]
  },
  {
   "cell_type": "markdown",
   "metadata": {},
   "source": [
    "Calculating difference variable as the difference between 8th month and the average of 6th and 7th month."
   ]
  },
  {
   "cell_type": "code",
   "execution_count": 54,
   "metadata": {},
   "outputs": [],
   "source": [
    "High_val_custs['arpu_diff'] = High_val_custs.arpu_8 - ((High_val_custs.arpu_6 + High_val_custs.arpu_7)/2)\n",
    "\n",
    "High_val_custs['onnet_mou_diff'] = High_val_custs.onnet_mou_8 - ((High_val_custs.onnet_mou_6 + High_val_custs.onnet_mou_7)/2)\n",
    "\n",
    "High_val_custs['offnet_mou_diff'] = High_val_custs.offnet_mou_8 - ((High_val_custs.offnet_mou_6 + High_val_custs.offnet_mou_7)/2)\n",
    "\n",
    "High_val_custs['roam_ic_mou_diff'] = High_val_custs.roam_ic_mou_8 - ((High_val_custs.roam_ic_mou_6 + High_val_custs.roam_ic_mou_7)/2)\n",
    "\n",
    "High_val_custs['roam_og_mou_diff'] = High_val_custs.roam_og_mou_8 - ((High_val_custs.roam_og_mou_6 + High_val_custs.roam_og_mou_7)/2)\n",
    "\n",
    "High_val_custs['loc_og_mou_diff'] = High_val_custs.loc_og_mou_8 - ((High_val_custs.loc_og_mou_6 + High_val_custs.loc_og_mou_7)/2)\n",
    "\n",
    "High_val_custs['std_og_mou_diff'] = High_val_custs.std_og_mou_8 - ((High_val_custs.std_og_mou_6 + High_val_custs.std_og_mou_7)/2)\n",
    "\n",
    "High_val_custs['isd_og_mou_diff'] = High_val_custs.isd_og_mou_8 - ((High_val_custs.isd_og_mou_6 + High_val_custs.isd_og_mou_7)/2)\n",
    "\n",
    "High_val_custs['spl_og_mou_diff'] = High_val_custs.spl_og_mou_8 - ((High_val_custs.spl_og_mou_6 + High_val_custs.spl_og_mou_7)/2)\n",
    "\n",
    "High_val_custs['total_og_mou_diff'] = High_val_custs.total_og_mou_8 - ((High_val_custs.total_og_mou_6 + High_val_custs.total_og_mou_7)/2)\n",
    "\n",
    "High_val_custs['loc_ic_mou_diff'] = High_val_custs.loc_ic_mou_8 - ((High_val_custs.loc_ic_mou_6 + High_val_custs.loc_ic_mou_7)/2)\n",
    "\n",
    "High_val_custs['std_ic_mou_diff'] = High_val_custs.std_ic_mou_8 - ((High_val_custs.std_ic_mou_6 + High_val_custs.std_ic_mou_7)/2)\n",
    "\n",
    "High_val_custs['isd_ic_mou_diff'] = High_val_custs.isd_ic_mou_8 - ((High_val_custs.isd_ic_mou_6 + High_val_custs.isd_ic_mou_7)/2)\n",
    "\n",
    "High_val_custs['spl_ic_mou_diff'] = High_val_custs.spl_ic_mou_8 - ((High_val_custs.spl_ic_mou_6 + High_val_custs.spl_ic_mou_7)/2)\n",
    "\n",
    "High_val_custs['total_ic_mou_diff'] = High_val_custs.total_ic_mou_8 - ((High_val_custs.total_ic_mou_6 + High_val_custs.total_ic_mou_7)/2)\n",
    "\n",
    "High_val_custs['total_rech_num_diff'] = High_val_custs.total_rech_num_8 - ((High_val_custs.total_rech_num_6 + High_val_custs.total_rech_num_7)/2)\n",
    "\n",
    "High_val_custs['total_rech_amt_diff'] = High_val_custs.total_rech_amt_8 - ((High_val_custs.total_rech_amt_6 + High_val_custs.total_rech_amt_7)/2)\n",
    "\n",
    "High_val_custs['max_rech_amt_diff'] = High_val_custs.max_rech_amt_8 - ((High_val_custs.max_rech_amt_6 + High_val_custs.max_rech_amt_7)/2)\n",
    "\n",
    "High_val_custs['total_rech_data_diff'] = High_val_custs.total_rech_data_8 - ((High_val_custs.total_rech_data_6 + High_val_custs.total_rech_data_7)/2)\n",
    "\n",
    "High_val_custs['max_rech_data_diff'] = High_val_custs.max_rech_data_8 - ((High_val_custs.max_rech_data_6 + High_val_custs.max_rech_data_7)/2)\n",
    "\n",
    "High_val_custs['av_rech_amt_data_diff'] = High_val_custs.av_rech_amt_data_8 - ((High_val_custs.av_rech_amt_data_6 + High_val_custs.av_rech_amt_data_7)/2)\n",
    "\n",
    "High_val_custs['vol_2g_mb_diff'] = High_val_custs.vol_2g_mb_8 - ((High_val_custs.vol_2g_mb_6 + High_val_custs.vol_2g_mb_7)/2)\n",
    "\n",
    "High_val_custs['vol_3g_mb_diff'] = High_val_custs.vol_3g_mb_8 - ((High_val_custs.vol_3g_mb_6 + High_val_custs.vol_3g_mb_7)/2)"
   ]
  },
  {
   "cell_type": "code",
   "execution_count": 55,
   "metadata": {},
   "outputs": [
    {
     "data": {
      "text/plain": [
       "count    29953.000000\n",
       "mean       -67.461292\n",
       "std        502.520398\n",
       "min      -7213.410000\n",
       "25%       -167.865000\n",
       "50%        -14.625000\n",
       "75%         67.915000\n",
       "max      12768.705000\n",
       "Name: total_og_mou_diff, dtype: float64"
      ]
     },
     "execution_count": 55,
     "metadata": {},
     "output_type": "execute_result"
    }
   ],
   "source": [
    "High_val_custs['total_og_mou_diff'].describe()"
   ]
  },
  {
   "cell_type": "code",
   "execution_count": 56,
   "metadata": {},
   "outputs": [],
   "source": [
    "#  9th Month (churned month) Columns from the dataset\n",
    "col_9 =  High_val_custs.columns[High_val_custs.columns.str.contains('_9')]"
   ]
  },
  {
   "cell_type": "code",
   "execution_count": 57,
   "metadata": {},
   "outputs": [],
   "source": [
    "#  all names ending with 9\n",
    "col_9 = High_val_custs.filter(regex='9$', axis=1).columns\n",
    "\n",
    "# update num_cols and cat_cols column name list\n",
    "Cat_cols = [col for col in Cat_cols if col not in col_9]\n",
    "Cat_cols.append('churn')\n",
    "Num_cols = [col for col in High_val_custs.columns if col not in Cat_cols]"
   ]
  },
  {
   "cell_type": "code",
   "execution_count": 58,
   "metadata": {},
   "outputs": [],
   "source": [
    "# change column types\n",
    "High_val_custs[Num_cols] = High_val_custs[Num_cols].apply(pd.to_numeric)\n",
    "High_val_custs[Cat_cols] = High_val_custs[Cat_cols].apply(lambda column: column.astype(\"category\"), axis=0)"
   ]
  },
  {
   "cell_type": "markdown",
   "metadata": {},
   "source": [
    "## EXPLORATORY DATA ANALYSIS :-\n"
   ]
  },
  {
   "cell_type": "code",
   "execution_count": 59,
   "metadata": {},
   "outputs": [],
   "source": [
    "#  plotting functions\n",
    "def data_type(variable):\n",
    "    if variable.dtype == np.int64 or variable.dtype == np.float64:\n",
    "        return 'numerical'\n",
    "    elif variable.dtype == 'category':\n",
    "        return 'categorical'\n",
    "    \n",
    "def univariate(variable, stats=True):\n",
    "    \n",
    "    if data_type(variable) == 'numerical':\n",
    "        sns.distplot(variable)\n",
    "        if stats == True:\n",
    "            print(variable.describe())\n",
    "    \n",
    "    elif data_type(variable) == 'categorical':\n",
    "        sns.countplot(variable)\n",
    "        if stats == True:\n",
    "            print(variable.value_counts())\n",
    "            \n",
    "    else:\n",
    "        print(\"Invalid variable passed: either pass a numeric variable or a categorical vairable.\")\n",
    "        \n",
    "def bivariate(var1, var2):\n",
    "    if data_type(var1) == 'numerical' and data_type(var2) == 'numerical':\n",
    "        sns.regplot(var1, var2)\n",
    "    elif (data_type(var1) == 'categorical' and data_type(var2) == 'numerical') or (data_type(var1) == 'numerical' and data_type(var2) == 'categorical'):        \n",
    "        sns.boxplot(var1, var2)"
   ]
  },
  {
   "cell_type": "code",
   "execution_count": 60,
   "metadata": {},
   "outputs": [
    {
     "name": "stdout",
     "output_type": "stream",
     "text": [
      "count    99999.000000\n",
      "mean       282.987358\n",
      "std        328.439770\n",
      "min      -2258.709000\n",
      "25%         93.411500\n",
      "50%        197.704000\n",
      "75%        371.060000\n",
      "max      27731.088000\n",
      "Name: arpu_6, dtype: float64\n"
     ]
    },
    {
     "data": {
      "image/png": "[encoded data removed]",
      "text/plain": [
       "<Figure size 432x288 with 1 Axes>"
      ]
     },
     "metadata": {
      "needs_background": "light"
     },
     "output_type": "display_data"
    }
   ],
   "source": [
    "univariate(tel.arpu_6)"
   ]
  },
  {
   "cell_type": "code",
   "execution_count": 61,
   "metadata": {},
   "outputs": [
    {
     "data": {
      "image/png": "[encoded data removed]",
      "text/plain": [
       "<Figure size 432x288 with 1 Axes>"
      ]
     },
     "metadata": {
      "needs_background": "light"
     },
     "output_type": "display_data"
    }
   ],
   "source": [
    "bivariate(High_val_custs.sep_vbc_3g, High_val_custs.churn)"
   ]
  },
  {
   "cell_type": "code",
   "execution_count": 62,
   "metadata": {},
   "outputs": [
    {
     "data": {
      "image/png": "[encoded data removed]",
      "text/plain": [
       "<Figure size 432x288 with 1 Axes>"
      ]
     },
     "metadata": {
      "needs_background": "light"
     },
     "output_type": "display_data"
    }
   ],
   "source": [
    "bivariate(High_val_custs.churn, High_val_custs.aon)"
   ]
  },
  {
   "cell_type": "code",
   "execution_count": 63,
   "metadata": {},
   "outputs": [
    {
     "data": {
      "image/png": "[encoded data removed]",
      "text/plain": [
       "<Figure size 432x288 with 1 Axes>"
      ]
     },
     "metadata": {
      "needs_background": "light"
     },
     "output_type": "display_data"
    }
   ],
   "source": [
    "bivariate(High_val_custs.spl_og_mou_8, High_val_custs.churn)"
   ]
  },
  {
   "cell_type": "code",
   "execution_count": 64,
   "metadata": {},
   "outputs": [
    {
     "name": "stdout",
     "output_type": "stream",
     "text": [
      "count    99999.000000\n",
      "mean       175.595457\n",
      "std        310.968398\n",
      "min          0.000000\n",
      "25%         16.030000\n",
      "50%         74.680000\n",
      "75%        202.830000\n",
      "max      10310.760000\n",
      "Name: offnet_mou_9, dtype: float64\n"
     ]
    },
    {
     "data": {
      "image/png": "[encoded data removed]",
      "text/plain": [
       "<Figure size 432x288 with 1 Axes>"
      ]
     },
     "metadata": {
      "needs_background": "light"
     },
     "output_type": "display_data"
    }
   ],
   "source": [
    "univariate(tel.offnet_mou_9)"
   ]
  },
  {
   "cell_type": "code",
   "execution_count": 65,
   "metadata": {},
   "outputs": [
    {
     "name": "stdout",
     "output_type": "stream",
     "text": [
      "count    99999.000000\n",
      "mean       125.864313\n",
      "std        302.023240\n",
      "min          0.000000\n",
      "25%          4.090000\n",
      "50%         28.040000\n",
      "75%        106.740000\n",
      "max      10752.560000\n",
      "Name: onnet_mou_8, dtype: float64\n"
     ]
    },
    {
     "data": {
      "image/png": "[encoded data removed]",
      "text/plain": [
       "<Figure size 432x288 with 1 Axes>"
      ]
     },
     "metadata": {
      "needs_background": "light"
     },
     "output_type": "display_data"
    }
   ],
   "source": [
    "univariate(tel.onnet_mou_8)"
   ]
  },
  {
   "cell_type": "code",
   "execution_count": 66,
   "metadata": {},
   "outputs": [
    {
     "data": {
      "text/plain": [
       "Index(['loc_og_t2o_mou', 'std_og_t2o_mou', 'loc_ic_t2o_mou', 'arpu_6',\n",
       "       'arpu_7', 'arpu_8', 'arpu_9', 'onnet_mou_6', 'onnet_mou_7',\n",
       "       'onnet_mou_8',\n",
       "       ...\n",
       "       'spl_ic_mou_diff', 'total_ic_mou_diff', 'total_rech_num_diff',\n",
       "       'total_rech_amt_diff', 'max_rech_amt_diff', 'total_rech_data_diff',\n",
       "       'max_rech_data_diff', 'av_rech_amt_data_diff', 'vol_2g_mb_diff',\n",
       "       'vol_3g_mb_diff'],\n",
       "      dtype='object', length=220)"
      ]
     },
     "execution_count": 66,
     "metadata": {},
     "output_type": "execute_result"
    }
   ],
   "source": [
    "High_val_custs.columns"
   ]
  },
  {
   "cell_type": "code",
   "execution_count": 67,
   "metadata": {},
   "outputs": [
    {
     "data": {
      "image/png": "[encoded data removed]",
      "text/plain": [
       "<Figure size 432x288 with 1 Axes>"
      ]
     },
     "metadata": {
      "needs_background": "light"
     },
     "output_type": "display_data"
    }
   ],
   "source": [
    "bivariate(High_val_custs.spl_ic_mou_diff, High_val_custs.churn)"
   ]
  },
  {
   "cell_type": "code",
   "execution_count": 68,
   "metadata": {},
   "outputs": [
    {
     "data": {
      "image/png": "[encoded data removed]",
      "text/plain": [
       "<Figure size 432x288 with 1 Axes>"
      ]
     },
     "metadata": {
      "needs_background": "light"
     },
     "output_type": "display_data"
    }
   ],
   "source": [
    "bivariate(High_val_custs.total_ic_mou_diff, High_val_custs.churn)"
   ]
  },
  {
   "cell_type": "code",
   "execution_count": 69,
   "metadata": {},
   "outputs": [
    {
     "name": "stdout",
     "output_type": "stream",
     "text": [
      "Summary metrics - Numeric Variables\n",
      "       loc_og_t2o_mou  std_og_t2o_mou  loc_ic_t2o_mou        arpu_6  \\\n",
      "count         29953.0         29953.0         29953.0  29953.000000   \n",
      "mean              0.0             0.0             0.0    558.820058   \n",
      "std               0.0             0.0             0.0    460.868223   \n",
      "min               0.0             0.0             0.0  -2258.709000   \n",
      "25%               0.0             0.0             0.0    310.142000   \n",
      "50%               0.0             0.0             0.0    482.354000   \n",
      "75%               0.0             0.0             0.0    700.240000   \n",
      "max               0.0             0.0             0.0  27731.088000   \n",
      "\n",
      "             arpu_7        arpu_8        arpu_9   onnet_mou_6   onnet_mou_7  \\\n",
      "count  29953.000000  29953.000000  29953.000000  29953.000000  29953.000000   \n",
      "mean     561.160547    508.890301    467.446183    260.900880    268.051744   \n",
      "std      480.028497    502.136278    501.837624    459.853278    480.303238   \n",
      "min    -2014.045000   -945.808000  -1899.505000      0.000000      0.000000   \n",
      "25%      310.071000    231.615000    189.750000     17.090000     16.040000   \n",
      "50%      481.496000    427.604000    388.093000     84.640000     82.830000   \n",
      "75%      698.829000    661.753000    626.637000    290.490000    290.540000   \n",
      "max    35145.834000  33543.624000  38805.617000   7376.710000   8157.780000   \n",
      "\n",
      "        onnet_mou_8   onnet_mou_9  offnet_mou_6  offnet_mou_7  offnet_mou_8  \\\n",
      "count  29953.000000  29953.000000  29953.000000  29953.000000  29953.000000   \n",
      "mean     234.345252    211.705478    373.800402    378.233106    335.123008   \n",
      "std      458.751242    436.570958    482.712621    499.138982    481.985106   \n",
      "min        0.000000      0.000000      0.000000      0.000000      0.000000   \n",
      "25%       10.440000      6.210000     71.610000     69.980000     46.760000   \n",
      "50%       65.660000     54.410000    222.560000    220.040000    182.840000   \n",
      "75%      240.630000    209.330000    487.910000    494.030000    438.860000   \n",
      "max    10752.560000  10427.460000   8362.360000   9667.130000  14007.340000   \n",
      "\n",
      "       offnet_mou_9  roam_ic_mou_6  roam_ic_mou_7  roam_ic_mou_8  \\\n",
      "count  29953.000000   29953.000000   29953.000000   29953.000000   \n",
      "mean     303.307021      16.124001      12.646145      12.512269   \n",
      "std      447.989863      76.344227      75.833558      74.179181   \n",
      "min        0.000000       0.000000       0.000000       0.000000   \n",
      "25%       31.680000       0.000000       0.000000       0.000000   \n",
      "50%      155.790000       0.000000       0.000000       0.000000   \n",
      "75%      397.040000       0.000000       0.000000       0.000000   \n",
      "max    10310.760000    2613.310000    3813.290000    4169.810000   \n",
      "\n",
      "       roam_ic_mou_9  roam_og_mou_6  \n",
      "count   29953.000000   29953.000000  \n",
      "mean       10.542474      26.596033  \n",
      "std        67.009868     116.274169  \n",
      "min         0.000000       0.000000  \n",
      "25%         0.000000       0.000000  \n",
      "50%         0.000000       0.000000  \n",
      "75%         0.000000       0.000000  \n",
      "max      3220.660000    3775.110000  \n",
      "       roam_og_mou_7  roam_og_mou_8  roam_og_mou_9  loc_og_t2t_mou_6  \\\n",
      "count   29953.000000   29953.000000   29953.000000      29953.000000   \n",
      "mean       20.155134      19.889295      15.806793         84.574122   \n",
      "std        96.134144     104.799622      88.572782        228.962993   \n",
      "min         0.000000       0.000000       0.000000          0.000000   \n",
      "25%         0.000000       0.000000       0.000000          4.380000   \n",
      "50%         0.000000       0.000000       0.000000         24.360000   \n",
      "75%         0.000000       0.000000       0.000000         78.060000   \n",
      "max      2812.040000    5337.040000    4428.460000       6431.330000   \n",
      "\n",
      "       loc_og_t2t_mou_7  loc_og_t2t_mou_8  loc_og_t2t_mou_9  loc_og_t2m_mou_6  \\\n",
      "count      29953.000000      29953.000000      29953.000000      29953.000000   \n",
      "mean          85.762835         78.153334         73.037748        163.309546   \n",
      "std          240.702116        227.540167        223.647629        250.218928   \n",
      "min            0.000000          0.000000          0.000000          0.000000   \n",
      "25%            4.630000          2.540000          1.440000         19.210000   \n",
      "50%           24.680000         20.740000         18.090000         77.260000   \n",
      "75%           78.510000         72.130000         67.390000        209.030000   \n",
      "max         7400.660000      10752.560000      10389.240000       4729.740000   \n",
      "\n",
      "       loc_og_t2m_mou_7  loc_og_t2m_mou_8  loc_og_t2m_mou_9  loc_og_t2f_mou_6  \\\n",
      "count      29953.000000      29953.000000      29953.000000      29953.000000   \n",
      "mean         163.087606        151.810056        143.612054          6.348347   \n",
      "std          241.683234        233.745412        232.684515         22.139546   \n",
      "min            0.000000          0.000000          0.000000          0.000000   \n",
      "25%           20.490000         13.130000          8.580000          0.000000   \n",
      "50%           78.990000         67.790000         60.930000          0.000000   \n",
      "75%          208.530000        197.030000        182.690000          4.230000   \n",
      "max         4557.140000       4961.330000       4429.880000       1466.030000   \n",
      "\n",
      "       loc_og_t2f_mou_7  loc_og_t2f_mou_8  loc_og_t2f_mou_9  loc_og_t2c_mou_6  \\\n",
      "count      29953.000000      29953.000000      29953.000000      29953.000000   \n",
      "mean           6.426493          5.891865          5.767122          1.577380   \n",
      "std           21.957189         19.516259         19.764688          6.308138   \n",
      "min            0.000000          0.000000          0.000000          0.000000   \n",
      "25%            0.000000          0.000000          0.000000          0.000000   \n",
      "50%            0.100000          0.000000          0.000000          0.000000   \n",
      "75%            4.380000          3.930000          3.580000          0.000000   \n",
      "max         1196.430000        928.490000        927.410000        271.440000   \n",
      "\n",
      "       loc_og_t2c_mou_7  loc_og_t2c_mou_8  loc_og_t2c_mou_9  loc_og_mou_6  \n",
      "count      29953.000000      29953.000000      29953.000000  29953.000000  \n",
      "mean           1.888737          1.701889          1.435863    254.240239  \n",
      "std            9.143628          7.147606          6.183477    378.546516  \n",
      "min            0.000000          0.000000          0.000000      0.000000  \n",
      "25%            0.000000          0.000000          0.000000     32.260000  \n",
      "50%            0.000000          0.000000          0.000000    124.590000  \n",
      "75%            0.100000          0.010000          0.000000    332.310000  \n",
      "max          569.710000        351.830000        274.890000  10643.380000  \n",
      "       loc_og_mou_7  loc_og_mou_8  loc_og_mou_9  std_og_t2t_mou_6  \\\n",
      "count  29953.000000  29953.000000  29953.000000      29953.000000   \n",
      "mean     255.285293    235.863120    222.424468        165.897941   \n",
      "std      375.617344    363.548405    362.076925        403.990737   \n",
      "min        0.000000      0.000000      0.000000          0.000000   \n",
      "25%       34.510000     22.540000     15.030000          0.000000   \n",
      "50%      128.060000    111.010000     98.390000          2.710000   \n",
      "75%      333.540000    310.680000    288.410000        109.560000   \n",
      "max     7674.780000  11039.910000  11099.260000       7366.580000   \n",
      "\n",
      "       std_og_t2t_mou_7  std_og_t2t_mou_8  std_og_t2t_mou_9  std_og_t2m_mou_6  \\\n",
      "count      29953.000000      29953.000000      29953.000000      29953.000000   \n",
      "mean         174.378166        148.587258        132.357465        179.439168   \n",
      "std          421.470201        397.838396        373.092363        409.143255   \n",
      "min            0.000000          0.000000          0.000000          0.000000   \n",
      "25%            0.000000          0.000000          0.000000          0.000000   \n",
      "50%            2.680000          0.630000          0.000000         16.360000   \n",
      "75%          116.530000         78.190000         62.680000        154.540000   \n",
      "max         8133.660000       8014.430000       7244.160000       8314.760000   \n",
      "\n",
      "       std_og_t2m_mou_7  std_og_t2m_mou_8  std_og_t2m_mou_9  std_og_t2f_mou_6  \\\n",
      "count      29953.000000      29953.000000      29953.000000      29953.000000   \n",
      "mean         187.961923        157.322964        137.517311          1.806292   \n",
      "std          433.808121        409.035684        366.118578         11.988810   \n",
      "min            0.000000          0.000000          0.000000          0.000000   \n",
      "25%            0.000000          0.000000          0.000000          0.000000   \n",
      "50%           16.060000          9.460000          6.200000          0.000000   \n",
      "75%          160.260000        117.710000         96.190000          0.000000   \n",
      "max         9284.740000      13950.040000      10223.430000        628.560000   \n",
      "\n",
      "       std_og_t2f_mou_7  std_og_t2f_mou_8  std_og_t2f_mou_9  std_og_t2c_mou_6  \\\n",
      "count      29953.000000      29953.000000      29953.000000           29953.0   \n",
      "mean           1.828363          1.586742          1.518015               0.0   \n",
      "std           12.990380         10.940142         11.437201               0.0   \n",
      "min            0.000000          0.000000          0.000000               0.0   \n",
      "25%            0.000000          0.000000          0.000000               0.0   \n",
      "50%            0.000000          0.000000          0.000000               0.0   \n",
      "75%            0.000000          0.000000          0.000000               0.0   \n",
      "max          544.630000        516.910000        808.490000               0.0   \n",
      "\n",
      "       std_og_t2c_mou_7  std_og_t2c_mou_8  std_og_t2c_mou_9  std_og_mou_6  \n",
      "count           29953.0           29953.0           29953.0  29953.000000  \n",
      "mean                0.0               0.0               0.0    347.147123  \n",
      "std                 0.0               0.0               0.0    608.845412  \n",
      "min                 0.0               0.0               0.0      0.000000  \n",
      "25%                 0.0               0.0               0.0      0.400000  \n",
      "50%                 0.0               0.0               0.0     45.080000  \n",
      "75%                 0.0               0.0               0.0    465.290000  \n",
      "max                 0.0               0.0               0.0   8432.990000  \n"
     ]
    },
    {
     "name": "stdout",
     "output_type": "stream",
     "text": [
      "       std_og_mou_7  std_og_mou_8  std_og_mou_9  isd_og_mou_6  isd_og_mou_7  \\\n",
      "count  29953.000000  29953.000000  29953.000000  29953.000000  29953.000000   \n",
      "mean     364.172169    307.500304    271.395931      2.174995      2.109014   \n",
      "std      640.128871    609.109928    562.376344     45.888834     45.581631   \n",
      "min        0.000000      0.000000      0.000000      0.000000      0.000000   \n",
      "25%        0.150000      0.000000      0.000000      0.000000      0.000000   \n",
      "50%       44.030000     25.560000     17.110000      0.000000      0.000000   \n",
      "75%      499.690000    357.240000    293.390000      0.000000      0.000000   \n",
      "max    10936.730000  13980.060000  11495.310000   5900.660000   5490.280000   \n",
      "\n",
      "       isd_og_mou_8  isd_og_mou_9  spl_og_mou_6  spl_og_mou_7  spl_og_mou_8  \\\n",
      "count  29953.000000  29953.000000  29953.000000  29953.000000  29953.000000   \n",
      "mean       1.952078      1.697907      5.825077      7.106715      6.549024   \n",
      "std       44.747769     36.592424     17.579228     21.768942     20.289977   \n",
      "min        0.000000      0.000000      0.000000      0.000000      0.000000   \n",
      "25%        0.000000      0.000000      0.000000      0.000000      0.000000   \n",
      "50%        0.000000      0.000000      0.230000      0.710000      0.430000   \n",
      "75%        0.000000      0.000000      5.210000      6.950000      6.140000   \n",
      "max     5681.540000   4244.530000   1023.210000   1265.790000    954.510000   \n",
      "\n",
      "       spl_og_mou_9   og_others_6   og_others_7   og_others_8   og_others_9  \\\n",
      "count  29953.000000  29953.000000  29953.000000  29953.000000  29953.000000   \n",
      "mean       5.527048      0.661547      0.042961      0.057694      0.089160   \n",
      "std       17.826710      4.110913      2.678936      3.317780      5.654212   \n",
      "min        0.000000      0.000000      0.000000      0.000000      0.000000   \n",
      "25%        0.000000      0.000000      0.000000      0.000000      0.000000   \n",
      "50%        0.030000      0.000000      0.000000      0.000000      0.000000   \n",
      "75%        4.840000      0.000000      0.000000      0.000000      0.000000   \n",
      "max     1069.090000    609.810000    370.130000    394.930000    787.790000   \n",
      "\n",
      "       total_og_mou_6  total_og_mou_7  total_og_mou_8  total_og_mou_9  \\\n",
      "count    29953.000000    29953.000000    29953.000000    29953.000000   \n",
      "mean       610.058005      628.724108      551.929765      501.141639   \n",
      "std        691.178402      717.567954      700.585424      667.138160   \n",
      "min          0.000000        0.000000        0.000000        0.000000   \n",
      "25%        116.640000      116.590000       72.490000       47.730000   \n",
      "50%        410.630000      425.640000      333.610000      285.130000   \n",
      "75%        859.030000      891.990000      775.380000      698.790000   \n",
      "max      10674.030000    11365.310000    14043.060000    11517.730000   \n",
      "\n",
      "       loc_ic_t2t_mou_6  \n",
      "count      29953.000000  \n",
      "mean          65.508916  \n",
      "std          163.855393  \n",
      "min            0.000000  \n",
      "25%            6.100000  \n",
      "50%           25.080000  \n",
      "75%           67.480000  \n",
      "max         6351.440000  \n",
      "       loc_ic_t2t_mou_7  loc_ic_t2t_mou_8  loc_ic_t2t_mou_9  loc_ic_t2m_mou_6  \\\n",
      "count      29953.000000      29953.000000      29953.000000      29953.000000   \n",
      "mean          66.686921         62.662397         59.414085        150.474219   \n",
      "std          167.521866        159.026025        162.063745        219.321437   \n",
      "min            0.000000          0.000000          0.000000          0.000000   \n",
      "25%            6.790000          4.880000          3.580000         28.090000   \n",
      "50%           25.780000         22.610000         20.810000         84.110000   \n",
      "75%           68.730000         65.110000         60.630000        188.740000   \n",
      "max         5709.590000       4003.210000       7565.890000       4693.860000   \n",
      "\n",
      "       loc_ic_t2m_mou_7  loc_ic_t2m_mou_8  loc_ic_t2m_mou_9  loc_ic_t2f_mou_6  \\\n",
      "count      29953.000000      29953.000000      29953.000000      29953.000000   \n",
      "mean         151.712177        146.303887        138.000437         15.291721   \n",
      "std          218.367498        214.996335        206.472155         45.785255   \n",
      "min            0.000000          0.000000          0.000000          0.000000   \n",
      "25%           30.840000         24.230000         19.130000          0.000000   \n",
      "50%           85.690000         80.040000         73.730000          1.840000   \n",
      "75%          190.740000        185.830000        175.610000         11.980000   \n",
      "max         4171.510000       4643.490000       4534.790000       1678.410000   \n",
      "\n",
      "       loc_ic_t2f_mou_7  loc_ic_t2f_mou_8  loc_ic_t2f_mou_9  loc_ic_mou_6  \\\n",
      "count      29953.000000      29953.000000      29953.000000  29953.000000   \n",
      "mean          16.046447         14.414880         14.644960    231.284489   \n",
      "std           49.201697         43.335424         48.718448    315.005426   \n",
      "min            0.000000          0.000000          0.000000      0.000000   \n",
      "25%            0.000000          0.000000          0.000000     47.910000   \n",
      "50%            2.000000          1.680000          1.460000    134.560000   \n",
      "75%           12.240000         11.160000         10.740000    297.260000   \n",
      "max         1983.010000       1588.530000       2167.910000   7454.630000   \n",
      "\n",
      "       loc_ic_mou_7  loc_ic_mou_8  loc_ic_mou_9  std_ic_t2t_mou_6  \\\n",
      "count  29953.000000  29953.000000  29953.000000      29953.000000   \n",
      "mean     234.455252    223.390506    212.068586         14.896832   \n",
      "std      316.177938    308.483647    305.763009         77.750215   \n",
      "min        0.000000      0.000000      0.000000          0.000000   \n",
      "25%       52.540000     40.540000     32.860000          0.000000   \n",
      "50%      137.660000    128.790000    117.860000          0.380000   \n",
      "75%      298.780000    285.480000    273.840000          8.190000   \n",
      "max     6466.740000   5388.740000   7785.460000       5459.560000   \n",
      "\n",
      "       std_ic_t2t_mou_7  std_ic_t2t_mou_8  std_ic_t2t_mou_9  std_ic_t2m_mou_6  \n",
      "count      29953.000000      29953.000000      29953.000000      29953.000000  \n",
      "mean          15.432838         13.919836         13.133767         29.212448  \n",
      "std           83.106360         71.387685         69.805061         98.279300  \n",
      "min            0.000000          0.000000          0.000000          0.000000  \n",
      "25%            0.000000          0.000000          0.000000          0.000000  \n",
      "50%            0.450000          0.110000          0.000000          5.000000  \n",
      "75%            8.590000          7.060000          5.960000         23.630000  \n",
      "max         5800.930000       4309.290000       3819.830000       4630.230000  \n",
      "       std_ic_t2m_mou_7  std_ic_t2m_mou_8  std_ic_t2m_mou_9  std_ic_t2f_mou_6  \\\n",
      "count      29953.000000      29953.000000      29953.000000      29953.000000   \n",
      "mean          30.828347         27.920360         25.303197          2.698829   \n",
      "std          105.685760        103.374423         92.362968         19.114766   \n",
      "min            0.000000          0.000000          0.000000          0.000000   \n",
      "25%            0.000000          0.000000          0.000000          0.000000   \n",
      "50%            5.180000          3.710000          2.900000          0.000000   \n",
      "75%           24.960000         21.830000         19.190000          0.110000   \n",
      "max         3470.380000       5645.860000       5689.760000       1351.110000   \n",
      "\n",
      "       std_ic_t2f_mou_7  std_ic_t2f_mou_8  std_ic_t2f_mou_9  std_ic_t2o_mou_6  \\\n",
      "count      29953.000000      29953.000000      29953.000000           29953.0   \n",
      "mean           2.801822          2.564944          2.573833               0.0   \n",
      "std           19.529757         19.912581         19.589530               0.0   \n",
      "min            0.000000          0.000000          0.000000               0.0   \n",
      "25%            0.000000          0.000000          0.000000               0.0   \n",
      "50%            0.000000          0.000000          0.000000               0.0   \n",
      "75%            0.200000          0.090000          0.100000               0.0   \n",
      "max         1136.080000       1394.890000       1431.960000               0.0   \n",
      "\n",
      "       std_ic_t2o_mou_7  std_ic_t2o_mou_8  std_ic_t2o_mou_9  std_ic_mou_6  \\\n",
      "count           29953.0           29953.0           29953.0  29953.000000   \n",
      "mean                0.0               0.0               0.0     46.811695   \n",
      "std                 0.0               0.0               0.0    137.597749   \n",
      "min                 0.0               0.0               0.0      0.000000   \n",
      "25%                 0.0               0.0               0.0      1.030000   \n",
      "50%                 0.0               0.0               0.0     11.410000   \n",
      "75%                 0.0               0.0               0.0     41.490000   \n",
      "max                 0.0               0.0               0.0   5459.630000   \n",
      "\n",
      "       std_ic_mou_7  std_ic_mou_8  std_ic_mou_9  total_ic_mou_6  \\\n",
      "count  29953.000000  29953.000000  29953.000000    29953.000000   \n",
      "mean      49.066658     44.408522     41.014005      290.121569   \n",
      "std      148.231218    138.876998    130.056554      365.739944   \n",
      "min        0.000000      0.000000      0.000000        0.000000   \n",
      "25%        1.050000      0.410000      0.010000       72.890000   \n",
      "50%       12.090000      9.290000      7.660000      183.780000   \n",
      "75%       43.840000     38.380000     34.030000      372.160000   \n",
      "max     6745.760000   5957.140000   5956.660000     7716.140000   \n",
      "\n",
      "       total_ic_mou_7  total_ic_mou_8  total_ic_mou_9  spl_ic_mou_6  \n",
      "count    29953.000000    29953.000000    29953.000000  29953.000000  \n",
      "mean       296.944240      280.074127      265.079232      0.061047  \n",
      "std        373.950048      361.356861      358.502996      0.188124  \n",
      "min          0.000000        0.000000        0.000000      0.000000  \n",
      "25%         79.030000       61.490000       50.490000      0.000000  \n",
      "50%        187.710000      173.160000      158.030000      0.000000  \n",
      "75%        377.560000      361.990000      343.960000      0.000000  \n",
      "max       7442.860000     6066.630000     7785.730000     19.760000  \n",
      "       spl_ic_mou_7  spl_ic_mou_8  spl_ic_mou_9  isd_ic_mou_6  isd_ic_mou_7  \\\n",
      "count  29953.000000  29953.000000  29953.000000  29953.000000  29953.000000   \n",
      "mean       0.019767      0.026548      0.119767     10.800999     11.893198   \n",
      "std        0.181984      0.110617      0.420503     76.789627     80.242156   \n",
      "min        0.000000      0.000000      0.000000      0.000000      0.000000   \n",
      "25%        0.000000      0.000000      0.000000      0.000000      0.000000   \n",
      "50%        0.000000      0.000000      0.000000      0.000000      0.000000   \n",
      "75%        0.000000      0.000000      0.000000      0.000000      0.000000   \n",
      "max       21.330000      6.230000     19.460000   6789.410000   4747.910000   \n",
      "\n",
      "       isd_ic_mou_8  isd_ic_mou_9   ic_others_6   ic_others_7   ic_others_8  \\\n",
      "count  29953.000000  29953.000000  29953.000000  29953.000000  29953.000000   \n",
      "mean      11.015061     10.564914      1.155223      1.501800      1.226167   \n",
      "std       70.655796     72.916388     13.997065     16.009497     12.793386   \n",
      "min        0.000000      0.000000      0.000000      0.000000      0.000000   \n",
      "25%        0.000000      0.000000      0.000000      0.000000      0.000000   \n",
      "50%        0.000000      0.000000      0.000000      0.000000      0.000000   \n",
      "75%        0.000000      0.000000      0.050000      0.000000      0.000000   \n",
      "max     3432.880000   3262.310000   1344.140000   1495.940000   1209.860000   \n",
      "\n",
      "        ic_others_9  total_rech_num_6  total_rech_num_7  total_rech_num_8  \\\n",
      "count  29953.000000      29953.000000      29953.000000      29953.000000   \n",
      "mean       1.304368         11.853804         11.724635          9.975595   \n",
      "std       13.746912          9.428779          9.434662          9.276133   \n",
      "min        0.000000          0.000000          0.000000          0.000000   \n",
      "25%        0.000000          6.000000          6.000000          4.000000   \n",
      "50%        0.000000          9.000000          9.000000          8.000000   \n",
      "75%        0.000000         15.000000         15.000000         13.000000   \n",
      "max      919.630000        307.000000        138.000000        196.000000   \n",
      "\n",
      "       total_rech_num_9  total_rech_amt_6  total_rech_amt_7  total_rech_amt_8  \\\n",
      "count      29953.000000      29953.000000      29953.000000      29953.000000   \n",
      "mean           9.512803        661.126732        660.930792        584.712416   \n",
      "std            8.849939        561.326013        582.745461        611.474081   \n",
      "min            0.000000          0.000000          0.000000          0.000000   \n",
      "25%            4.000000        360.000000        352.000000        250.000000   \n",
      "50%            7.000000        566.000000        562.000000        491.000000   \n",
      "75%           12.000000        834.000000        832.000000        776.000000   \n",
      "max          131.000000      35190.000000      40335.000000      45320.000000   \n",
      "\n",
      "       total_rech_amt_9  max_rech_amt_6  \n",
      "count      29953.000000    29953.000000  \n",
      "mean         543.269188      169.348145  \n",
      "std          589.488711      175.421794  \n",
      "min            0.000000        0.000000  \n",
      "25%          200.000000      110.000000  \n",
      "50%          447.000000      120.000000  \n",
      "75%          738.000000      200.000000  \n",
      "max        37235.000000     4010.000000  \n"
     ]
    },
    {
     "name": "stdout",
     "output_type": "stream",
     "text": [
      "       max_rech_amt_7  max_rech_amt_8  max_rech_amt_9  last_day_rch_amt_6  \\\n",
      "count    29953.000000    29953.000000    29953.000000        29953.000000   \n",
      "mean       172.281474      160.224351      154.907388          100.934397   \n",
      "std        181.504312      173.298179      171.842662          143.818247   \n",
      "min          0.000000        0.000000        0.000000            0.000000   \n",
      "25%        110.000000       50.000000       50.000000           25.000000   \n",
      "50%        128.000000      130.000000      130.000000           67.000000   \n",
      "75%        200.000000      198.000000      198.000000          120.000000   \n",
      "max       4010.000000     4449.000000     3399.000000         4010.000000   \n",
      "\n",
      "       last_day_rch_amt_7  last_day_rch_amt_8  last_day_rch_amt_9  \\\n",
      "count        29953.000000        29953.000000        29953.000000   \n",
      "mean           100.377358           92.443061           66.069008   \n",
      "std            141.001377          145.247315          128.263660   \n",
      "min              0.000000            0.000000            0.000000   \n",
      "25%             20.000000            0.000000            0.000000   \n",
      "50%             50.000000           50.000000           20.000000   \n",
      "75%            130.000000          130.000000          130.000000   \n",
      "max           4010.000000         4449.000000         3399.000000   \n",
      "\n",
      "       total_rech_data_6  total_rech_data_7  total_rech_data_8  \\\n",
      "count       29953.000000       29953.000000       29953.000000   \n",
      "mean            1.669649           1.855874           1.623009   \n",
      "std             2.832934           3.093650           2.997534   \n",
      "min             0.000000           0.000000           0.000000   \n",
      "25%             0.000000           0.000000           0.000000   \n",
      "50%             1.000000           1.000000           1.000000   \n",
      "75%             2.000000           2.000000           2.000000   \n",
      "max            61.000000          54.000000          60.000000   \n",
      "\n",
      "       total_rech_data_9  max_rech_data_6  max_rech_data_7  max_rech_data_8  \\\n",
      "count       29953.000000     29953.000000     29953.000000     29953.000000   \n",
      "mean            1.364504        78.133042        79.888392        72.540013   \n",
      "std             2.435865       112.776299       114.320313       110.612367   \n",
      "min             0.000000         0.000000         0.000000         0.000000   \n",
      "25%             0.000000         0.000000         0.000000         0.000000   \n",
      "50%             1.000000        25.000000        25.000000        23.000000   \n",
      "75%             2.000000       154.000000       154.000000       154.000000   \n",
      "max            84.000000      1555.000000      1555.000000      1555.000000   \n",
      "\n",
      "       max_rech_data_9  av_rech_amt_data_6  av_rech_amt_data_7  \\\n",
      "count     29953.000000        29953.000000        29953.000000   \n",
      "mean         71.478316          130.778704          139.917875   \n",
      "std         110.588718          200.433474          206.923923   \n",
      "min           0.000000            0.000000            0.000000   \n",
      "25%           0.000000            0.000000            0.000000   \n",
      "50%          17.000000           50.000000           69.000000   \n",
      "75%         152.000000          198.000000          210.000000   \n",
      "max        1555.000000         7546.000000         4365.000000   \n",
      "\n",
      "       av_rech_amt_data_8  av_rech_amt_data_9   vol_2g_mb_6  \n",
      "count        29953.000000        29953.000000  29953.000000  \n",
      "mean           122.209324          115.613058    126.522998  \n",
      "std            195.645691          190.890807    330.332119  \n",
      "min              0.000000            0.000000      0.000000  \n",
      "25%              0.000000            0.000000      0.000000  \n",
      "50%             25.000000           17.000000      0.010000  \n",
      "75%            196.000000          179.000000     83.670000  \n",
      "max           4061.000000         4061.000000  10285.900000  \n"
     ]
    }
   ],
   "source": [
    "print('Summary metrics - Numeric Variables')\n",
    "\n",
    "numeric_df = (High_val_custs.iloc[:,0:20])._get_numeric_data()\n",
    "print(numeric_df.describe())\n",
    "\n",
    "numeric_df = (High_val_custs.iloc[:,20:40])._get_numeric_data()\n",
    "print(numeric_df.describe())\n",
    "  \n",
    "numeric_df = (High_val_custs.iloc[:,40:60])._get_numeric_data()\n",
    "print(numeric_df.describe())\n",
    "\n",
    "numeric_df = (High_val_custs.iloc[:,60:80])._get_numeric_data()\n",
    "print(numeric_df.describe())\n",
    "\n",
    "numeric_df = (High_val_custs.iloc[:,80:100])._get_numeric_data()\n",
    "print(numeric_df.describe())\n",
    "\n",
    "numeric_df = (High_val_custs.iloc[:,100:120])._get_numeric_data()\n",
    "print(numeric_df.describe())\n",
    "\n",
    "numeric_df = (High_val_custs.iloc[:,120:140])._get_numeric_data()\n",
    "print(numeric_df.describe())\n",
    "\n",
    "numeric_df = (High_val_custs.iloc[:,140:160])._get_numeric_data()\n",
    "print(numeric_df.describe())"
   ]
  },
  {
   "cell_type": "markdown",
   "metadata": {},
   "source": [
    "# EDA - Summary\n",
    "Calls Revenue(3 columns):<br>\n",
    "Invalid Values : Having minimum values as negatives, indicating some customers are making loss to the company. These columns are either invalid or not adding value to our prediction, can be dropped from the dataset.<br>\n",
    "\n",
    "Standardise: Revenue columns can be rounded to 2 decimal places.<br>\n",
    "\n",
    "Minutes of usage(60+ columns):<br>\n",
    "Usage minutes is generally 0 except for few outliers, for below variables:<br>\n",
    "Roaming Incoming ISD Incoming Special Incoming Others STD incoming T2F STD outgoing T2F Outgoing Others ISD Outgoing Local Outgoing T2C (Customer care calls)<br>\n",
    "\n",
    "Most of the columns have outliers.<br>\n",
    "\n",
    "#### Aggregating Columns based on Incoming and Outgoing, or Aggregating based on Each Type of Incoming Calls and Outgoing Calls and looking at the metrics will give a better understanding of the data.\n",
    "\n",
    "Recharge (12 Numeric + 3 Date columns)<br>\n",
    "Data Type Conversion:<br>\n",
    "\n",
    "- Data in numeric columns are integers, so can be converted to int type.<br>\n",
    "- Date columns need to be converted to date type<br>\n",
    "- Data 2G And 3G(22 Columns)<br>\n",
    "- Most of the columns have median as O and have outliers<br>\n",
    "\n",
    "- vbc_3g columns need column renaming as it needs month to be encoded to its number.<br>\n",
    "\n",
    "- Standardise: Columns can be rounded off to 2 decimal places.<br>\n",
    "\n",
    "- Age on Network (1 Column)<br>\n",
    "- Feature can be derived from AON column.<br>\n",
    "\n",
    "- Churn (Dependent Variable)<br>\n",
    "- There exists a Class Imbalance in the dataset, where actual churn customers are only 6% of the dataset.<br>\n",
    "\n",
    "Reviewing the Dropped Columns:<br>\n",
    "- More columns will be lost because of dropping missing value columns, while it can be handled to be imputed by considered 0 as   missing values follow a pattern where Calls only users have blanks for Data related columns and the vice versa.<br>\n",
    "\n",
    "- Feature Engineering - Thoughts<br>\n",
    "- Derive no. of years the customer is using network from AON<br>\n",
    "- Derive fields to indicate the type of user the customer is: Uses Both Calls and Data, Only Calls, Only Data, Only Incoming     calls, Only Outgoing calls, etc.<br>\n",
    "- Bin the customers into different segments based on Service usage, Recharge amount, Usage/Recharge pattern.<br>\n",
    "- Calls to Customer Care is a Key indicator that customer is not happy with the services, derive columns like time over    call<br>"
   ]
  },
  {
   "cell_type": "code",
   "execution_count": 70,
   "metadata": {},
   "outputs": [],
   "source": [
    "# create function to anlyze the features across 6th, 7th and 8th month\n",
    "def analyze_feature(feature_start):\n",
    "    plt.rcParams[\"figure.figsize\"] = [17, 7]\n",
    "    fig = plt.figure()\n",
    "    print(\"Churn Stats (mean and standard deviation):\")\n",
    "    cols = {c: feature_start + \"_\" + str(c) for c in [6,7,8]}\n",
    "    print(cols)\n",
    "    frame_data = []\n",
    "    [frame_data.append({\n",
    "        \"mean_6\": High_val_custs[High_val_custs[\"churn\"] == churn][cols[6]].mean(),\n",
    "        \"mean_7\": High_val_custs[High_val_custs[\"churn\"] == churn][cols[7]].mean(),\n",
    "        \"mean_8\": High_val_custs[High_val_custs[\"churn\"] == churn][cols[8]].mean(),\n",
    "        \"std_6\": High_val_custs[High_val_custs[\"churn\"] == churn][cols[6]].std(),\n",
    "        \"std_7\": High_val_custs[High_val_custs[\"churn\"] == churn][cols[7]].std(),\n",
    "        \"std_8\": High_val_custs[High_val_custs[\"churn\"] == churn][cols[8]].std()\n",
    "    }) for churn in [0,1]]\n",
    "    \n",
    "    f,axes = plt.subplots(nrows=1, ncols=3)\n",
    "    sns.boxplot(data=High_val_custs, y=feature_start + \"_6\", x=\"churn\",\n",
    "                hue=\"churn\", linewidth=2.5, showfliers=False, ax=axes[0])\n",
    "    sns.boxplot(data=High_val_custs, y=feature_start + \"_7\",  x=\"churn\",\n",
    "                hue=\"churn\", linewidth=2.5, showfliers=False, ax=axes[1])\n",
    "    sns.boxplot(data=High_val_custs, y=feature_start + \"_8\",  x=\"churn\",\n",
    "                hue=\"churn\", linewidth=2.5, showfliers=False, ax=axes[2])\n",
    "    return pd.DataFrame(frame_data,index={\"Non Churned\",\"Churned\"}).round(2)"
   ]
  },
  {
   "cell_type": "code",
   "execution_count": 71,
   "metadata": {},
   "outputs": [
    {
     "name": "stdout",
     "output_type": "stream",
     "text": [
      "Churn Stats (mean and standard deviation):\n",
      "{6: 'total_rech_amt_6', 7: 'total_rech_amt_7', 8: 'total_rech_amt_8'}\n"
     ]
    },
    {
     "data": {
      "text/plain": [
       "<Figure size 1224x504 with 0 Axes>"
      ]
     },
     "metadata": {},
     "output_type": "display_data"
    },
    {
     "data": {
      "image/png": "[encoded data removed]",
      "text/plain": [
       "<Figure size 1224x504 with 3 Axes>"
      ]
     },
     "metadata": {
      "needs_background": "light"
     },
     "output_type": "display_data"
    }
   ],
   "source": [
    "analyze_feature('total_rech_amt')\n",
    "plt.show()"
   ]
  },
  {
   "cell_type": "code",
   "execution_count": 72,
   "metadata": {},
   "outputs": [
    {
     "data": {
      "text/plain": [
       "Index(['total_rech_amt_6', 'total_rech_amt_7', 'total_rech_amt_8',\n",
       "       'total_rech_amt_9', 'max_rech_amt_6', 'max_rech_amt_7',\n",
       "       'max_rech_amt_8', 'max_rech_amt_9', 'av_rech_amt_data_6',\n",
       "       'av_rech_amt_data_7', 'av_rech_amt_data_8', 'av_rech_amt_data_9',\n",
       "       'total_rech_amt_diff', 'max_rech_amt_diff', 'av_rech_amt_data_diff'],\n",
       "      dtype='object')"
      ]
     },
     "execution_count": 72,
     "metadata": {},
     "output_type": "execute_result"
    }
   ],
   "source": [
    "recharge_amnt_columns =  High_val_custs.columns[High_val_custs.columns.str.contains('rech_amt')]\n",
    "\n",
    "recharge_amnt_columns"
   ]
  },
  {
   "cell_type": "code",
   "execution_count": 73,
   "metadata": {},
   "outputs": [
    {
     "name": "stdout",
     "output_type": "stream",
     "text": [
      "Churn Stats (mean and standard deviation):\n",
      "{6: 'max_rech_amt_6', 7: 'max_rech_amt_7', 8: 'max_rech_amt_8'}\n"
     ]
    },
    {
     "data": {
      "text/html": [
       "<div>\n",
       "<style scoped>\n",
       "    .dataframe tbody tr th:only-of-type {\n",
       "        vertical-align: middle;\n",
       "    }\n",
       "\n",
       "    .dataframe tbody tr th {\n",
       "        vertical-align: top;\n",
       "    }\n",
       "\n",
       "    .dataframe thead th {\n",
       "        text-align: right;\n",
       "    }\n",
       "</style>\n",
       "<table border=\"1\" class=\"dataframe\">\n",
       "  <thead>\n",
       "    <tr style=\"text-align: right;\">\n",
       "      <th></th>\n",
       "      <th>mean_6</th>\n",
       "      <th>mean_7</th>\n",
       "      <th>mean_8</th>\n",
       "      <th>std_6</th>\n",
       "      <th>std_7</th>\n",
       "      <th>std_8</th>\n",
       "    </tr>\n",
       "  </thead>\n",
       "  <tbody>\n",
       "    <tr>\n",
       "      <th>Non Churned</th>\n",
       "      <td>169.10</td>\n",
       "      <td>173.40</td>\n",
       "      <td>166.83</td>\n",
       "      <td>172.1</td>\n",
       "      <td>176.85</td>\n",
       "      <td>171.42</td>\n",
       "    </tr>\n",
       "    <tr>\n",
       "      <th>Churned</th>\n",
       "      <td>172.18</td>\n",
       "      <td>159.66</td>\n",
       "      <td>85.54</td>\n",
       "      <td>209.4</td>\n",
       "      <td>227.28</td>\n",
       "      <td>176.90</td>\n",
       "    </tr>\n",
       "  </tbody>\n",
       "</table>\n",
       "</div>"
      ],
      "text/plain": [
       "             mean_6  mean_7  mean_8  std_6   std_7   std_8\n",
       "Non Churned  169.10  173.40  166.83  172.1  176.85  171.42\n",
       "Churned      172.18  159.66   85.54  209.4  227.28  176.90"
      ]
     },
     "execution_count": 73,
     "metadata": {},
     "output_type": "execute_result"
    },
    {
     "data": {
      "text/plain": [
       "<Figure size 1224x504 with 0 Axes>"
      ]
     },
     "metadata": {},
     "output_type": "display_data"
    },
    {
     "data": {
      "image/png": "[encoded data removed]",
      "text/plain": [
       "<Figure size 1224x504 with 3 Axes>"
      ]
     },
     "metadata": {
      "needs_background": "light"
     },
     "output_type": "display_data"
    }
   ],
   "source": [
    "# let's analyze total recharge amount for data:\n",
    "analyze_feature('max_rech_amt')"
   ]
  },
  {
   "cell_type": "code",
   "execution_count": 74,
   "metadata": {},
   "outputs": [
    {
     "data": {
      "text/html": [
       "<div>\n",
       "<style scoped>\n",
       "    .dataframe tbody tr th:only-of-type {\n",
       "        vertical-align: middle;\n",
       "    }\n",
       "\n",
       "    .dataframe tbody tr th {\n",
       "        vertical-align: top;\n",
       "    }\n",
       "\n",
       "    .dataframe thead th {\n",
       "        text-align: right;\n",
       "    }\n",
       "</style>\n",
       "<table border=\"1\" class=\"dataframe\">\n",
       "  <thead>\n",
       "    <tr style=\"text-align: right;\">\n",
       "      <th>night_pck_user_8</th>\n",
       "      <th>-1.0</th>\n",
       "      <th>0.0</th>\n",
       "      <th>1.0</th>\n",
       "    </tr>\n",
       "    <tr>\n",
       "      <th>churn</th>\n",
       "      <th></th>\n",
       "      <th></th>\n",
       "      <th></th>\n",
       "    </tr>\n",
       "  </thead>\n",
       "  <tbody>\n",
       "    <tr>\n",
       "      <th>0</th>\n",
       "      <td>85.918105</td>\n",
       "      <td>97.114275</td>\n",
       "      <td>97.360704</td>\n",
       "    </tr>\n",
       "    <tr>\n",
       "      <th>1</th>\n",
       "      <td>14.081895</td>\n",
       "      <td>2.885725</td>\n",
       "      <td>2.639296</td>\n",
       "    </tr>\n",
       "  </tbody>\n",
       "</table>\n",
       "</div>"
      ],
      "text/plain": [
       "night_pck_user_8       -1.0        0.0        1.0\n",
       "churn                                            \n",
       "0                 85.918105  97.114275  97.360704\n",
       "1                 14.081895   2.885725   2.639296"
      ]
     },
     "execution_count": 74,
     "metadata": {},
     "output_type": "execute_result"
    }
   ],
   "source": [
    "pd.crosstab(High_val_custs.churn, High_val_custs.night_pck_user_8, normalize='columns')*100"
   ]
  },
  {
   "cell_type": "code",
   "execution_count": 75,
   "metadata": {},
   "outputs": [
    {
     "data": {
      "text/html": [
       "<div>\n",
       "<style scoped>\n",
       "    .dataframe tbody tr th:only-of-type {\n",
       "        vertical-align: middle;\n",
       "    }\n",
       "\n",
       "    .dataframe tbody tr th {\n",
       "        vertical-align: top;\n",
       "    }\n",
       "\n",
       "    .dataframe thead th {\n",
       "        text-align: right;\n",
       "    }\n",
       "</style>\n",
       "<table border=\"1\" class=\"dataframe\">\n",
       "  <thead>\n",
       "    <tr style=\"text-align: right;\">\n",
       "      <th>sachet_3g_8</th>\n",
       "      <th>0</th>\n",
       "      <th>1</th>\n",
       "      <th>2</th>\n",
       "      <th>3</th>\n",
       "      <th>4</th>\n",
       "      <th>5</th>\n",
       "      <th>6</th>\n",
       "      <th>7</th>\n",
       "      <th>8</th>\n",
       "      <th>9</th>\n",
       "      <th>...</th>\n",
       "      <th>19</th>\n",
       "      <th>20</th>\n",
       "      <th>21</th>\n",
       "      <th>23</th>\n",
       "      <th>25</th>\n",
       "      <th>27</th>\n",
       "      <th>29</th>\n",
       "      <th>30</th>\n",
       "      <th>38</th>\n",
       "      <th>41</th>\n",
       "    </tr>\n",
       "    <tr>\n",
       "      <th>churn</th>\n",
       "      <th></th>\n",
       "      <th></th>\n",
       "      <th></th>\n",
       "      <th></th>\n",
       "      <th></th>\n",
       "      <th></th>\n",
       "      <th></th>\n",
       "      <th></th>\n",
       "      <th></th>\n",
       "      <th></th>\n",
       "      <th></th>\n",
       "      <th></th>\n",
       "      <th></th>\n",
       "      <th></th>\n",
       "      <th></th>\n",
       "      <th></th>\n",
       "      <th></th>\n",
       "      <th></th>\n",
       "      <th></th>\n",
       "      <th></th>\n",
       "      <th></th>\n",
       "    </tr>\n",
       "  </thead>\n",
       "  <tbody>\n",
       "    <tr>\n",
       "      <th>0</th>\n",
       "      <td>24936</td>\n",
       "      <td>1608</td>\n",
       "      <td>397</td>\n",
       "      <td>183</td>\n",
       "      <td>106</td>\n",
       "      <td>86</td>\n",
       "      <td>43</td>\n",
       "      <td>35</td>\n",
       "      <td>28</td>\n",
       "      <td>19</td>\n",
       "      <td>...</td>\n",
       "      <td>1</td>\n",
       "      <td>3</td>\n",
       "      <td>3</td>\n",
       "      <td>2</td>\n",
       "      <td>1</td>\n",
       "      <td>1</td>\n",
       "      <td>1</td>\n",
       "      <td>2</td>\n",
       "      <td>1</td>\n",
       "      <td>1</td>\n",
       "    </tr>\n",
       "    <tr>\n",
       "      <th>1</th>\n",
       "      <td>2361</td>\n",
       "      <td>48</td>\n",
       "      <td>5</td>\n",
       "      <td>8</td>\n",
       "      <td>4</td>\n",
       "      <td>2</td>\n",
       "      <td>1</td>\n",
       "      <td>0</td>\n",
       "      <td>2</td>\n",
       "      <td>0</td>\n",
       "      <td>...</td>\n",
       "      <td>0</td>\n",
       "      <td>0</td>\n",
       "      <td>0</td>\n",
       "      <td>0</td>\n",
       "      <td>0</td>\n",
       "      <td>0</td>\n",
       "      <td>0</td>\n",
       "      <td>0</td>\n",
       "      <td>0</td>\n",
       "      <td>0</td>\n",
       "    </tr>\n",
       "  </tbody>\n",
       "</table>\n",
       "<p>2 rows × 29 columns</p>\n",
       "</div>"
      ],
      "text/plain": [
       "sachet_3g_8     0     1    2    3    4   5   6   7   8   9   ...  19  20  21  \\\n",
       "churn                                                        ...               \n",
       "0            24936  1608  397  183  106  86  43  35  28  19  ...   1   3   3   \n",
       "1             2361    48    5    8    4   2   1   0   2   0  ...   0   0   0   \n",
       "\n",
       "sachet_3g_8  23  25  27  29  30  38  41  \n",
       "churn                                    \n",
       "0             2   1   1   1   2   1   1  \n",
       "1             0   0   0   0   0   0   0  \n",
       "\n",
       "[2 rows x 29 columns]"
      ]
     },
     "execution_count": 75,
     "metadata": {},
     "output_type": "execute_result"
    }
   ],
   "source": [
    "pd.crosstab(High_val_custs.churn, High_val_custs.sachet_3g_8)"
   ]
  },
  {
   "cell_type": "code",
   "execution_count": 76,
   "metadata": {},
   "outputs": [],
   "source": [
    "def cap_outliers(array, k=3):\n",
    "    upper_limit = array.mean() + k*array.std()\n",
    "    lower_limit = array.mean() - k*array.std()\n",
    "    array[array<lower_limit] = lower_limit\n",
    "    array[array>upper_limit] = upper_limit\n",
    "    return array"
   ]
  },
  {
   "cell_type": "code",
   "execution_count": 77,
   "metadata": {},
   "outputs": [
    {
     "name": "stdout",
     "output_type": "stream",
     "text": [
      "Array after capping outliers: \n",
      " [-2780     1     2     3     4     5     6     7     8     9    10    11\n",
      "    12    13    14    15    16    17    18    19    20    21    22    23\n",
      "    24    25    26    27    28    29    30    31    32    33    34    35\n",
      "    36    37    38    39    40    41    42    43    44    45    46    47\n",
      "    48    49    50    51    52    53    54    55    56    57    58    59\n",
      "    60    61    62    63    64    65    66    67    68    69    70    71\n",
      "    72    73    74    75    76    77    78    79    80    81    82    83\n",
      "    84    85    86    87    88    89    90    91    92    93    94    95\n",
      "    96    97    98  2877]\n"
     ]
    }
   ],
   "source": [
    "# example of capping\n",
    "sample_array = list(range(100))\n",
    "\n",
    "# add outliers to the data\n",
    "sample_array[0] = -9999\n",
    "sample_array[99] = 9999\n",
    "\n",
    "# cap outliers\n",
    "sample_array = np.array(sample_array)\n",
    "print(\"Array after capping outliers: \\n\", cap_outliers(sample_array, k=2))"
   ]
  },
  {
   "cell_type": "code",
   "execution_count": 78,
   "metadata": {},
   "outputs": [],
   "source": [
    "# cap outliers in the numeric columns\n",
    "High_val_custs[Num_cols] = High_val_custs[Num_cols].apply(cap_outliers, axis=0)"
   ]
  },
  {
   "cell_type": "code",
   "execution_count": 79,
   "metadata": {},
   "outputs": [
    {
     "data": {
      "text/html": [
       "<div>\n",
       "<style scoped>\n",
       "    .dataframe tbody tr th:only-of-type {\n",
       "        vertical-align: middle;\n",
       "    }\n",
       "\n",
       "    .dataframe tbody tr th {\n",
       "        vertical-align: top;\n",
       "    }\n",
       "\n",
       "    .dataframe thead th {\n",
       "        text-align: right;\n",
       "    }\n",
       "</style>\n",
       "<table border=\"1\" class=\"dataframe\">\n",
       "  <thead>\n",
       "    <tr style=\"text-align: right;\">\n",
       "      <th></th>\n",
       "      <th>loc_og_t2o_mou</th>\n",
       "      <th>std_og_t2o_mou</th>\n",
       "      <th>loc_ic_t2o_mou</th>\n",
       "      <th>arpu_6</th>\n",
       "      <th>arpu_7</th>\n",
       "      <th>arpu_8</th>\n",
       "      <th>arpu_9</th>\n",
       "      <th>onnet_mou_6</th>\n",
       "      <th>onnet_mou_7</th>\n",
       "      <th>onnet_mou_8</th>\n",
       "      <th>...</th>\n",
       "      <th>spl_ic_mou_diff</th>\n",
       "      <th>total_ic_mou_diff</th>\n",
       "      <th>total_rech_num_diff</th>\n",
       "      <th>total_rech_amt_diff</th>\n",
       "      <th>max_rech_amt_diff</th>\n",
       "      <th>total_rech_data_diff</th>\n",
       "      <th>max_rech_data_diff</th>\n",
       "      <th>av_rech_amt_data_diff</th>\n",
       "      <th>vol_2g_mb_diff</th>\n",
       "      <th>vol_3g_mb_diff</th>\n",
       "    </tr>\n",
       "  </thead>\n",
       "  <tbody>\n",
       "    <tr>\n",
       "      <th>count</th>\n",
       "      <td>29953.0</td>\n",
       "      <td>29953.0</td>\n",
       "      <td>29953.0</td>\n",
       "      <td>29953.000000</td>\n",
       "      <td>29953.000000</td>\n",
       "      <td>29953.000000</td>\n",
       "      <td>29953.000000</td>\n",
       "      <td>29953.000000</td>\n",
       "      <td>29953.000000</td>\n",
       "      <td>29953.000000</td>\n",
       "      <td>...</td>\n",
       "      <td>29953.000000</td>\n",
       "      <td>29953.000000</td>\n",
       "      <td>29953.000000</td>\n",
       "      <td>29953.000000</td>\n",
       "      <td>29953.000000</td>\n",
       "      <td>29953.000000</td>\n",
       "      <td>29953.000000</td>\n",
       "      <td>29953.000000</td>\n",
       "      <td>29953.000000</td>\n",
       "      <td>29953.000000</td>\n",
       "    </tr>\n",
       "    <tr>\n",
       "      <th>mean</th>\n",
       "      <td>0.0</td>\n",
       "      <td>0.0</td>\n",
       "      <td>0.0</td>\n",
       "      <td>548.514161</td>\n",
       "      <td>551.188115</td>\n",
       "      <td>498.725003</td>\n",
       "      <td>457.829622</td>\n",
       "      <td>244.617463</td>\n",
       "      <td>251.474623</td>\n",
       "      <td>216.847412</td>\n",
       "      <td>...</td>\n",
       "      <td>-0.013711</td>\n",
       "      <td>-12.939341</td>\n",
       "      <td>-1.775336</td>\n",
       "      <td>-77.417346</td>\n",
       "      <td>-9.024191</td>\n",
       "      <td>-0.151190</td>\n",
       "      <td>-6.310569</td>\n",
       "      <td>-13.370373</td>\n",
       "      <td>-20.378957</td>\n",
       "      <td>-9.405241</td>\n",
       "    </tr>\n",
       "    <tr>\n",
       "      <th>std</th>\n",
       "      <td>0.0</td>\n",
       "      <td>0.0</td>\n",
       "      <td>0.0</td>\n",
       "      <td>356.773582</td>\n",
       "      <td>361.289210</td>\n",
       "      <td>384.542031</td>\n",
       "      <td>381.720503</td>\n",
       "      <td>371.778970</td>\n",
       "      <td>387.930190</td>\n",
       "      <td>354.977569</td>\n",
       "      <td>...</td>\n",
       "      <td>0.117215</td>\n",
       "      <td>172.824139</td>\n",
       "      <td>5.868286</td>\n",
       "      <td>361.358189</td>\n",
       "      <td>101.273135</td>\n",
       "      <td>1.819270</td>\n",
       "      <td>68.289357</td>\n",
       "      <td>126.503797</td>\n",
       "      <td>187.616192</td>\n",
       "      <td>454.108531</td>\n",
       "    </tr>\n",
       "    <tr>\n",
       "      <th>min</th>\n",
       "      <td>0.0</td>\n",
       "      <td>0.0</td>\n",
       "      <td>0.0</td>\n",
       "      <td>-823.784610</td>\n",
       "      <td>-878.924945</td>\n",
       "      <td>-945.808000</td>\n",
       "      <td>-1038.066688</td>\n",
       "      <td>0.000000</td>\n",
       "      <td>0.000000</td>\n",
       "      <td>0.000000</td>\n",
       "      <td>...</td>\n",
       "      <td>-0.537432</td>\n",
       "      <td>-679.434403</td>\n",
       "      <td>-22.081196</td>\n",
       "      <td>-1331.865709</td>\n",
       "      <td>-421.513514</td>\n",
       "      <td>-6.785967</td>\n",
       "      <td>-241.610728</td>\n",
       "      <td>-457.948931</td>\n",
       "      <td>-788.613826</td>\n",
       "      <td>-1881.452483</td>\n",
       "    </tr>\n",
       "    <tr>\n",
       "      <th>1%</th>\n",
       "      <td>0.0</td>\n",
       "      <td>0.0</td>\n",
       "      <td>0.0</td>\n",
       "      <td>1.272400</td>\n",
       "      <td>0.726000</td>\n",
       "      <td>0.000000</td>\n",
       "      <td>0.000000</td>\n",
       "      <td>0.000000</td>\n",
       "      <td>0.000000</td>\n",
       "      <td>0.000000</td>\n",
       "      <td>...</td>\n",
       "      <td>-0.380000</td>\n",
       "      <td>-679.434403</td>\n",
       "      <td>-22.081196</td>\n",
       "      <td>-1207.920000</td>\n",
       "      <td>-421.513514</td>\n",
       "      <td>-6.785967</td>\n",
       "      <td>-241.610728</td>\n",
       "      <td>-449.000000</td>\n",
       "      <td>-788.613826</td>\n",
       "      <td>-1727.872000</td>\n",
       "    </tr>\n",
       "    <tr>\n",
       "      <th>10%</th>\n",
       "      <td>0.0</td>\n",
       "      <td>0.0</td>\n",
       "      <td>0.0</td>\n",
       "      <td>171.795000</td>\n",
       "      <td>177.973000</td>\n",
       "      <td>84.302800</td>\n",
       "      <td>23.000000</td>\n",
       "      <td>0.710000</td>\n",
       "      <td>0.580000</td>\n",
       "      <td>0.000000</td>\n",
       "      <td>...</td>\n",
       "      <td>-0.130000</td>\n",
       "      <td>-174.505000</td>\n",
       "      <td>-8.000000</td>\n",
       "      <td>-506.000000</td>\n",
       "      <td>-109.500000</td>\n",
       "      <td>-2.000000</td>\n",
       "      <td>-88.500000</td>\n",
       "      <td>-152.000000</td>\n",
       "      <td>-168.475000</td>\n",
       "      <td>-384.172000</td>\n",
       "    </tr>\n",
       "    <tr>\n",
       "      <th>25%</th>\n",
       "      <td>0.0</td>\n",
       "      <td>0.0</td>\n",
       "      <td>0.0</td>\n",
       "      <td>310.142000</td>\n",
       "      <td>310.071000</td>\n",
       "      <td>231.615000</td>\n",
       "      <td>189.750000</td>\n",
       "      <td>17.090000</td>\n",
       "      <td>16.040000</td>\n",
       "      <td>10.440000</td>\n",
       "      <td>...</td>\n",
       "      <td>0.000000</td>\n",
       "      <td>-67.220000</td>\n",
       "      <td>-4.000000</td>\n",
       "      <td>-245.000000</td>\n",
       "      <td>-33.000000</td>\n",
       "      <td>-0.500000</td>\n",
       "      <td>-7.000000</td>\n",
       "      <td>-60.000000</td>\n",
       "      <td>-21.155000</td>\n",
       "      <td>-2.395000</td>\n",
       "    </tr>\n",
       "    <tr>\n",
       "      <th>50%</th>\n",
       "      <td>0.0</td>\n",
       "      <td>0.0</td>\n",
       "      <td>0.0</td>\n",
       "      <td>482.354000</td>\n",
       "      <td>481.496000</td>\n",
       "      <td>427.604000</td>\n",
       "      <td>388.093000</td>\n",
       "      <td>84.640000</td>\n",
       "      <td>82.830000</td>\n",
       "      <td>65.660000</td>\n",
       "      <td>...</td>\n",
       "      <td>0.000000</td>\n",
       "      <td>-5.610000</td>\n",
       "      <td>-1.500000</td>\n",
       "      <td>-57.500000</td>\n",
       "      <td>0.000000</td>\n",
       "      <td>0.000000</td>\n",
       "      <td>0.000000</td>\n",
       "      <td>0.000000</td>\n",
       "      <td>0.000000</td>\n",
       "      <td>0.000000</td>\n",
       "    </tr>\n",
       "    <tr>\n",
       "      <th>75%</th>\n",
       "      <td>0.0</td>\n",
       "      <td>0.0</td>\n",
       "      <td>0.0</td>\n",
       "      <td>700.240000</td>\n",
       "      <td>698.829000</td>\n",
       "      <td>661.753000</td>\n",
       "      <td>626.637000</td>\n",
       "      <td>290.490000</td>\n",
       "      <td>290.540000</td>\n",
       "      <td>240.630000</td>\n",
       "      <td>...</td>\n",
       "      <td>0.000000</td>\n",
       "      <td>44.295000</td>\n",
       "      <td>1.000000</td>\n",
       "      <td>99.500000</td>\n",
       "      <td>25.000000</td>\n",
       "      <td>0.000000</td>\n",
       "      <td>0.000000</td>\n",
       "      <td>9.500000</td>\n",
       "      <td>0.000000</td>\n",
       "      <td>0.000000</td>\n",
       "    </tr>\n",
       "    <tr>\n",
       "      <th>90%</th>\n",
       "      <td>0.0</td>\n",
       "      <td>0.0</td>\n",
       "      <td>0.0</td>\n",
       "      <td>994.408600</td>\n",
       "      <td>996.170600</td>\n",
       "      <td>977.546400</td>\n",
       "      <td>935.926600</td>\n",
       "      <td>754.560000</td>\n",
       "      <td>784.828000</td>\n",
       "      <td>666.266000</td>\n",
       "      <td>...</td>\n",
       "      <td>0.000000</td>\n",
       "      <td>141.817000</td>\n",
       "      <td>4.500000</td>\n",
       "      <td>301.000000</td>\n",
       "      <td>71.000000</td>\n",
       "      <td>1.500000</td>\n",
       "      <td>50.000000</td>\n",
       "      <td>116.000000</td>\n",
       "      <td>68.267000</td>\n",
       "      <td>312.172000</td>\n",
       "    </tr>\n",
       "    <tr>\n",
       "      <th>95%</th>\n",
       "      <td>0.0</td>\n",
       "      <td>0.0</td>\n",
       "      <td>0.0</td>\n",
       "      <td>1241.649400</td>\n",
       "      <td>1261.885600</td>\n",
       "      <td>1255.086400</td>\n",
       "      <td>1204.953800</td>\n",
       "      <td>1135.808000</td>\n",
       "      <td>1187.712000</td>\n",
       "      <td>1075.384000</td>\n",
       "      <td>...</td>\n",
       "      <td>0.150000</td>\n",
       "      <td>240.860000</td>\n",
       "      <td>7.500000</td>\n",
       "      <td>479.700000</td>\n",
       "      <td>116.500000</td>\n",
       "      <td>3.000000</td>\n",
       "      <td>103.000000</td>\n",
       "      <td>202.700000</td>\n",
       "      <td>207.438000</td>\n",
       "      <td>702.246000</td>\n",
       "    </tr>\n",
       "    <tr>\n",
       "      <th>99%</th>\n",
       "      <td>0.0</td>\n",
       "      <td>0.0</td>\n",
       "      <td>0.0</td>\n",
       "      <td>1941.424726</td>\n",
       "      <td>1999.521120</td>\n",
       "      <td>1986.739600</td>\n",
       "      <td>1955.637400</td>\n",
       "      <td>1640.460714</td>\n",
       "      <td>1708.961459</td>\n",
       "      <td>1610.598979</td>\n",
       "      <td>...</td>\n",
       "      <td>0.500000</td>\n",
       "      <td>621.190800</td>\n",
       "      <td>16.500000</td>\n",
       "      <td>1021.240000</td>\n",
       "      <td>323.000000</td>\n",
       "      <td>6.500000</td>\n",
       "      <td>227.000000</td>\n",
       "      <td>431.670999</td>\n",
       "      <td>748.724942</td>\n",
       "      <td>1869.903866</td>\n",
       "    </tr>\n",
       "    <tr>\n",
       "      <th>max</th>\n",
       "      <td>0.0</td>\n",
       "      <td>0.0</td>\n",
       "      <td>0.0</td>\n",
       "      <td>1941.424726</td>\n",
       "      <td>2001.246039</td>\n",
       "      <td>2015.299135</td>\n",
       "      <td>1972.959053</td>\n",
       "      <td>1640.460714</td>\n",
       "      <td>1708.961459</td>\n",
       "      <td>1610.598979</td>\n",
       "      <td>...</td>\n",
       "      <td>0.509714</td>\n",
       "      <td>652.516848</td>\n",
       "      <td>18.453946</td>\n",
       "      <td>1179.233018</td>\n",
       "      <td>400.332598</td>\n",
       "      <td>6.506463</td>\n",
       "      <td>228.669320</td>\n",
       "      <td>431.670999</td>\n",
       "      <td>748.724942</td>\n",
       "      <td>1869.903866</td>\n",
       "    </tr>\n",
       "  </tbody>\n",
       "</table>\n",
       "<p>13 rows × 213 columns</p>\n",
       "</div>"
      ],
      "text/plain": [
       "       loc_og_t2o_mou  std_og_t2o_mou  loc_ic_t2o_mou        arpu_6  \\\n",
       "count         29953.0         29953.0         29953.0  29953.000000   \n",
       "mean              0.0             0.0             0.0    548.514161   \n",
       "std               0.0             0.0             0.0    356.773582   \n",
       "min               0.0             0.0             0.0   -823.784610   \n",
       "1%                0.0             0.0             0.0      1.272400   \n",
       "10%               0.0             0.0             0.0    171.795000   \n",
       "25%               0.0             0.0             0.0    310.142000   \n",
       "50%               0.0             0.0             0.0    482.354000   \n",
       "75%               0.0             0.0             0.0    700.240000   \n",
       "90%               0.0             0.0             0.0    994.408600   \n",
       "95%               0.0             0.0             0.0   1241.649400   \n",
       "99%               0.0             0.0             0.0   1941.424726   \n",
       "max               0.0             0.0             0.0   1941.424726   \n",
       "\n",
       "             arpu_7        arpu_8        arpu_9   onnet_mou_6   onnet_mou_7  \\\n",
       "count  29953.000000  29953.000000  29953.000000  29953.000000  29953.000000   \n",
       "mean     551.188115    498.725003    457.829622    244.617463    251.474623   \n",
       "std      361.289210    384.542031    381.720503    371.778970    387.930190   \n",
       "min     -878.924945   -945.808000  -1038.066688      0.000000      0.000000   \n",
       "1%         0.726000      0.000000      0.000000      0.000000      0.000000   \n",
       "10%      177.973000     84.302800     23.000000      0.710000      0.580000   \n",
       "25%      310.071000    231.615000    189.750000     17.090000     16.040000   \n",
       "50%      481.496000    427.604000    388.093000     84.640000     82.830000   \n",
       "75%      698.829000    661.753000    626.637000    290.490000    290.540000   \n",
       "90%      996.170600    977.546400    935.926600    754.560000    784.828000   \n",
       "95%     1261.885600   1255.086400   1204.953800   1135.808000   1187.712000   \n",
       "99%     1999.521120   1986.739600   1955.637400   1640.460714   1708.961459   \n",
       "max     2001.246039   2015.299135   1972.959053   1640.460714   1708.961459   \n",
       "\n",
       "        onnet_mou_8  ...  spl_ic_mou_diff  total_ic_mou_diff  \\\n",
       "count  29953.000000  ...     29953.000000       29953.000000   \n",
       "mean     216.847412  ...        -0.013711         -12.939341   \n",
       "std      354.977569  ...         0.117215         172.824139   \n",
       "min        0.000000  ...        -0.537432        -679.434403   \n",
       "1%         0.000000  ...        -0.380000        -679.434403   \n",
       "10%        0.000000  ...        -0.130000        -174.505000   \n",
       "25%       10.440000  ...         0.000000         -67.220000   \n",
       "50%       65.660000  ...         0.000000          -5.610000   \n",
       "75%      240.630000  ...         0.000000          44.295000   \n",
       "90%      666.266000  ...         0.000000         141.817000   \n",
       "95%     1075.384000  ...         0.150000         240.860000   \n",
       "99%     1610.598979  ...         0.500000         621.190800   \n",
       "max     1610.598979  ...         0.509714         652.516848   \n",
       "\n",
       "       total_rech_num_diff  total_rech_amt_diff  max_rech_amt_diff  \\\n",
       "count         29953.000000         29953.000000       29953.000000   \n",
       "mean             -1.775336           -77.417346          -9.024191   \n",
       "std               5.868286           361.358189         101.273135   \n",
       "min             -22.081196         -1331.865709        -421.513514   \n",
       "1%              -22.081196         -1207.920000        -421.513514   \n",
       "10%              -8.000000          -506.000000        -109.500000   \n",
       "25%              -4.000000          -245.000000         -33.000000   \n",
       "50%              -1.500000           -57.500000           0.000000   \n",
       "75%               1.000000            99.500000          25.000000   \n",
       "90%               4.500000           301.000000          71.000000   \n",
       "95%               7.500000           479.700000         116.500000   \n",
       "99%              16.500000          1021.240000         323.000000   \n",
       "max              18.453946          1179.233018         400.332598   \n",
       "\n",
       "       total_rech_data_diff  max_rech_data_diff  av_rech_amt_data_diff  \\\n",
       "count          29953.000000        29953.000000           29953.000000   \n",
       "mean              -0.151190           -6.310569             -13.370373   \n",
       "std                1.819270           68.289357             126.503797   \n",
       "min               -6.785967         -241.610728            -457.948931   \n",
       "1%                -6.785967         -241.610728            -449.000000   \n",
       "10%               -2.000000          -88.500000            -152.000000   \n",
       "25%               -0.500000           -7.000000             -60.000000   \n",
       "50%                0.000000            0.000000               0.000000   \n",
       "75%                0.000000            0.000000               9.500000   \n",
       "90%                1.500000           50.000000             116.000000   \n",
       "95%                3.000000          103.000000             202.700000   \n",
       "99%                6.500000          227.000000             431.670999   \n",
       "max                6.506463          228.669320             431.670999   \n",
       "\n",
       "       vol_2g_mb_diff  vol_3g_mb_diff  \n",
       "count    29953.000000    29953.000000  \n",
       "mean       -20.378957       -9.405241  \n",
       "std        187.616192      454.108531  \n",
       "min       -788.613826    -1881.452483  \n",
       "1%        -788.613826    -1727.872000  \n",
       "10%       -168.475000     -384.172000  \n",
       "25%        -21.155000       -2.395000  \n",
       "50%          0.000000        0.000000  \n",
       "75%          0.000000        0.000000  \n",
       "90%         68.267000      312.172000  \n",
       "95%        207.438000      702.246000  \n",
       "99%        748.724942     1869.903866  \n",
       "max        748.724942     1869.903866  \n",
       "\n",
       "[13 rows x 213 columns]"
      ]
     },
     "execution_count": 79,
     "metadata": {},
     "output_type": "execute_result"
    }
   ],
   "source": [
    "High_val_custs.describe(percentiles=[0.01, 0.10,.25,.5,.75,.90,.95,.99])"
   ]
  },
  {
   "cell_type": "code",
   "execution_count": 80,
   "metadata": {},
   "outputs": [],
   "source": [
    "#We'll be building the model now.\n",
    "\n",
    "# getting numeric from\n",
    "High_val_custs['churn'] = pd.to_numeric(High_val_custs['churn'])"
   ]
  },
  {
   "cell_type": "code",
   "execution_count": 81,
   "metadata": {},
   "outputs": [],
   "source": [
    "X = High_val_custs.drop(\"churn\", axis = 1)\n",
    "y = High_val_custs.churn\n",
    "X_train, X_test, y_train, y_test = train_test_split(X, y, test_size = 0.25, random_state = 4, stratify = y)"
   ]
  },
  {
   "cell_type": "code",
   "execution_count": 82,
   "metadata": {},
   "outputs": [
    {
     "data": {
      "text/plain": [
       "fb_user_8\n",
       "-1.0    0.141152\n",
       " 0.0    0.062857\n",
       " 1.0    0.025074\n",
       "Name: churn, dtype: float64"
      ]
     },
     "execution_count": 82,
     "metadata": {},
     "output_type": "execute_result"
    }
   ],
   "source": [
    "train = pd.concat([X_train, y_train], axis=1)\n",
    "\n",
    "# aggregate the categorical variables\n",
    "train.groupby('night_pck_user_6').churn.mean()\n",
    "train.groupby('night_pck_user_7').churn.mean()\n",
    "train.groupby('night_pck_user_8').churn.mean()\n",
    "train.groupby('fb_user_6').churn.mean()\n",
    "train.groupby('fb_user_7').churn.mean()\n",
    "train.groupby('fb_user_8').churn.mean()"
   ]
  },
  {
   "cell_type": "code",
   "execution_count": 83,
   "metadata": {},
   "outputs": [
    {
     "data": {
      "text/plain": [
       "(7489,)"
      ]
     },
     "execution_count": 83,
     "metadata": {},
     "output_type": "execute_result"
    }
   ],
   "source": [
    "y_test.shape"
   ]
  },
  {
   "cell_type": "code",
   "execution_count": 84,
   "metadata": {},
   "outputs": [
    {
     "data": {
      "text/plain": [
       "(22464,)"
      ]
     },
     "execution_count": 84,
     "metadata": {},
     "output_type": "execute_result"
    }
   ],
   "source": [
    " y_train.shape"
   ]
  },
  {
   "cell_type": "code",
   "execution_count": 85,
   "metadata": {},
   "outputs": [
    {
     "data": {
      "text/plain": [
       "(22464, 219)"
      ]
     },
     "execution_count": 85,
     "metadata": {},
     "output_type": "execute_result"
    }
   ],
   "source": [
    "X_train.shape"
   ]
  },
  {
   "cell_type": "code",
   "execution_count": 86,
   "metadata": {},
   "outputs": [
    {
     "data": {
      "text/plain": [
       "(7489, 219)"
      ]
     },
     "execution_count": 86,
     "metadata": {},
     "output_type": "execute_result"
    }
   ],
   "source": [
    "X_test.shape"
   ]
  },
  {
   "cell_type": "code",
   "execution_count": 87,
   "metadata": {},
   "outputs": [],
   "source": [
    "# replace categories with aggregated values\n",
    "mapping = {'night_pck_user_6' : {-1: 0.099165, 0: 0.066797, 1: 0.087838},\n",
    "           'night_pck_user_7' : {-1: 0.115746, 0: 0.055494, 1: 0.051282},\n",
    "           'night_pck_user_8' : {-1: 0.141108, 0: 0.029023, 1: 0.016194},\n",
    "           'fb_user_6'        : {-1: 0.099165, 0: 0.069460, 1: 0.067124},\n",
    "           'fb_user_7'        : {-1: 0.115746, 0: 0.059305, 1: 0.055082},\n",
    "           'fb_user_8'        : {-1: 0.141108, 0: 0.066887, 1: 0.024463}\n",
    "          }\n",
    "X_train.replace(mapping, inplace = True)\n",
    "X_test.replace(mapping, inplace = True)"
   ]
  },
  {
   "cell_type": "code",
   "execution_count": 88,
   "metadata": {},
   "outputs": [
    {
     "name": "stdout",
     "output_type": "stream",
     "text": [
      "<class 'pandas.core.frame.DataFrame'>\n",
      "Int64Index: 22464 entries, 14197 to 17924\n",
      "Data columns (total 6 columns):\n",
      " #   Column            Non-Null Count  Dtype  \n",
      "---  ------            --------------  -----  \n",
      " 0   night_pck_user_6  22464 non-null  float64\n",
      " 1   night_pck_user_7  22464 non-null  float64\n",
      " 2   night_pck_user_8  22464 non-null  float64\n",
      " 3   fb_user_6         22464 non-null  float64\n",
      " 4   fb_user_7         22464 non-null  float64\n",
      " 5   fb_user_8         22464 non-null  float64\n",
      "dtypes: float64(6)\n",
      "memory usage: 1.2 MB\n"
     ]
    }
   ],
   "source": [
    "#datatypes \n",
    "X_train[[col for col in Cat_cols if col not in ['churn']]].info()"
   ]
  },
  {
   "cell_type": "markdown",
   "metadata": {},
   "source": [
    "## PRINCIPAL COMPONENT ANALYSIS (PCA) :-"
   ]
  },
  {
   "cell_type": "code",
   "execution_count": 89,
   "metadata": {},
   "outputs": [
    {
     "data": {
      "text/plain": [
       "vol_3g_mb_diff        0.0\n",
       "spl_og_mou_7          0.0\n",
       "loc_ic_t2t_mou_6      0.0\n",
       "total_og_mou_9        0.0\n",
       "total_og_mou_8        0.0\n",
       "                     ... \n",
       "last_day_rch_amt_6    0.0\n",
       "max_rech_amt_9        0.0\n",
       "max_rech_amt_8        0.0\n",
       "max_rech_amt_7        0.0\n",
       "loc_og_t2o_mou        0.0\n",
       "Length: 220, dtype: float64"
      ]
     },
     "execution_count": 89,
     "metadata": {},
     "output_type": "execute_result"
    }
   ],
   "source": [
    "(High_val_custs.isnull().sum()*100/High_val_custs.shape[0]).sort_values(ascending=False)"
   ]
  },
  {
   "cell_type": "code",
   "execution_count": 90,
   "metadata": {},
   "outputs": [],
   "source": [
    "# apply pca to train data\n",
    "pca = Pipeline([('scaler', StandardScaler()), ('pca', PCA())])"
   ]
  },
  {
   "cell_type": "code",
   "execution_count": 91,
   "metadata": {},
   "outputs": [],
   "source": [
    "pca.fit(X_train)\n",
    "churn_pca = pca.fit_transform(X_train)"
   ]
  },
  {
   "cell_type": "code",
   "execution_count": 92,
   "metadata": {},
   "outputs": [
    {
     "name": "stdout",
     "output_type": "stream",
     "text": [
      "0       11.51\n",
      "1       21.20\n",
      "2       27.00\n",
      "3       31.55\n",
      "4       35.25\n",
      "        ...  \n",
      "214    100.00\n",
      "215    100.00\n",
      "216    100.00\n",
      "217    100.00\n",
      "218    100.00\n",
      "Length: 219, dtype: float64\n"
     ]
    }
   ],
   "source": [
    "# extracting the pca model from pipeline\n",
    "pca = pca.named_steps['pca']\n",
    "\n",
    "# looking at explainded variance of PCA components\n",
    "print(pd.Series(np.round(pca.explained_variance_ratio_.cumsum(), 4)*100))"
   ]
  },
  {
   "cell_type": "code",
   "execution_count": 93,
   "metadata": {},
   "outputs": [
    {
     "data": {
      "image/png": "[encoded data removed]",
      "text/plain": [
       "<Figure size 630x360 with 1 Axes>"
      ]
     },
     "metadata": {
      "needs_background": "light"
     },
     "output_type": "display_data"
    }
   ],
   "source": [
    "# ploting the feature variance\n",
    "features = range(pca.n_components_)\n",
    "cumulative_variance = np.round(np.cumsum(pca.explained_variance_ratio_)*100, decimals=4)\n",
    "plt.figure(figsize=(175/20,100/20)) # 100 elements on y-axis; 175 elements on x-axis; 20 is normalising factor\n",
    "plt.plot(cumulative_variance)\n",
    "plt.show()"
   ]
  },
  {
   "cell_type": "code",
   "execution_count": 94,
   "metadata": {},
   "outputs": [],
   "source": [
    "# creating the pipeline\n",
    "PCA_VARS = 60\n",
    "steps = [('scaler', StandardScaler()),(\"pca\", PCA(n_components=PCA_VARS)),(\"logistic\", LogisticRegression(class_weight='balanced'))]\n",
    "pipeline = Pipeline(steps)"
   ]
  },
  {
   "cell_type": "code",
   "execution_count": 95,
   "metadata": {},
   "outputs": [
    {
     "data": {
      "text/plain": [
       "0.95877849002849"
      ]
     },
     "execution_count": 95,
     "metadata": {},
     "output_type": "execute_result"
    }
   ],
   "source": [
    "# fit model\n",
    "pipeline.fit(X_train, y_train)\n",
    "\n",
    "# check score on train data\n",
    "pipeline.score(X_train, y_train)"
   ]
  },
  {
   "cell_type": "code",
   "execution_count": 96,
   "metadata": {},
   "outputs": [
    {
     "name": "stdout",
     "output_type": "stream",
     "text": [
      "[[6554  327]\n",
      " [   5  603]]\n",
      "Sensitivity: \t0.99\n",
      "Specificity: \t0.95\n",
      "AUC:    \t 0.99\n"
     ]
    }
   ],
   "source": [
    "# predicting churn on test data\n",
    "y_pred = pipeline.predict(X_test)\n",
    "\n",
    "# creating confusion matrix\n",
    "print(confusion_matrix(y_test, y_pred))\n",
    "\n",
    "# checking sensitivity and specificity\n",
    "from imblearn.metrics import sensitivity_specificity_support\n",
    "sensitivity, specificity, _ = sensitivity_specificity_support(y_test, y_pred, average='binary')\n",
    "print(\"Sensitivity: \\t\", round(sensitivity, 2), \"\\n\", \"Specificity: \\t\", round(specificity, 2), sep='')\n",
    "\n",
    "# checking area under curve\n",
    "y_pred_prob = pipeline.predict_proba(X_test)[:, 1]\n",
    "print(\"AUC:    \\t\", round(roc_auc_score(y_test, y_pred_prob),2))"
   ]
  },
  {
   "cell_type": "markdown",
   "metadata": {},
   "source": [
    "##  HYPERPARAMETER TUNING :-"
   ]
  },
  {
   "cell_type": "code",
   "execution_count": 97,
   "metadata": {},
   "outputs": [],
   "source": [
    "logistic = LogisticRegression(class_weight={0:0.1, 1: 0.9})"
   ]
  },
  {
   "cell_type": "code",
   "execution_count": 98,
   "metadata": {},
   "outputs": [],
   "source": [
    "steps = [(\"scaler\", StandardScaler()),(\"pca\", PCA()),(\"logistic\", logistic)]"
   ]
  },
  {
   "cell_type": "code",
   "execution_count": 99,
   "metadata": {},
   "outputs": [],
   "source": [
    "# Compiling them\n",
    "pca_logistic = Pipeline(steps)"
   ]
  },
  {
   "cell_type": "code",
   "execution_count": 100,
   "metadata": {},
   "outputs": [],
   "source": [
    "param = {'pca__n_components': [60, 80], 'logistic__C': [0.1, 0.4, 0.5], 'logistic__penalty': ['l1', 'l2']}"
   ]
  },
  {
   "cell_type": "code",
   "execution_count": 101,
   "metadata": {},
   "outputs": [],
   "source": [
    "# 5Folds\n",
    "fold = StratifiedKFold(n_splits = 5, shuffle = True, random_state = 20)"
   ]
  },
  {
   "cell_type": "code",
   "execution_count": 102,
   "metadata": {},
   "outputs": [],
   "source": [
    "# Model\n",
    "model = GridSearchCV(estimator = pca_logistic, cv = fold, param_grid = param, scoring='roc_auc', n_jobs=-1, verbose=1)"
   ]
  },
  {
   "cell_type": "code",
   "execution_count": 103,
   "metadata": {},
   "outputs": [
    {
     "name": "stdout",
     "output_type": "stream",
     "text": [
      "Fitting 5 folds for each of 12 candidates, totalling 60 fits\n"
     ]
    },
    {
     "data": {
      "text/plain": [
       "GridSearchCV(cv=StratifiedKFold(n_splits=5, random_state=20, shuffle=True),\n",
       "             estimator=Pipeline(steps=[('scaler', StandardScaler()),\n",
       "                                       ('pca', PCA()),\n",
       "                                       ('logistic',\n",
       "                                        LogisticRegression(class_weight={0: 0.1,\n",
       "                                                                         1: 0.9}))]),\n",
       "             n_jobs=-1,\n",
       "             param_grid={'logistic__C': [0.1, 0.4, 0.5],\n",
       "                         'logistic__penalty': ['l1', 'l2'],\n",
       "                         'pca__n_components': [60, 80]},\n",
       "             scoring='roc_auc', verbose=1)"
      ]
     },
     "execution_count": 103,
     "metadata": {},
     "output_type": "execute_result"
    }
   ],
   "source": [
    "# fitting the model\n",
    "model.fit(X_train, y_train)"
   ]
  },
  {
   "cell_type": "code",
   "execution_count": 104,
   "metadata": {},
   "outputs": [
    {
     "data": {
      "text/html": [
       "<div>\n",
       "<style scoped>\n",
       "    .dataframe tbody tr th:only-of-type {\n",
       "        vertical-align: middle;\n",
       "    }\n",
       "\n",
       "    .dataframe tbody tr th {\n",
       "        vertical-align: top;\n",
       "    }\n",
       "\n",
       "    .dataframe thead th {\n",
       "        text-align: right;\n",
       "    }\n",
       "</style>\n",
       "<table border=\"1\" class=\"dataframe\">\n",
       "  <thead>\n",
       "    <tr style=\"text-align: right;\">\n",
       "      <th></th>\n",
       "      <th>mean_fit_time</th>\n",
       "      <th>std_fit_time</th>\n",
       "      <th>mean_score_time</th>\n",
       "      <th>std_score_time</th>\n",
       "      <th>param_logistic__C</th>\n",
       "      <th>param_logistic__penalty</th>\n",
       "      <th>param_pca__n_components</th>\n",
       "      <th>params</th>\n",
       "      <th>split0_test_score</th>\n",
       "      <th>split1_test_score</th>\n",
       "      <th>split2_test_score</th>\n",
       "      <th>split3_test_score</th>\n",
       "      <th>split4_test_score</th>\n",
       "      <th>mean_test_score</th>\n",
       "      <th>std_test_score</th>\n",
       "      <th>rank_test_score</th>\n",
       "    </tr>\n",
       "  </thead>\n",
       "  <tbody>\n",
       "    <tr>\n",
       "      <th>0</th>\n",
       "      <td>8.800164</td>\n",
       "      <td>2.012137</td>\n",
       "      <td>0.000000</td>\n",
       "      <td>0.000000</td>\n",
       "      <td>0.1</td>\n",
       "      <td>l1</td>\n",
       "      <td>60</td>\n",
       "      <td>{'logistic__C': 0.1, 'logistic__penalty': 'l1'...</td>\n",
       "      <td>NaN</td>\n",
       "      <td>NaN</td>\n",
       "      <td>NaN</td>\n",
       "      <td>NaN</td>\n",
       "      <td>NaN</td>\n",
       "      <td>NaN</td>\n",
       "      <td>NaN</td>\n",
       "      <td>7</td>\n",
       "    </tr>\n",
       "    <tr>\n",
       "      <th>1</th>\n",
       "      <td>6.443301</td>\n",
       "      <td>0.249709</td>\n",
       "      <td>0.000000</td>\n",
       "      <td>0.000000</td>\n",
       "      <td>0.1</td>\n",
       "      <td>l1</td>\n",
       "      <td>80</td>\n",
       "      <td>{'logistic__C': 0.1, 'logistic__penalty': 'l1'...</td>\n",
       "      <td>NaN</td>\n",
       "      <td>NaN</td>\n",
       "      <td>NaN</td>\n",
       "      <td>NaN</td>\n",
       "      <td>NaN</td>\n",
       "      <td>NaN</td>\n",
       "      <td>NaN</td>\n",
       "      <td>8</td>\n",
       "    </tr>\n",
       "    <tr>\n",
       "      <th>2</th>\n",
       "      <td>6.482020</td>\n",
       "      <td>0.218065</td>\n",
       "      <td>0.178114</td>\n",
       "      <td>0.041456</td>\n",
       "      <td>0.1</td>\n",
       "      <td>l2</td>\n",
       "      <td>60</td>\n",
       "      <td>{'logistic__C': 0.1, 'logistic__penalty': 'l2'...</td>\n",
       "      <td>0.993899</td>\n",
       "      <td>0.989670</td>\n",
       "      <td>0.990702</td>\n",
       "      <td>0.991416</td>\n",
       "      <td>0.991671</td>\n",
       "      <td>0.991472</td>\n",
       "      <td>0.001398</td>\n",
       "      <td>6</td>\n",
       "    </tr>\n",
       "    <tr>\n",
       "      <th>3</th>\n",
       "      <td>8.038121</td>\n",
       "      <td>0.326224</td>\n",
       "      <td>0.181237</td>\n",
       "      <td>0.028973</td>\n",
       "      <td>0.1</td>\n",
       "      <td>l2</td>\n",
       "      <td>80</td>\n",
       "      <td>{'logistic__C': 0.1, 'logistic__penalty': 'l2'...</td>\n",
       "      <td>0.995217</td>\n",
       "      <td>0.992365</td>\n",
       "      <td>0.992312</td>\n",
       "      <td>0.992681</td>\n",
       "      <td>0.992901</td>\n",
       "      <td>0.993095</td>\n",
       "      <td>0.001083</td>\n",
       "      <td>3</td>\n",
       "    </tr>\n",
       "    <tr>\n",
       "      <th>4</th>\n",
       "      <td>4.842118</td>\n",
       "      <td>0.156120</td>\n",
       "      <td>0.000000</td>\n",
       "      <td>0.000000</td>\n",
       "      <td>0.4</td>\n",
       "      <td>l1</td>\n",
       "      <td>60</td>\n",
       "      <td>{'logistic__C': 0.4, 'logistic__penalty': 'l1'...</td>\n",
       "      <td>NaN</td>\n",
       "      <td>NaN</td>\n",
       "      <td>NaN</td>\n",
       "      <td>NaN</td>\n",
       "      <td>NaN</td>\n",
       "      <td>NaN</td>\n",
       "      <td>NaN</td>\n",
       "      <td>9</td>\n",
       "    </tr>\n",
       "    <tr>\n",
       "      <th>5</th>\n",
       "      <td>6.244730</td>\n",
       "      <td>0.101730</td>\n",
       "      <td>0.000000</td>\n",
       "      <td>0.000000</td>\n",
       "      <td>0.4</td>\n",
       "      <td>l1</td>\n",
       "      <td>80</td>\n",
       "      <td>{'logistic__C': 0.4, 'logistic__penalty': 'l1'...</td>\n",
       "      <td>NaN</td>\n",
       "      <td>NaN</td>\n",
       "      <td>NaN</td>\n",
       "      <td>NaN</td>\n",
       "      <td>NaN</td>\n",
       "      <td>NaN</td>\n",
       "      <td>NaN</td>\n",
       "      <td>10</td>\n",
       "    </tr>\n",
       "    <tr>\n",
       "      <th>6</th>\n",
       "      <td>6.504275</td>\n",
       "      <td>0.285863</td>\n",
       "      <td>0.206237</td>\n",
       "      <td>0.015306</td>\n",
       "      <td>0.4</td>\n",
       "      <td>l2</td>\n",
       "      <td>60</td>\n",
       "      <td>{'logistic__C': 0.4, 'logistic__penalty': 'l2'...</td>\n",
       "      <td>0.994612</td>\n",
       "      <td>0.990119</td>\n",
       "      <td>0.991419</td>\n",
       "      <td>0.991661</td>\n",
       "      <td>0.991694</td>\n",
       "      <td>0.991901</td>\n",
       "      <td>0.001474</td>\n",
       "      <td>4</td>\n",
       "    </tr>\n",
       "    <tr>\n",
       "      <th>7</th>\n",
       "      <td>9.197785</td>\n",
       "      <td>0.229528</td>\n",
       "      <td>0.190611</td>\n",
       "      <td>0.011694</td>\n",
       "      <td>0.4</td>\n",
       "      <td>l2</td>\n",
       "      <td>80</td>\n",
       "      <td>{'logistic__C': 0.4, 'logistic__penalty': 'l2'...</td>\n",
       "      <td>0.996080</td>\n",
       "      <td>0.993663</td>\n",
       "      <td>0.993119</td>\n",
       "      <td>0.993342</td>\n",
       "      <td>0.993397</td>\n",
       "      <td>0.993920</td>\n",
       "      <td>0.001094</td>\n",
       "      <td>2</td>\n",
       "    </tr>\n",
       "    <tr>\n",
       "      <th>8</th>\n",
       "      <td>5.085199</td>\n",
       "      <td>0.167460</td>\n",
       "      <td>0.000000</td>\n",
       "      <td>0.000000</td>\n",
       "      <td>0.5</td>\n",
       "      <td>l1</td>\n",
       "      <td>60</td>\n",
       "      <td>{'logistic__C': 0.5, 'logistic__penalty': 'l1'...</td>\n",
       "      <td>NaN</td>\n",
       "      <td>NaN</td>\n",
       "      <td>NaN</td>\n",
       "      <td>NaN</td>\n",
       "      <td>NaN</td>\n",
       "      <td>NaN</td>\n",
       "      <td>NaN</td>\n",
       "      <td>11</td>\n",
       "    </tr>\n",
       "    <tr>\n",
       "      <th>9</th>\n",
       "      <td>6.784067</td>\n",
       "      <td>0.223878</td>\n",
       "      <td>0.000000</td>\n",
       "      <td>0.000000</td>\n",
       "      <td>0.5</td>\n",
       "      <td>l1</td>\n",
       "      <td>80</td>\n",
       "      <td>{'logistic__C': 0.5, 'logistic__penalty': 'l1'...</td>\n",
       "      <td>NaN</td>\n",
       "      <td>NaN</td>\n",
       "      <td>NaN</td>\n",
       "      <td>NaN</td>\n",
       "      <td>NaN</td>\n",
       "      <td>NaN</td>\n",
       "      <td>NaN</td>\n",
       "      <td>12</td>\n",
       "    </tr>\n",
       "    <tr>\n",
       "      <th>10</th>\n",
       "      <td>7.868780</td>\n",
       "      <td>0.401029</td>\n",
       "      <td>0.246980</td>\n",
       "      <td>0.063638</td>\n",
       "      <td>0.5</td>\n",
       "      <td>l2</td>\n",
       "      <td>60</td>\n",
       "      <td>{'logistic__C': 0.5, 'logistic__penalty': 'l2'...</td>\n",
       "      <td>0.994378</td>\n",
       "      <td>0.990106</td>\n",
       "      <td>0.990543</td>\n",
       "      <td>0.990819</td>\n",
       "      <td>0.991565</td>\n",
       "      <td>0.991482</td>\n",
       "      <td>0.001524</td>\n",
       "      <td>5</td>\n",
       "    </tr>\n",
       "    <tr>\n",
       "      <th>11</th>\n",
       "      <td>9.439551</td>\n",
       "      <td>2.237714</td>\n",
       "      <td>0.148412</td>\n",
       "      <td>0.070582</td>\n",
       "      <td>0.5</td>\n",
       "      <td>l2</td>\n",
       "      <td>80</td>\n",
       "      <td>{'logistic__C': 0.5, 'logistic__penalty': 'l2'...</td>\n",
       "      <td>0.996110</td>\n",
       "      <td>0.993944</td>\n",
       "      <td>0.993524</td>\n",
       "      <td>0.993194</td>\n",
       "      <td>0.993332</td>\n",
       "      <td>0.994021</td>\n",
       "      <td>0.001075</td>\n",
       "      <td>1</td>\n",
       "    </tr>\n",
       "  </tbody>\n",
       "</table>\n",
       "</div>"
      ],
      "text/plain": [
       "    mean_fit_time  std_fit_time  mean_score_time  std_score_time  \\\n",
       "0        8.800164      2.012137         0.000000        0.000000   \n",
       "1        6.443301      0.249709         0.000000        0.000000   \n",
       "2        6.482020      0.218065         0.178114        0.041456   \n",
       "3        8.038121      0.326224         0.181237        0.028973   \n",
       "4        4.842118      0.156120         0.000000        0.000000   \n",
       "5        6.244730      0.101730         0.000000        0.000000   \n",
       "6        6.504275      0.285863         0.206237        0.015306   \n",
       "7        9.197785      0.229528         0.190611        0.011694   \n",
       "8        5.085199      0.167460         0.000000        0.000000   \n",
       "9        6.784067      0.223878         0.000000        0.000000   \n",
       "10       7.868780      0.401029         0.246980        0.063638   \n",
       "11       9.439551      2.237714         0.148412        0.070582   \n",
       "\n",
       "   param_logistic__C param_logistic__penalty param_pca__n_components  \\\n",
       "0                0.1                      l1                      60   \n",
       "1                0.1                      l1                      80   \n",
       "2                0.1                      l2                      60   \n",
       "3                0.1                      l2                      80   \n",
       "4                0.4                      l1                      60   \n",
       "5                0.4                      l1                      80   \n",
       "6                0.4                      l2                      60   \n",
       "7                0.4                      l2                      80   \n",
       "8                0.5                      l1                      60   \n",
       "9                0.5                      l1                      80   \n",
       "10               0.5                      l2                      60   \n",
       "11               0.5                      l2                      80   \n",
       "\n",
       "                                               params  split0_test_score  \\\n",
       "0   {'logistic__C': 0.1, 'logistic__penalty': 'l1'...                NaN   \n",
       "1   {'logistic__C': 0.1, 'logistic__penalty': 'l1'...                NaN   \n",
       "2   {'logistic__C': 0.1, 'logistic__penalty': 'l2'...           0.993899   \n",
       "3   {'logistic__C': 0.1, 'logistic__penalty': 'l2'...           0.995217   \n",
       "4   {'logistic__C': 0.4, 'logistic__penalty': 'l1'...                NaN   \n",
       "5   {'logistic__C': 0.4, 'logistic__penalty': 'l1'...                NaN   \n",
       "6   {'logistic__C': 0.4, 'logistic__penalty': 'l2'...           0.994612   \n",
       "7   {'logistic__C': 0.4, 'logistic__penalty': 'l2'...           0.996080   \n",
       "8   {'logistic__C': 0.5, 'logistic__penalty': 'l1'...                NaN   \n",
       "9   {'logistic__C': 0.5, 'logistic__penalty': 'l1'...                NaN   \n",
       "10  {'logistic__C': 0.5, 'logistic__penalty': 'l2'...           0.994378   \n",
       "11  {'logistic__C': 0.5, 'logistic__penalty': 'l2'...           0.996110   \n",
       "\n",
       "    split1_test_score  split2_test_score  split3_test_score  \\\n",
       "0                 NaN                NaN                NaN   \n",
       "1                 NaN                NaN                NaN   \n",
       "2            0.989670           0.990702           0.991416   \n",
       "3            0.992365           0.992312           0.992681   \n",
       "4                 NaN                NaN                NaN   \n",
       "5                 NaN                NaN                NaN   \n",
       "6            0.990119           0.991419           0.991661   \n",
       "7            0.993663           0.993119           0.993342   \n",
       "8                 NaN                NaN                NaN   \n",
       "9                 NaN                NaN                NaN   \n",
       "10           0.990106           0.990543           0.990819   \n",
       "11           0.993944           0.993524           0.993194   \n",
       "\n",
       "    split4_test_score  mean_test_score  std_test_score  rank_test_score  \n",
       "0                 NaN              NaN             NaN                7  \n",
       "1                 NaN              NaN             NaN                8  \n",
       "2            0.991671         0.991472        0.001398                6  \n",
       "3            0.992901         0.993095        0.001083                3  \n",
       "4                 NaN              NaN             NaN                9  \n",
       "5                 NaN              NaN             NaN               10  \n",
       "6            0.991694         0.991901        0.001474                4  \n",
       "7            0.993397         0.993920        0.001094                2  \n",
       "8                 NaN              NaN             NaN               11  \n",
       "9                 NaN              NaN             NaN               12  \n",
       "10           0.991565         0.991482        0.001524                5  \n",
       "11           0.993332         0.994021        0.001075                1  "
      ]
     },
     "execution_count": 104,
     "metadata": {},
     "output_type": "execute_result"
    }
   ],
   "source": [
    "# cross validation\n",
    "pd.DataFrame(model.cv_results_)"
   ]
  },
  {
   "cell_type": "code",
   "execution_count": 105,
   "metadata": {},
   "outputs": [
    {
     "data": {
      "text/plain": [
       "0.9940207292700161"
      ]
     },
     "execution_count": 105,
     "metadata": {},
     "output_type": "execute_result"
    }
   ],
   "source": [
    "# best hyperparameters score\n",
    "model.best_score_"
   ]
  },
  {
   "cell_type": "code",
   "execution_count": 106,
   "metadata": {},
   "outputs": [
    {
     "data": {
      "text/plain": [
       "{'logistic__C': 0.5, 'logistic__penalty': 'l2', 'pca__n_components': 80}"
      ]
     },
     "execution_count": 106,
     "metadata": {},
     "output_type": "execute_result"
    }
   ],
   "source": [
    "# best hyperparameters\n",
    "model.best_params_"
   ]
  },
  {
   "cell_type": "code",
   "execution_count": 107,
   "metadata": {},
   "outputs": [
    {
     "name": "stdout",
     "output_type": "stream",
     "text": [
      "[[6608  273]\n",
      " [   3  605]]\n",
      "Sensitivity: \t1.0\n",
      "Specificity: \t0.96\n",
      "AUC:    \t 0.994\n"
     ]
    }
   ],
   "source": [
    "# predicting churn on test data\n",
    "y_pred = model.predict(X_test)\n",
    "\n",
    "# creating onfusion matrix\n",
    "print(confusion_matrix(y_test, y_pred))\n",
    "\n",
    "# checking sensitivity and specificity\n",
    "from imblearn.metrics import sensitivity_specificity_support\n",
    "sensitivity, specificity, _ = sensitivity_specificity_support(y_test, y_pred, average='binary')\n",
    "print(\"Sensitivity: \\t\", round(sensitivity, 2), \"\\n\", \"Specificity: \\t\", round(specificity, 2), sep='')\n",
    "\n",
    "# checking area under curve\n",
    "y_pred_prob = model.predict_proba(X_test)[:, 1]\n",
    "print(\"AUC:    \\t\", round(roc_auc_score(y_test, y_pred_prob),3))"
   ]
  },
  {
   "cell_type": "markdown",
   "metadata": {},
   "source": [
    "## USING RANDOM FOREST :-"
   ]
  },
  {
   "cell_type": "code",
   "execution_count": 108,
   "metadata": {},
   "outputs": [],
   "source": [
    "frt = RandomForestClassifier(class_weight={0:0.1, 1: 0.9}, n_jobs = -1)"
   ]
  },
  {
   "cell_type": "code",
   "execution_count": 109,
   "metadata": {},
   "outputs": [],
   "source": [
    "param = {\"criterion\": ['gini', 'entropy'], \"max_features\": [1]}"
   ]
  },
  {
   "cell_type": "code",
   "execution_count": 110,
   "metadata": {},
   "outputs": [],
   "source": [
    "# creating folds\n",
    "fold = StratifiedKFold(n_splits = 5, shuffle = True, random_state = 20)"
   ]
  },
  {
   "cell_type": "code",
   "execution_count": 111,
   "metadata": {},
   "outputs": [],
   "source": [
    "# Grid search\n",
    "model = GridSearchCV(estimator=frt, cv=fold, param_grid=param, scoring='roc_auc', n_jobs=-1, verbose=1)"
   ]
  },
  {
   "cell_type": "code",
   "execution_count": 112,
   "metadata": {},
   "outputs": [
    {
     "name": "stdout",
     "output_type": "stream",
     "text": [
      "Fitting 5 folds for each of 2 candidates, totalling 10 fits\n"
     ]
    },
    {
     "data": {
      "text/plain": [
       "GridSearchCV(cv=StratifiedKFold(n_splits=5, random_state=20, shuffle=True),\n",
       "             estimator=RandomForestClassifier(class_weight={0: 0.1, 1: 0.9},\n",
       "                                              n_jobs=-1),\n",
       "             n_jobs=-1,\n",
       "             param_grid={'criterion': ['gini', 'entropy'], 'max_features': [1]},\n",
       "             scoring='roc_auc', verbose=1)"
      ]
     },
     "execution_count": 112,
     "metadata": {},
     "output_type": "execute_result"
    }
   ],
   "source": [
    "# fitting the model\n",
    "model.fit(X_train, y_train)"
   ]
  },
  {
   "cell_type": "code",
   "execution_count": 113,
   "metadata": {},
   "outputs": [
    {
     "data": {
      "text/plain": [
       "0.9993334339985795"
      ]
     },
     "execution_count": 113,
     "metadata": {},
     "output_type": "execute_result"
    }
   ],
   "source": [
    "# best hyperparameters score\n",
    "model.best_score_"
   ]
  },
  {
   "cell_type": "code",
   "execution_count": 114,
   "metadata": {},
   "outputs": [
    {
     "data": {
      "text/plain": [
       "{'criterion': 'entropy', 'max_features': 1}"
      ]
     },
     "execution_count": 114,
     "metadata": {},
     "output_type": "execute_result"
    }
   ],
   "source": [
    "# best hyperparameters\n",
    "model.best_params_"
   ]
  },
  {
   "cell_type": "code",
   "execution_count": 115,
   "metadata": {},
   "outputs": [
    {
     "name": "stdout",
     "output_type": "stream",
     "text": [
      "[[6870   11]\n",
      " [  43  565]]\n",
      "Sensitivity: \t0.93\n",
      "Specificity: \t1.0\n",
      "AUC:    \t 1.0\n"
     ]
    }
   ],
   "source": [
    "# predicting churn on test data\n",
    "y_pred = model.predict(X_test)\n",
    "\n",
    "# creating onfusion matrix\n",
    "print(confusion_matrix(y_test, y_pred))\n",
    "\n",
    "# checking sensitivity and specificity\n",
    "from imblearn.metrics import sensitivity_specificity_support\n",
    "sensitivity, specificity, _ = sensitivity_specificity_support(y_test, y_pred, average='binary')\n",
    "print(\"Sensitivity: \\t\", round(sensitivity, 2), \"\\n\", \"Specificity: \\t\", round(specificity, 2), sep='')\n",
    "\n",
    "# checking area under curve\n",
    "y_pred_prob = model.predict_proba(X_test)[:, 1]\n",
    "print(\"AUC:    \\t\", round(roc_auc_score(y_test, y_pred_prob),2))"
   ]
  },
  {
   "cell_type": "markdown",
   "metadata": {},
   "source": [
    "#### Looks like random forest is overfitting and the sensitivity is very low. So, we'll be going with logistic and PCA"
   ]
  },
  {
   "cell_type": "code",
   "execution_count": 116,
   "metadata": {},
   "outputs": [],
   "source": [
    "# run a random forest model on train data\n",
    "max_features = int(round(np.sqrt(X_train.shape[1])))\n",
    "rand_frt_model = RandomForestClassifier(n_estimators=100, max_features = max_features, class_weight={0:0.1, 1: 0.9}, oob_score=True, random_state=20, verbose=1)"
   ]
  },
  {
   "cell_type": "code",
   "execution_count": 117,
   "metadata": {},
   "outputs": [
    {
     "name": "stderr",
     "output_type": "stream",
     "text": [
      "[Parallel(n_jobs=1)]: Using backend SequentialBackend with 1 concurrent workers.\n",
      "[Parallel(n_jobs=1)]: Done 100 out of 100 | elapsed:    7.1s finished\n"
     ]
    },
    {
     "data": {
      "text/plain": [
       "RandomForestClassifier(class_weight={0: 0.1, 1: 0.9}, max_features=15,\n",
       "                       oob_score=True, random_state=20, verbose=1)"
      ]
     },
     "execution_count": 117,
     "metadata": {},
     "output_type": "execute_result"
    }
   ],
   "source": [
    "# fiting the model\n",
    "rand_frt_model.fit(X_train, y_train)"
   ]
  },
  {
   "cell_type": "code",
   "execution_count": 118,
   "metadata": {},
   "outputs": [
    {
     "data": {
      "text/plain": [
       "0.9996438746438746"
      ]
     },
     "execution_count": 118,
     "metadata": {},
     "output_type": "execute_result"
    }
   ],
   "source": [
    "# checking OOB score\n",
    "rand_frt_model.oob_score_"
   ]
  },
  {
   "cell_type": "code",
   "execution_count": 119,
   "metadata": {},
   "outputs": [
    {
     "name": "stderr",
     "output_type": "stream",
     "text": [
      "[Parallel(n_jobs=1)]: Using backend SequentialBackend with 1 concurrent workers.\n",
      "[Parallel(n_jobs=1)]: Done 100 out of 100 | elapsed:    0.0s finished\n",
      "[Parallel(n_jobs=1)]: Using backend SequentialBackend with 1 concurrent workers.\n"
     ]
    },
    {
     "name": "stdout",
     "output_type": "stream",
     "text": [
      "[[6881    0]\n",
      " [   0  608]]\n",
      "Sensitivity: \t1.0\n",
      "Specificity: \t1.0\n",
      "ROC:    \t 1.0\n"
     ]
    },
    {
     "name": "stderr",
     "output_type": "stream",
     "text": [
      "[Parallel(n_jobs=1)]: Done 100 out of 100 | elapsed:    0.0s finished\n"
     ]
    }
   ],
   "source": [
    "# predicting churn on test data\n",
    "y_pred = rand_frt_model.predict(X_test)\n",
    "\n",
    "# creating onfusion matrix\n",
    "print(confusion_matrix(y_test, y_pred))\n",
    "\n",
    "# checking sensitivity and specificity\n",
    "sensitivity, specificity, _ = sensitivity_specificity_support(y_test, y_pred, average='binary')\n",
    "print(\"Sensitivity: \\t\", round(sensitivity, 2), \"\\n\", \"Specificity: \\t\", round(specificity, 2), sep='')\n",
    "\n",
    "# checking area under curve\n",
    "y_pred_prob = rand_frt_model.predict_proba(X_test)[:, 1]\n",
    "print(\"ROC:    \\t\", round(roc_auc_score(y_test, y_pred_prob),2))"
   ]
  },
  {
   "cell_type": "code",
   "execution_count": 120,
   "metadata": {},
   "outputs": [],
   "source": [
    "# predictors\n",
    "feature = High_val_custs.drop('churn', axis=1).columns"
   ]
  },
  {
   "cell_type": "code",
   "execution_count": 121,
   "metadata": {},
   "outputs": [],
   "source": [
    "# feature_importance\n",
    "importance = rand_frt_model.feature_importances_"
   ]
  },
  {
   "cell_type": "code",
   "execution_count": 122,
   "metadata": {},
   "outputs": [],
   "source": [
    "# creating the dataframe\n",
    "feature_imp = pd.DataFrame({'variables': feature, 'importance_percentage': importance*100})\n",
    "feature_imp = feature_imp[['variables', 'importance_percentage']]"
   ]
  },
  {
   "cell_type": "code",
   "execution_count": 123,
   "metadata": {},
   "outputs": [
    {
     "name": "stdout",
     "output_type": "stream",
     "text": [
      "Sum of importance= 100.0\n"
     ]
    },
    {
     "data": {
      "text/html": [
       "<div>\n",
       "<style scoped>\n",
       "    .dataframe tbody tr th:only-of-type {\n",
       "        vertical-align: middle;\n",
       "    }\n",
       "\n",
       "    .dataframe tbody tr th {\n",
       "        vertical-align: top;\n",
       "    }\n",
       "\n",
       "    .dataframe thead th {\n",
       "        text-align: right;\n",
       "    }\n",
       "</style>\n",
       "<table border=\"1\" class=\"dataframe\">\n",
       "  <thead>\n",
       "    <tr style=\"text-align: right;\">\n",
       "      <th></th>\n",
       "      <th>variables</th>\n",
       "      <th>importance_percentage</th>\n",
       "    </tr>\n",
       "  </thead>\n",
       "  <tbody>\n",
       "    <tr>\n",
       "      <th>0</th>\n",
       "      <td>total_ic_mou_9</td>\n",
       "      <td>8.643721</td>\n",
       "    </tr>\n",
       "    <tr>\n",
       "      <th>1</th>\n",
       "      <td>loc_ic_t2m_mou_9</td>\n",
       "      <td>8.636399</td>\n",
       "    </tr>\n",
       "    <tr>\n",
       "      <th>2</th>\n",
       "      <td>loc_ic_mou_9</td>\n",
       "      <td>7.839673</td>\n",
       "    </tr>\n",
       "    <tr>\n",
       "      <th>3</th>\n",
       "      <td>loc_og_mou_9</td>\n",
       "      <td>7.476869</td>\n",
       "    </tr>\n",
       "    <tr>\n",
       "      <th>4</th>\n",
       "      <td>loc_og_t2t_mou_9</td>\n",
       "      <td>6.486731</td>\n",
       "    </tr>\n",
       "    <tr>\n",
       "      <th>...</th>\n",
       "      <td>...</td>\n",
       "      <td>...</td>\n",
       "    </tr>\n",
       "    <tr>\n",
       "      <th>214</th>\n",
       "      <td>std_og_t2c_mou_8</td>\n",
       "      <td>0.000000</td>\n",
       "    </tr>\n",
       "    <tr>\n",
       "      <th>215</th>\n",
       "      <td>std_og_t2c_mou_7</td>\n",
       "      <td>0.000000</td>\n",
       "    </tr>\n",
       "    <tr>\n",
       "      <th>216</th>\n",
       "      <td>std_og_t2c_mou_6</td>\n",
       "      <td>0.000000</td>\n",
       "    </tr>\n",
       "    <tr>\n",
       "      <th>217</th>\n",
       "      <td>loc_ic_t2o_mou</td>\n",
       "      <td>0.000000</td>\n",
       "    </tr>\n",
       "    <tr>\n",
       "      <th>218</th>\n",
       "      <td>std_ic_t2o_mou_8</td>\n",
       "      <td>0.000000</td>\n",
       "    </tr>\n",
       "  </tbody>\n",
       "</table>\n",
       "<p>219 rows × 2 columns</p>\n",
       "</div>"
      ],
      "text/plain": [
       "            variables  importance_percentage\n",
       "0      total_ic_mou_9               8.643721\n",
       "1    loc_ic_t2m_mou_9               8.636399\n",
       "2        loc_ic_mou_9               7.839673\n",
       "3        loc_og_mou_9               7.476869\n",
       "4    loc_og_t2t_mou_9               6.486731\n",
       "..                ...                    ...\n",
       "214  std_og_t2c_mou_8               0.000000\n",
       "215  std_og_t2c_mou_7               0.000000\n",
       "216  std_og_t2c_mou_6               0.000000\n",
       "217    loc_ic_t2o_mou               0.000000\n",
       "218  std_ic_t2o_mou_8               0.000000\n",
       "\n",
       "[219 rows x 2 columns]"
      ]
     },
     "execution_count": 123,
     "metadata": {},
     "output_type": "execute_result"
    }
   ],
   "source": [
    "# sorting the features\n",
    "feature_imp = feature_imp.sort_values('importance_percentage', ascending=False).reset_index(drop=True)\n",
    "print(\"Sum of importance=\", feature_imp.importance_percentage.sum())\n",
    "feature_imp"
   ]
  },
  {
   "cell_type": "code",
   "execution_count": 124,
   "metadata": {},
   "outputs": [],
   "source": [
    "# extract top 'n' features\n",
    "top_features = feature_imp.variables[0:50]"
   ]
  },
  {
   "cell_type": "code",
   "execution_count": 125,
   "metadata": {},
   "outputs": [
    {
     "data": {
      "image/png": "[encoded data removed]",
      "text/plain": [
       "<Figure size 1440x2880 with 2 Axes>"
      ]
     },
     "metadata": {
      "needs_background": "light"
     },
     "output_type": "display_data"
    }
   ],
   "source": [
    "# plot feature correlation\n",
    "plt.figure(figsize = (20,40))\n",
    "mycmap = sns.diverging_palette(199, 359, s=99, center=\"light\", as_cmap=True)\n",
    "sns.heatmap(data=X_train[top_features].corr(), center=0.0,cmap= sns.cubehelix_palette(rot=-.4))\n",
    "plt.show()"
   ]
  },
  {
   "cell_type": "code",
   "execution_count": 126,
   "metadata": {},
   "outputs": [],
   "source": [
    "# Selecting features that are relevent\n",
    "top_features = ['total_ic_mou_8', 'total_rech_amt_diff', 'total_og_mou_8', 'arpu_8', 'roam_ic_mou_8', 'roam_og_mou_8', 'std_ic_mou_8', 'av_rech_amt_data_8', 'std_og_mou_8']\n",
    "X_train = X_train[top_features]\n",
    "X_test = X_test[top_features]"
   ]
  },
  {
   "cell_type": "code",
   "execution_count": 127,
   "metadata": {},
   "outputs": [],
   "source": [
    "# logistic regression\n",
    "step = [('scaler', StandardScaler()),(\"logistic\", LogisticRegression(class_weight={0:0.1, 1:0.9}))]\n",
    "\n",
    "# compiling\n",
    "logistic = Pipeline(step)\n",
    "\n",
    "# hyperparameter\n",
    "param = {'logistic__C': [0.1, 0.5, 1, 2, 3, 4, 5, 10], 'logistic__penalty': ['l1', 'l2']}\n",
    "\n",
    "# 5 folds\n",
    "fold = StratifiedKFold(n_splits = 5, shuffle = True, random_state = 4)\n",
    "\n",
    "# creating gridsearch\n",
    "model = GridSearchCV(estimator = logistic, cv = fold, param_grid = param, scoring = 'roc_auc', n_jobs = -1, verbose = 1)"
   ]
  },
  {
   "cell_type": "code",
   "execution_count": 128,
   "metadata": {},
   "outputs": [
    {
     "name": "stdout",
     "output_type": "stream",
     "text": [
      "Fitting 5 folds for each of 16 candidates, totalling 80 fits\n"
     ]
    },
    {
     "data": {
      "text/plain": [
       "GridSearchCV(cv=StratifiedKFold(n_splits=5, random_state=4, shuffle=True),\n",
       "             estimator=Pipeline(steps=[('scaler', StandardScaler()),\n",
       "                                       ('logistic',\n",
       "                                        LogisticRegression(class_weight={0: 0.1,\n",
       "                                                                         1: 0.9}))]),\n",
       "             n_jobs=-1,\n",
       "             param_grid={'logistic__C': [0.1, 0.5, 1, 2, 3, 4, 5, 10],\n",
       "                         'logistic__penalty': ['l1', 'l2']},\n",
       "             scoring='roc_auc', verbose=1)"
      ]
     },
     "execution_count": 128,
     "metadata": {},
     "output_type": "execute_result"
    }
   ],
   "source": [
    "# fitting the model\n",
    "model.fit(X_train, y_train)"
   ]
  },
  {
   "cell_type": "code",
   "execution_count": 129,
   "metadata": {},
   "outputs": [
    {
     "data": {
      "text/plain": [
       "0.8737283038701744"
      ]
     },
     "execution_count": 129,
     "metadata": {},
     "output_type": "execute_result"
    }
   ],
   "source": [
    "# best hyperparameters score\n",
    "model.best_score_"
   ]
  },
  {
   "cell_type": "code",
   "execution_count": 130,
   "metadata": {},
   "outputs": [
    {
     "data": {
      "text/plain": [
       "{'logistic__C': 10, 'logistic__penalty': 'l2'}"
      ]
     },
     "execution_count": 130,
     "metadata": {},
     "output_type": "execute_result"
    }
   ],
   "source": [
    "# best hyperparameters\n",
    "model.best_params_"
   ]
  },
  {
   "cell_type": "code",
   "execution_count": 131,
   "metadata": {},
   "outputs": [
    {
     "name": "stdout",
     "output_type": "stream",
     "text": [
      "[[5795 1086]\n",
      " [ 120  488]]\n",
      "Sensitivity: \t0.8\n",
      "Specificity: \t0.84\n",
      "ROC:    \t 0.88\n"
     ]
    }
   ],
   "source": [
    "# predicting churn on test data\n",
    "y_pred = model.predict(X_test)\n",
    "\n",
    "# creating onfusion matrix\n",
    "print(confusion_matrix(y_test, y_pred))\n",
    "\n",
    "# checking sensitivity and specificity\n",
    "sensitivity, specificity, _ = sensitivity_specificity_support(y_test, y_pred, average='binary')\n",
    "print(\"Sensitivity: \\t\", round(sensitivity, 2), \"\\n\", \"Specificity: \\t\", round(specificity, 2), sep='')\n",
    "\n",
    "# checking area under curve\n",
    "y_pred_prob = model.predict_proba(X_test)[:, 1]\n",
    "print(\"ROC:    \\t\", round(roc_auc_score(y_test, y_pred_prob),2))"
   ]
  },
  {
   "cell_type": "code",
   "execution_count": 132,
   "metadata": {},
   "outputs": [],
   "source": [
    "logistic_model = model.best_estimator_.named_steps['logistic']"
   ]
  },
  {
   "cell_type": "code",
   "execution_count": 133,
   "metadata": {},
   "outputs": [],
   "source": [
    "# intercept\n",
    "intercept_df = pd.DataFrame(logistic_model.intercept_.reshape((1,1)), columns = ['intercept'])"
   ]
  },
  {
   "cell_type": "code",
   "execution_count": 134,
   "metadata": {},
   "outputs": [],
   "source": [
    "# coefficients\n",
    "coefficient = logistic_model.coef_.reshape((9, 1)).tolist()\n",
    "coefficient = [val for sublist in coefficient for val in sublist]\n",
    "coefficient = [round(coefficient, 3) for coefficient in coefficient]\n",
    "logistic_feature = list(X_train.columns)\n",
    "coefficients_df = pd.DataFrame(logistic_model.coef_, columns=logistic_feature)"
   ]
  },
  {
   "cell_type": "code",
   "execution_count": 135,
   "metadata": {},
   "outputs": [
    {
     "data": {
      "text/html": [
       "<div>\n",
       "<style scoped>\n",
       "    .dataframe tbody tr th:only-of-type {\n",
       "        vertical-align: middle;\n",
       "    }\n",
       "\n",
       "    .dataframe tbody tr th {\n",
       "        vertical-align: top;\n",
       "    }\n",
       "\n",
       "    .dataframe thead th {\n",
       "        text-align: right;\n",
       "    }\n",
       "</style>\n",
       "<table border=\"1\" class=\"dataframe\">\n",
       "  <thead>\n",
       "    <tr style=\"text-align: right;\">\n",
       "      <th></th>\n",
       "      <th>intercept</th>\n",
       "      <th>total_ic_mou_8</th>\n",
       "      <th>total_rech_amt_diff</th>\n",
       "      <th>total_og_mou_8</th>\n",
       "      <th>arpu_8</th>\n",
       "      <th>roam_ic_mou_8</th>\n",
       "      <th>roam_og_mou_8</th>\n",
       "      <th>std_ic_mou_8</th>\n",
       "      <th>av_rech_amt_data_8</th>\n",
       "      <th>std_og_mou_8</th>\n",
       "    </tr>\n",
       "  </thead>\n",
       "  <tbody>\n",
       "    <tr>\n",
       "      <th>0</th>\n",
       "      <td>-1.51938</td>\n",
       "      <td>-1.149391</td>\n",
       "      <td>-0.70291</td>\n",
       "      <td>-1.52744</td>\n",
       "      <td>0.236451</td>\n",
       "      <td>-0.020204</td>\n",
       "      <td>0.212363</td>\n",
       "      <td>0.062618</td>\n",
       "      <td>-0.791111</td>\n",
       "      <td>0.941812</td>\n",
       "    </tr>\n",
       "  </tbody>\n",
       "</table>\n",
       "</div>"
      ],
      "text/plain": [
       "   intercept  total_ic_mou_8  total_rech_amt_diff  total_og_mou_8    arpu_8  \\\n",
       "0   -1.51938       -1.149391             -0.70291        -1.52744  0.236451   \n",
       "\n",
       "   roam_ic_mou_8  roam_og_mou_8  std_ic_mou_8  av_rech_amt_data_8  \\\n",
       "0      -0.020204       0.212363      0.062618           -0.791111   \n",
       "\n",
       "   std_og_mou_8  \n",
       "0      0.941812  "
      ]
     },
     "execution_count": 135,
     "metadata": {},
     "output_type": "execute_result"
    }
   ],
   "source": [
    "# concatenate dataframes\n",
    "coefficients = pd.concat([intercept_df, coefficients_df], axis=1)\n",
    "coefficients"
   ]
  },
  {
   "cell_type": "markdown",
   "metadata": {},
   "source": [
    "### Main indicator of churn :-\n",
    "From above factors it is clear that the factors affecting the churn are :-<br> total_ic_mou_8 (Total incoming call: Minutes of usage in the action phase), total_rech_amt_diff (Total recharge amount difference), total_og_mou_8 (Total outgoing call: Minutes of usage in the action phase), arpu (Average revenue per user), roam_ic_mou_8 (Roaming incoming call: Minutes of usage in the action phase), roam_og_mou_8 (Roaming outgoing call: Minutes of usage in the action phase), std_ic_mou_8(STD incoming call: Minutes of usage in the action phase), std_og_mou_8 (STD outgoing call: Minutes of usage in the action phase), av_rech_amt_data_8(average recharge amount in the action phase)."
   ]
  },
  {
   "cell_type": "markdown",
   "metadata": {},
   "source": [
    "### Below are the steps to reduce Churn :-\n",
    "1. Give special discounts to customers according to their usage.\n",
    "2. Provide additional internet services on recharge.\n",
    "3. Expansion of 3G network where 3G is currently not available.\n",
    "4. Lower tariffs on data usage.\n",
    "5. Speak to customers to fulfil their desires.\n",
    "6. A better 2G area coverage where 3G is not available."
   ]
  }
 ],
 "metadata": {
  "kernelspec": {
   "display_name": "Python 3",
   "language": "python",
   "name": "python3"
  },
  "language_info": {
   "codemirror_mode": {
    "name": "ipython",
    "version": 3
   },
   "file_extension": ".py",
   "mimetype": "text/x-python",
   "name": "python",
   "nbconvert_exporter": "python",
   "pygments_lexer": "ipython3",
   "version": "3.7.6"
  }
 },
 "nbformat": 4,
 "nbformat_minor": 4
}
